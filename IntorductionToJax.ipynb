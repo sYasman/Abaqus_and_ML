{
  "nbformat": 4,
  "nbformat_minor": 0,
  "metadata": {
    "colab": {
      "provenance": [],
      "authorship_tag": "ABX9TyOrHhayd30MOqDKMNF814ca",
      "include_colab_link": true
    },
    "kernelspec": {
      "name": "python3",
      "display_name": "Python 3"
    },
    "language_info": {
      "name": "python"
    },
    "gpuClass": "standard"
  },
  "cells": [
    {
      "cell_type": "markdown",
      "metadata": {
        "id": "view-in-github",
        "colab_type": "text"
      },
      "source": [
        "<a href=\"https://colab.research.google.com/github/sYasman/Abaqus_and_ML/blob/main/IntorductionToJax.ipynb\" target=\"_parent\"><img src=\"https://colab.research.google.com/assets/colab-badge.svg\" alt=\"Open In Colab\"/></a>"
      ]
    },
    {
      "cell_type": "markdown",
      "source": [
        "# Jax Tutorial"
      ],
      "metadata": {
        "id": "vl84oMBQRMYb"
      }
    },
    {
      "cell_type": "code",
      "execution_count": null,
      "metadata": {
        "id": "ejg4G2PDRKfz"
      },
      "outputs": [],
      "source": [
        "import jax\n",
        "import jax.numpy as jnp"
      ]
    },
    {
      "cell_type": "markdown",
      "source": [
        "## Jax is similar to NumPy"
      ],
      "metadata": {
        "id": "uWu7nkWKSwMa"
      }
    },
    {
      "cell_type": "code",
      "source": [
        "x = jnp.linspace(0, 10, num=100)"
      ],
      "metadata": {
        "colab": {
          "base_uri": "https://localhost:8080/"
        },
        "id": "I7vzJVLBRWLH",
        "outputId": "43c8f1c9-21d9-4fb9-a57a-7ba01ec4fb91"
      },
      "execution_count": null,
      "outputs": [
        {
          "output_type": "stream",
          "name": "stderr",
          "text": [
            "WARNING:jax._src.lib.xla_bridge:No GPU/TPU found, falling back to CPU. (Set TF_CPP_MIN_LOG_LEVEL=0 and rerun for more info.)\n"
          ]
        }
      ]
    },
    {
      "cell_type": "code",
      "source": [
        "x[:3]"
      ],
      "metadata": {
        "colab": {
          "base_uri": "https://localhost:8080/"
        },
        "id": "doF2kdUqRony",
        "outputId": "6a0309c9-3d85-41f0-ec4f-0de243ba8ab5"
      },
      "execution_count": null,
      "outputs": [
        {
          "output_type": "execute_result",
          "data": {
            "text/plain": [
              "DeviceArray([0.       , 0.1010101, 0.2020202], dtype=float32)"
            ]
          },
          "metadata": {},
          "execution_count": 3
        }
      ]
    },
    {
      "cell_type": "code",
      "source": [
        "# Can not assign new values like numpy !\n",
        "# x[0] = -1"
      ],
      "metadata": {
        "id": "HyIIvrBQRrBp"
      },
      "execution_count": null,
      "outputs": []
    },
    {
      "cell_type": "code",
      "source": [
        "from jax._src.api import block_until_ready\n",
        "long_vector = jnp.arange(int(1e7))\n",
        "\n",
        "%timeit jnp.dot(long_vector, long_vector).block_until_ready()"
      ],
      "metadata": {
        "colab": {
          "base_uri": "https://localhost:8080/"
        },
        "id": "NJwGcSftRwVG",
        "outputId": "0716d28a-d1ce-4c69-f0a2-ff3a865dcafe"
      },
      "execution_count": null,
      "outputs": [
        {
          "output_type": "stream",
          "name": "stdout",
          "text": [
            "9.55 ms ± 123 µs per loop (mean ± std. dev. of 7 runs, 100 loops each)\n"
          ]
        }
      ]
    },
    {
      "cell_type": "markdown",
      "source": [
        "## Grad"
      ],
      "metadata": {
        "id": "KdVeKqMsSsGq"
      }
    },
    {
      "cell_type": "code",
      "source": [
        "def sum_of_squares(x):\n",
        "  return jnp.sum(x**2)"
      ],
      "metadata": {
        "id": "4X8Sl9sfSfbF"
      },
      "execution_count": null,
      "outputs": []
    },
    {
      "cell_type": "code",
      "source": [
        "sum_of_squares_dx = jax.grad(sum_of_squares)\n",
        "x = jnp.asarray([1., 2., 3., 4.])\n",
        "print(sum_of_squares(x))\n",
        "print(sum_of_squares_dx(x)) # df/dx"
      ],
      "metadata": {
        "colab": {
          "base_uri": "https://localhost:8080/"
        },
        "id": "VVt4c2ZZTQbm",
        "outputId": "104f292e-371f-4d81-e599-12b5312f8f31"
      },
      "execution_count": null,
      "outputs": [
        {
          "output_type": "stream",
          "name": "stdout",
          "text": [
            "30.0\n",
            "[2. 4. 6. 8.]\n"
          ]
        }
      ]
    },
    {
      "cell_type": "markdown",
      "source": [
        "### Simple Newton-Raphson Example"
      ],
      "metadata": {
        "id": "BV3NpJp4VUGL"
      }
    },
    {
      "cell_type": "code",
      "source": [
        "def f(x):\n",
        "  return jnp.sinh(x**3 - 10)\n",
        "\n",
        "x = 1.\n",
        "diff = 1e3\n",
        "iter_max = 100\n",
        "iter_num = 1\n",
        "TOL = 1e-3\n",
        "while diff > TOL:\n",
        "  df_dx = jax.grad(f)\n",
        "  x = x - f(x)/df_dx(x)\n",
        "  diff = jnp.abs(f(x))\n",
        "  iter_num += 1\n",
        "  if iter_num > iter_max:\n",
        "    print('Did not converge')\n",
        "    break\n",
        "  if diff < TOL:\n",
        "    print(f'Root is found after {iter_num} iterations')\n",
        "    print(f'The root is {x}')"
      ],
      "metadata": {
        "colab": {
          "base_uri": "https://localhost:8080/"
        },
        "id": "N1e-mEHQU-1_",
        "outputId": "e118a2a2-7b9a-4dbd-dcfc-eda531e98e10"
      },
      "execution_count": null,
      "outputs": [
        {
          "output_type": "stream",
          "name": "stdout",
          "text": [
            "Root is found after 11 iterations\n",
            "The root is 2.1544349193573\n"
          ]
        }
      ]
    },
    {
      "cell_type": "code",
      "source": [
        "def f(x, y):\n",
        "  return x**2 + y**2\n",
        "\n",
        "df_dx = jax.grad(f) # simply 2x ! Derivative w.r.t. only first variable ! -> If (x=1, y=2) -> df_dx = 2\n",
        "df_dx(1.,2.)\n",
        "\n",
        "df_dxdy = jax.grad(f, argnums=(0,1)) # derivative w.r.t both x and y -> df_dxy = [2x, 2y]\n",
        "df_dxdy(1., 2.2)"
      ],
      "metadata": {
        "colab": {
          "base_uri": "https://localhost:8080/"
        },
        "id": "Uj1r_bOep7GQ",
        "outputId": "5bf51408-a169-499f-9d4f-4a8dc852e0ee"
      },
      "execution_count": null,
      "outputs": [
        {
          "output_type": "execute_result",
          "data": {
            "text/plain": [
              "(DeviceArray(2., dtype=float32, weak_type=True),\n",
              " DeviceArray(4.4, dtype=float32, weak_type=True))"
            ]
          },
          "metadata": {},
          "execution_count": 9
        }
      ]
    },
    {
      "cell_type": "code",
      "source": [
        "def g(x, y, z):\n",
        "  return x**2 + y**2 + z**3\n",
        "\n",
        "dg_dxdz = jax.grad(g, argnums=(0, 2)) #derivative w.r.t. x and z -> [2*x, 3*z**2]\n",
        "dg_dxdz(1., 2., 1.)"
      ],
      "metadata": {
        "colab": {
          "base_uri": "https://localhost:8080/"
        },
        "id": "yQuUrJqkqsqJ",
        "outputId": "cbbdce78-242e-4139-e9ec-cd3ec6ebc73e"
      },
      "execution_count": null,
      "outputs": [
        {
          "output_type": "execute_result",
          "data": {
            "text/plain": [
              "(DeviceArray(2., dtype=float32, weak_type=True),\n",
              " DeviceArray(3., dtype=float32, weak_type=True))"
            ]
          },
          "metadata": {},
          "execution_count": 10
        }
      ]
    },
    {
      "cell_type": "code",
      "source": [
        "def sum_squared_error(x, y):\n",
        "  return jnp.sum( (x-y)**2)\n",
        "\n",
        "x = jnp.asarray([1., 2., 3., 4.])\n",
        "y = jnp.asarray([1.1, 2.1, 3.1, 4.1])\n",
        "\n",
        "print(sum_squared_error(x,y))\n",
        "df_dx = jax.grad(sum_squared_error) # derivative w.r.t. x --> 2(x-y)\n",
        "print(df_dx(x, y))"
      ],
      "metadata": {
        "colab": {
          "base_uri": "https://localhost:8080/"
        },
        "id": "agwJMpHozuXS",
        "outputId": "08cf0913-204c-4257-e116-9ffe4d8e3513"
      },
      "execution_count": null,
      "outputs": [
        {
          "output_type": "stream",
          "name": "stdout",
          "text": [
            "0.039999947\n",
            "[-0.20000005 -0.19999981 -0.19999981 -0.19999981]\n"
          ]
        }
      ]
    },
    {
      "cell_type": "code",
      "source": [
        "jax.value_and_grad(sum_squared_error, argnums=(0, 1))(x, y) # derivatives w.r.t x and y. Then evalute the derivative w.r.t. x at x,y"
      ],
      "metadata": {
        "colab": {
          "base_uri": "https://localhost:8080/"
        },
        "id": "MbRk6q0N0Qyy",
        "outputId": "1e3203a9-82ea-46e6-e363-05bebb2f4a9b"
      },
      "execution_count": null,
      "outputs": [
        {
          "output_type": "execute_result",
          "data": {
            "text/plain": [
              "(DeviceArray(0.03999995, dtype=float32),\n",
              " (DeviceArray([-0.20000005, -0.19999981, -0.19999981, -0.19999981], dtype=float32),\n",
              "  DeviceArray([0.20000005, 0.19999981, 0.19999981, 0.19999981], dtype=float32)))"
            ]
          },
          "metadata": {},
          "execution_count": 18
        }
      ]
    },
    {
      "cell_type": "code",
      "source": [
        "# to return more than one result\n",
        "def sum_squared_error(x, y):\n",
        "  return jnp.sum( (x-y)**2)\n",
        "\n",
        "def f_with_aux(x, y):\n",
        "  return sum_squared_error(x, y), x-y\n",
        "\n",
        "# jax.grad(f_with_aux)(x, y) # error.\n",
        "jax.grad(f_with_aux, has_aux=True)(x, y) # returns (output, auxilary_data)"
      ],
      "metadata": {
        "colab": {
          "base_uri": "https://localhost:8080/"
        },
        "id": "oPASGTbf2kJK",
        "outputId": "f0d78c7e-dd8d-4ff9-b1f1-f244598c0a39"
      },
      "execution_count": null,
      "outputs": [
        {
          "output_type": "execute_result",
          "data": {
            "text/plain": [
              "(DeviceArray([-0.20000005, -0.19999981, -0.19999981, -0.19999981], dtype=float32),\n",
              " DeviceArray([-0.10000002, -0.0999999 , -0.0999999 , -0.0999999 ], dtype=float32))"
            ]
          },
          "metadata": {},
          "execution_count": 22
        }
      ]
    },
    {
      "cell_type": "markdown",
      "source": [
        "### Assign new values to JAX vectors (or matrix of course AMK)"
      ],
      "metadata": {
        "id": "H5IvOyi15kgT"
      }
    },
    {
      "cell_type": "code",
      "source": [
        "x = jnp.array([1., 2., 3.])\n",
        "\n",
        "print(f'Before change: {x}')\n",
        "\n",
        "x = x.at[0].set(123)\n",
        "print(f'After change: {x}')\n",
        "\n",
        "\n",
        "def set_el(x, i, val):\n",
        "  return x.at[i].set(val)\n",
        "\n",
        "x = set_el(x, 0, 0)\n",
        "print(f'After fucntion call x: {x}')"
      ],
      "metadata": {
        "colab": {
          "base_uri": "https://localhost:8080/"
        },
        "id": "UDy9lKKo5OkR",
        "outputId": "01c75511-b007-4112-b68f-e5ac00bc1584"
      },
      "execution_count": null,
      "outputs": [
        {
          "output_type": "stream",
          "name": "stdout",
          "text": [
            "Before change: [1. 2. 3.]\n",
            "After change: [123.   2.   3.]\n",
            "After fucntion call x: [0. 2. 3.]\n"
          ]
        }
      ]
    },
    {
      "cell_type": "markdown",
      "source": [
        "## Simple Training loop for linear regression"
      ],
      "metadata": {
        "id": "kKzjuJYu91dL"
      }
    },
    {
      "cell_type": "code",
      "source": [
        "import matplotlib.pyplot as plt\n",
        "import numpy as np"
      ],
      "metadata": {
        "id": "1anZ68eG91ME"
      },
      "execution_count": null,
      "outputs": []
    },
    {
      "cell_type": "code",
      "source": [
        "xs = np.random.normal(size=(100, ))\n",
        "noise = np.random.normal(scale=0.100, size=(100, ))\n",
        "ys = xs*3 * 1 + noise"
      ],
      "metadata": {
        "id": "QpV3UJTe9-Gz"
      },
      "execution_count": null,
      "outputs": []
    },
    {
      "cell_type": "code",
      "source": [
        "fig, ax = plt.subplots(figsize=(8, 5), dpi=100)\n",
        "ax.scatter(xs, ys)\n",
        "ax.set_xlabel('x-data')\n",
        "ax.set_ylabel('y-data')\n",
        "ax.set_title('Simple data described by $y_s = 3x_s + NOISE$')\n",
        "ax.grid()\n"
      ],
      "metadata": {
        "colab": {
          "base_uri": "https://localhost:8080/",
          "height": 482
        },
        "id": "ivKpqIY49LKD",
        "outputId": "e2f51928-6023-4b8d-d657-83cfb850def7"
      },
      "execution_count": null,
      "outputs": [
        {
          "output_type": "display_data",
          "data": {
            "text/plain": [
              "<Figure size 800x500 with 1 Axes>"
            ],
            "image/png": "[encoded data removed]"
          },
          "metadata": {
            "needs_background": "light"
          }
        }
      ]
    },
    {
      "cell_type": "code",
      "source": [
        "# model is y_pred = wx + b\n",
        "def model(theta, x):\n",
        "  w, b = theta\n",
        "  return w*x + b\n",
        "\n",
        "# define loss function as mean squared error :=  mean(y_pred - y)^2\n",
        "def loss_fn(theta, x, y):\n",
        "  y_pred = model(theta, x)\n",
        "  return jnp.mean( (y_pred-y)**2)"
      ],
      "metadata": {
        "id": "yWsOEHmc-tfE"
      },
      "execution_count": null,
      "outputs": []
    },
    {
      "cell_type": "code",
      "source": [
        "# add one step of NR\n",
        "# theta_new = theta_n - lr* d(loss)/d(theta) # derivative w.r.t. trainable variables\n",
        "def update(theta, x, y, lr=0.10):\n",
        "  return theta - lr * jax.grad(loss_fn)(theta, x, y)"
      ],
      "metadata": {
        "id": "ywseR3SIJZbT"
      },
      "execution_count": null,
      "outputs": []
    },
    {
      "cell_type": "code",
      "source": [
        "theta = jnp.array([1., 1.])\n",
        "\n",
        "for _ in range(1000):\n",
        "  theta = update(theta, xs, ys)"
      ],
      "metadata": {
        "id": "pwgl39YdJ_ZH"
      },
      "execution_count": null,
      "outputs": []
    },
    {
      "cell_type": "code",
      "source": [
        "fig, ax = plt.subplots(figsize=(8, 5), dpi=100)\n",
        "ax.scatter(xs, ys)\n",
        "ax.scatter(xs, model(theta, xs))"
      ],
      "metadata": {
        "colab": {
          "base_uri": "https://localhost:8080/",
          "height": 455
        },
        "id": "34pZuISuKe5R",
        "outputId": "828e12b6-111a-4f1a-9376-e49aea750d13"
      },
      "execution_count": null,
      "outputs": [
        {
          "output_type": "execute_result",
          "data": {
            "text/plain": [
              "<matplotlib.collections.PathCollection at 0x7f2722958940>"
            ]
          },
          "metadata": {},
          "execution_count": 55
        },
        {
          "output_type": "display_data",
          "data": {
            "text/plain": [
              "<Figure size 800x500 with 1 Axes>"
            ],
            "image/png": "[encoded data removed]"
          },
          "metadata": {
            "needs_background": "light"
          }
        }
      ]
    },
    {
      "cell_type": "code",
      "source": [
        "theta"
      ],
      "metadata": {
        "colab": {
          "base_uri": "https://localhost:8080/"
        },
        "id": "NzHK2IaOK_78",
        "outputId": "8e72b258-5506-41b3-bee0-29dd475a17b9"
      },
      "execution_count": null,
      "outputs": [
        {
          "output_type": "execute_result",
          "data": {
            "text/plain": [
              "DeviceArray([3.0240538e+00, 9.4685022e-04], dtype=float32)"
            ]
          },
          "metadata": {},
          "execution_count": 51
        }
      ]
    },
    {
      "cell_type": "markdown",
      "source": [
        "## Newton Raphson with multiple variables\n",
        "$\\begin{equation}\n",
        "\\begin{aligned}\n",
        "x + y + z &= 3\\\\\n",
        "x^2 + y^2 + z^2 &= 5\\\\\n",
        "e^x + xy - xz &= 1\n",
        "\\end{aligned}\n",
        "\\end{equation}$"
      ],
      "metadata": {
        "id": "5WcoyyXVNeBk"
      }
    },
    {
      "cell_type": "code",
      "source": [
        "@jax.jit\n",
        "def eq(x):\n",
        "  return jnp.asarray(\n",
        "      [x[0] + x[1] + x[2] - 3., \n",
        "       x[0]**2 + x[1]**2 + x[2]**2 - 5., \n",
        "       jnp.exp(x[0])+x[0]*x[1]-x[0]*x[2] - 1]\n",
        "  )\n",
        "\n",
        "iter_max = 10000\n",
        "TOL = 1e-6\n",
        "DIFF = 10.\n",
        "NORMS = []\n",
        "x = jnp.array([-1., 0., 0.])\n",
        "alpha = 1e-2\n",
        "for iter_ in range(iter_max):\n",
        "  J = jax.jacobian(eq)(x)\n",
        "  Y = eq(x)\n",
        "  dX =jnp.linalg.solve(J, Y)\n",
        "  x = x - alpha * dX\n",
        "  nrm = jnp.linalg.norm(eq(x))\n",
        "  NORMS.append(nrm)\n",
        "  if nrm < TOL:\n",
        "    print(f'Converged after {iter_} iterations.')\n",
        "    print(f'Residual: {nrm:.9f}')\n",
        "    print(f'X: {x}')\n",
        "    break\n",
        "  # print(x,nrm)"
      ],
      "metadata": {
        "colab": {
          "base_uri": "https://localhost:8080/"
        },
        "id": "073WGOpKLBNZ",
        "outputId": "f45e229f-70dc-466a-cb75-8cb923ba76c5"
      },
      "execution_count": null,
      "outputs": [
        {
          "output_type": "stream",
          "name": "stdout",
          "text": [
            "Converged after 1495 iterations.\n",
            "Residual: 0.000000970\n",
            "X: [-2.7817852e-04  1.0005549e+00  1.9997224e+00]\n"
          ]
        }
      ]
    },
    {
      "cell_type": "code",
      "source": [
        "fig, ax = plt.subplots(figsize=(8, 5), dpi=100)\n",
        "ax.plot(NORMS)\n",
        "ax.set_xlabel('# iteration')\n",
        "ax.set_ylabel('Residual')\n",
        "ax.set_title('Simple NR for three variables')\n",
        "ax.grid()"
      ],
      "metadata": {
        "colab": {
          "base_uri": "https://localhost:8080/",
          "height": 480
        },
        "id": "1fi0miKnbO6h",
        "outputId": "4057d6db-74ae-4362-ff6d-d7c557a2b936"
      },
      "execution_count": null,
      "outputs": [
        {
          "output_type": "display_data",
          "data": {
            "text/plain": [
              "<Figure size 800x500 with 1 Axes>"
            ],
            "image/png": "[encoded data removed]"
          },
          "metadata": {
            "needs_background": "light"
          }
        }
      ]
    },
    {
      "cell_type": "markdown",
      "source": [
        "## Just In Time Complier"
      ],
      "metadata": {
        "id": "uadT6HpvSqo0"
      }
    },
    {
      "cell_type": "code",
      "source": [
        "import jax\n",
        "import jax.numpy as jnp\n",
        "import numpy as np\n",
        "import matplotlib.pyplot as plt"
      ],
      "metadata": {
        "id": "_fv4XP4ZSnm9"
      },
      "execution_count": null,
      "outputs": []
    },
    {
      "cell_type": "code",
      "source": [
        "def selu(x, alpha=1.67, lambda_=1.05):\n",
        "  return lambda_ * jnp.where(x > 0, x, alpha*jnp.exp(x) - alpha)\n",
        "\n",
        "x = jnp.arange(1_000_000)\n",
        "%timeit selu(x).block_until_ready()\n",
        "\n",
        "selu_jit = jax.jit(selu)\n",
        "\n",
        "selu_jit(x).block_until_ready()\n",
        "\n",
        "%timeit selu_jit(x).block_until_ready"
      ],
      "metadata": {
        "colab": {
          "base_uri": "https://localhost:8080/"
        },
        "id": "TXb_hmRZPDQc",
        "outputId": "196271bd-05de-48dc-e7e3-0ae68cc05b32"
      },
      "execution_count": null,
      "outputs": [
        {
          "output_type": "stream",
          "name": "stdout",
          "text": [
            "3.67 ms ± 158 µs per loop (mean ± std. dev. of 7 runs, 100 loops each)\n",
            "1.42 ms ± 259 µs per loop (mean ± std. dev. of 7 runs, 1000 loops each)\n"
          ]
        }
      ]
    },
    {
      "cell_type": "code",
      "source": [],
      "metadata": {
        "id": "FfQ7f4AGP0Af"
      },
      "execution_count": null,
      "outputs": []
    }
  ]
}