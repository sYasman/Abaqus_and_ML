{
  "nbformat": 4,
  "nbformat_minor": 0,
  "metadata": {
    "colab": {
      "provenance": [],
      "collapsed_sections": [],
      "authorship_tag": "ABX9TyMrw0NvlQMX/LSAaGy3c/Rh",
      "include_colab_link": true
    },
    "kernelspec": {
      "name": "python3",
      "display_name": "Python 3"
    },
    "language_info": {
      "name": "python"
    },
    "accelerator": "GPU",
    "gpuClass": "standard"
  },
  "cells": [
    {
      "cell_type": "markdown",
      "metadata": {
        "id": "view-in-github",
        "colab_type": "text"
      },
      "source": [
        "<a href=\"https://colab.research.google.com/github/sYasman/Advance_NN_examples/blob/main/GradientTape_CustomLayers_CustonLosses.ipynb\" target=\"_parent\"><img src=\"https://colab.research.google.com/assets/colab-badge.svg\" alt=\"Open In Colab\"/></a>"
      ]
    },
    {
      "cell_type": "code",
      "source": [
        "import tensorflow as tf"
      ],
      "metadata": {
        "id": "wk7kTe4k41Ps"
      },
      "execution_count": 1,
      "outputs": []
    },
    {
      "cell_type": "code",
      "execution_count": 2,
      "metadata": {
        "colab": {
          "base_uri": "https://localhost:8080/"
        },
        "id": "06F1NWX7uJAW",
        "outputId": "5b72c316-850a-43ff-dd66-0f0c15acd168"
      },
      "outputs": [
        {
          "output_type": "stream",
          "name": "stdout",
          "text": [
            "x\t diff\t iter\n",
            "1.556\t2.086\t1\n",
            "1.324\t0.723\t2\n",
            "1.243\t0.276\t3\n",
            "1.213\t0.109\t4\n",
            "1.201\t0.043\t5\n",
            "1.196\t0.017\t6\n",
            "1.194\t0.007\t7\n",
            "1.193\t0.003\t8\n",
            "1.193\t0.001\t9\n",
            "1.193\t0.000\t10\n"
          ]
        }
      ],
      "source": [
        "# very basic Newton-Raphon algorithm\n",
        "x = tf.constant(3.0)\n",
        "\n",
        "with tf.GradientTape(persistent=False) as t:\n",
        "    print('x\\t diff\\t iter')\n",
        "    t.watch(x)\n",
        "    f = lambda x: x**2+3*x-5\n",
        "    diff = 1\n",
        "    iter_num = 1\n",
        "    dy_dx = t.gradient(f(x), x)\n",
        "    dy_dx_num = dy_dx.numpy()    \n",
        "    while diff > 1e-3 and iter_num < 20:\n",
        "        x = x - f(x) / dy_dx_num\n",
        "        diff = tf.abs(f(x))\n",
        "        print(f'{x.numpy():4.3f}\\t{diff.numpy():4.3f}\\t{iter_num}')\n",
        "        iter_num +=1\n",
        "\n",
        "del t"
      ]
    },
    {
      "cell_type": "markdown",
      "source": [
        "# Using Custom Training Loop to simple Fashion MNIST Dataset"
      ],
      "metadata": {
        "id": "_CBV-_Vx48k7"
      }
    },
    {
      "cell_type": "code",
      "source": [
        "# imports\n",
        "import tensorflow as tf\n",
        "import tensorflow_datasets as tfds\n",
        "from tensorflow.keras.utils import plot_model\n",
        "from tqdm import tqdm\n",
        "import numpy as np\n",
        "\n",
        "import matplotlib.pyplot as plt\n",
        "import matplotlib.ticker as mticker\n"
      ],
      "metadata": {
        "id": "gDjvCOam44oc"
      },
      "execution_count": 3,
      "outputs": []
    },
    {
      "cell_type": "code",
      "source": [
        "(train_data, test_data), info = tfds.load(\"fashion_mnist\", split=['train', 'test'], with_info=True)"
      ],
      "metadata": {
        "id": "GYeBI-sx5G1-"
      },
      "execution_count": 4,
      "outputs": []
    },
    {
      "cell_type": "code",
      "source": [
        "print(info)\n",
        "# image size (28, 28, 1)\n",
        "# 10 classes (NOT categorical)"
      ],
      "metadata": {
        "id": "J1cmyosY5hmz",
        "colab": {
          "base_uri": "https://localhost:8080/"
        },
        "outputId": "080921e8-6266-4152-d302-b79f51db9c0a"
      },
      "execution_count": 5,
      "outputs": [
        {
          "output_type": "stream",
          "name": "stdout",
          "text": [
            "tfds.core.DatasetInfo(\n",
            "    name='fashion_mnist',\n",
            "    full_name='fashion_mnist/3.0.1',\n",
            "    description=\"\"\"\n",
            "    Fashion-MNIST is a dataset of Zalando's article images consisting of a training set of 60,000 examples and a test set of 10,000 examples. Each example is a 28x28 grayscale image, associated with a label from 10 classes.\n",
            "    \"\"\",\n",
            "    homepage='https://github.com/zalandoresearch/fashion-mnist',\n",
            "    data_path='~/tensorflow_datasets/fashion_mnist/3.0.1',\n",
            "    file_format=tfrecord,\n",
            "    download_size=29.45 MiB,\n",
            "    dataset_size=36.42 MiB,\n",
            "    features=FeaturesDict({\n",
            "        'image': Image(shape=(28, 28, 1), dtype=tf.uint8),\n",
            "        'label': ClassLabel(shape=(), dtype=tf.int64, num_classes=10),\n",
            "    }),\n",
            "    supervised_keys=('image', 'label'),\n",
            "    disable_shuffling=False,\n",
            "    splits={\n",
            "        'test': <SplitInfo num_examples=10000, num_shards=1>,\n",
            "        'train': <SplitInfo num_examples=60000, num_shards=1>,\n",
            "    },\n",
            "    citation=\"\"\"@article{DBLP:journals/corr/abs-1708-07747,\n",
            "      author    = {Han Xiao and\n",
            "                   Kashif Rasul and\n",
            "                   Roland Vollgraf},\n",
            "      title     = {Fashion-MNIST: a Novel Image Dataset for Benchmarking Machine Learning\n",
            "                   Algorithms},\n",
            "      journal   = {CoRR},\n",
            "      volume    = {abs/1708.07747},\n",
            "      year      = {2017},\n",
            "      url       = {http://arxiv.org/abs/1708.07747},\n",
            "      archivePrefix = {arXiv},\n",
            "      eprint    = {1708.07747},\n",
            "      timestamp = {Mon, 13 Aug 2018 16:47:27 +0200},\n",
            "      biburl    = {https://dblp.org/rec/bib/journals/corr/abs-1708-07747},\n",
            "      bibsource = {dblp computer science bibliography, https://dblp.org}\n",
            "    }\"\"\",\n",
            ")\n"
          ]
        }
      ]
    },
    {
      "cell_type": "code",
      "source": [
        "class_names = [\"T-shirt/top\", \"Trouser/pants\", \"Pullover shirt\", \"Dress\", \"Coat\", \"Sandal\", \"Shirt\", \"Sneaker\", \"Bag\", \"Ankle boot\"]"
      ],
      "metadata": {
        "id": "xfJoe3gN5nTE"
      },
      "execution_count": 6,
      "outputs": []
    },
    {
      "cell_type": "code",
      "source": [
        "# next(iter(train_data))"
      ],
      "metadata": {
        "id": "DmWc8WT257kc"
      },
      "execution_count": 7,
      "outputs": []
    },
    {
      "cell_type": "code",
      "source": [
        "# helper function to normalize image\n",
        "# TODO: you may also do some image augmentation here.\n",
        "def format_image(data):\n",
        "  image = data[\"image\"]\n",
        "  label = data[\"label\"]\n",
        "  image = tf.reshape(image, [-1]) #flatten the image\n",
        "  image = tf.cast(image, 'float32')\n",
        "  inage = image / 255.\n",
        "  return image, label"
      ],
      "metadata": {
        "id": "FXw_YDUv6Oht"
      },
      "execution_count": 8,
      "outputs": []
    },
    {
      "cell_type": "code",
      "source": [
        "# map the previously created format_image function to train and test data\n",
        "train_data = train_data.map(format_image)\n",
        "test_data = test_data.map(format_image)"
      ],
      "metadata": {
        "id": "qA8oCJL160P8"
      },
      "execution_count": 9,
      "outputs": []
    },
    {
      "cell_type": "code",
      "source": [
        "# shuffle and batch data\n",
        "SHUFFLE_SIZE = 1024\n",
        "BATCH_SIZE = 64\n",
        "train = train_data.shuffle(SHUFFLE_SIZE).batch(BATCH_SIZE)\n",
        "test = test_data.batch(batch_size=BATCH_SIZE)"
      ],
      "metadata": {
        "id": "hxlqADAe7HJM"
      },
      "execution_count": 10,
      "outputs": []
    },
    {
      "cell_type": "code",
      "source": [
        "# define the model\n",
        "def base_model():\n",
        "  inputs_ = tf.keras.Input(shape=(784,), name='input_layer')\n",
        "  x = tf.keras.layers.Dense(64, activation='relu', name='dense_1')(inputs_)\n",
        "  x = tf.keras.layers.Dense(64, activation='relu', name='dense_2')(x)\n",
        "  outputs_ = tf.keras.layers.Dense(10, activation='softmax', name='pred')(x)\n",
        "  model = tf.keras.Model(inputs=inputs_, outputs=outputs_)\n",
        "  return model"
      ],
      "metadata": {
        "id": "3KyRvG5N8KPt"
      },
      "execution_count": 23,
      "outputs": []
    },
    {
      "cell_type": "code",
      "source": [
        "model = base_model()\n",
        "\n",
        "plot_model(model, show_shapes=True, show_layer_names=True, show_layer_activations=True)"
      ],
      "metadata": {
        "id": "X-9FrO7B8ygb",
        "colab": {
          "base_uri": "https://localhost:8080/",
          "height": 422
        },
        "outputId": "229c2e1a-4aa9-403d-85ac-6d310d0665de"
      },
      "execution_count": 24,
      "outputs": [
        {
          "output_type": "execute_result",
          "data": {
            "image/png": "[encoded data removed]",
            "text/plain": [
              "<IPython.core.display.Image object>"
            ]
          },
          "metadata": {},
          "execution_count": 24
        }
      ]
    },
    {
      "cell_type": "code",
      "source": [
        "# define Optimizer and Loss Function (Use classes)\n",
        "optimizer = tf.keras.optimizers.Adam(learning_rate=5e-4)\n",
        "loss_object = tf.keras.losses.SparseCategoricalCrossentropy() "
      ],
      "metadata": {
        "id": "4n89bmpiFFdg"
      },
      "execution_count": 31,
      "outputs": []
    },
    {
      "cell_type": "code",
      "source": [
        "# define metrics\n",
        "train_acc_metric = tf.keras.metrics.SparseCategoricalAccuracy()\n",
        "val_acc_metric = tf.keras.metrics.SparseCategoricalAccuracy()"
      ],
      "metadata": {
        "id": "yPaE9dGqFTjy"
      },
      "execution_count": 32,
      "outputs": []
    },
    {
      "cell_type": "code",
      "source": [
        "def apply_gradient(optimizer, model, x, y):\n",
        "  with tf.GradientTape() as tape:\n",
        "    logits = model(x)\n",
        "    loss_value = loss_object(y_true=y, y_pred=logits)\n",
        "  \n",
        "  gradients = tape.gradient(loss_value, model.trainable_weights)\n",
        "  optimizer.apply_gradients(zip(gradients, model.trainable_weights))\n",
        "  return logits, loss_value"
      ],
      "metadata": {
        "id": "Lc3dMD7_FsBZ"
      },
      "execution_count": 33,
      "outputs": []
    },
    {
      "cell_type": "code",
      "source": [
        "def train_data_for_one_epoch():\n",
        "  losses = []\n",
        "  pbar = tqdm(total=len(list(enumerate(train))), position=0, leave=True, \n",
        "              bar_format='{l_bar}{bar}| {n_fmt}/{total_fmt} ') # progress bar\n",
        "  for step, (x_batch_train, y_batch_train) in enumerate(train):\n",
        "    logits, loss_value = apply_gradient(optimizer, model, x_batch_train, y_batch_train)\n",
        "\n",
        "    losses.append(loss_value)\n",
        "\n",
        "    train_acc_metric(y_batch_train, logits)\n",
        "    pbar.set_description(\"Training loss for step %s: %.4f\" % (int(step), float(loss_value)))\n",
        "    pbar.update()\n",
        "  return losses"
      ],
      "metadata": {
        "id": "UPwxtgQsGmPK"
      },
      "execution_count": 34,
      "outputs": []
    },
    {
      "cell_type": "code",
      "source": [
        "def perform_validation():\n",
        "  losses = []\n",
        "  for x_val, y_val in test:\n",
        "    val_logits = model(x_val)\n",
        "    val_loss = loss_object(y_true=y_val, y_pred=val_logits)\n",
        "    losses.append(val_loss)\n",
        "    val_acc_metric(y_val, val_logits)\n",
        "  return losses"
      ],
      "metadata": {
        "id": "qjP0UQeYHiYu"
      },
      "execution_count": 35,
      "outputs": []
    },
    {
      "cell_type": "code",
      "source": [
        "model = base_model()\n",
        "\n",
        "# Iterate over epochs.\n",
        "epochs = 20\n",
        "epochs_val_losses, epochs_train_losses = [], []\n",
        "for epoch in range(epochs):\n",
        "  print('Start of epoch %d' % (epoch,))\n",
        "  \n",
        "  losses_train = train_data_for_one_epoch()\n",
        "  train_acc = train_acc_metric.result()\n",
        "\n",
        "  losses_val = perform_validation()\n",
        "  val_acc = val_acc_metric.result()\n",
        "\n",
        "  losses_train_mean = np.mean(losses_train)\n",
        "  losses_val_mean = np.mean(losses_val)\n",
        "  epochs_val_losses.append(losses_val_mean)\n",
        "  epochs_train_losses.append(losses_train_mean)\n",
        "\n",
        "  print('\\n Epoch %s: Train loss: %.4f  Validation Loss: %.4f, Train Accuracy: %.4f, Validation Accuracy %.4f' % (epoch, float(losses_train_mean), float(losses_val_mean), float(train_acc), float(val_acc)))\n",
        "  \n",
        "  train_acc_metric.reset_states()\n",
        "  val_acc_metric.reset_states()"
      ],
      "metadata": {
        "id": "NXVfpOdKJ5EQ",
        "colab": {
          "base_uri": "https://localhost:8080/"
        },
        "outputId": "3f3cc291-d3ee-4881-f464-797a944dc079"
      },
      "execution_count": 37,
      "outputs": [
        {
          "output_type": "stream",
          "name": "stdout",
          "text": [
            "Start of epoch 0\n"
          ]
        },
        {
          "output_type": "stream",
          "name": "stderr",
          "text": [
            "Training loss for step 937: 1.2377: 100%|██████████| 938/938 \n"
          ]
        },
        {
          "output_type": "stream",
          "name": "stdout",
          "text": [
            "\n",
            " Epoch 0: Train loss: 2.4848  Validation Loss: 1.0983, Train Accuracy: 0.7168, Validation Accuracy 0.7419\n",
            "Start of epoch 1\n"
          ]
        },
        {
          "output_type": "stream",
          "name": "stderr",
          "text": [
            "Training loss for step 937: 0.9575: 100%|██████████| 938/938 \n"
          ]
        },
        {
          "output_type": "stream",
          "name": "stdout",
          "text": [
            "\n",
            " Epoch 1: Train loss: 0.7494  Validation Loss: 0.7110, Train Accuracy: 0.7849, Validation Accuracy 0.7848\n",
            "Start of epoch 2\n"
          ]
        },
        {
          "output_type": "stream",
          "name": "stderr",
          "text": [
            "Training loss for step 937: 0.5497: 100%|██████████| 938/938 \n"
          ]
        },
        {
          "output_type": "stream",
          "name": "stdout",
          "text": [
            "\n",
            " Epoch 2: Train loss: 0.6005  Validation Loss: 0.6593, Train Accuracy: 0.8051, Validation Accuracy 0.7869\n",
            "Start of epoch 3\n"
          ]
        },
        {
          "output_type": "stream",
          "name": "stderr",
          "text": [
            "Training loss for step 937: 0.5258: 100%|██████████| 938/938 \n"
          ]
        },
        {
          "output_type": "stream",
          "name": "stdout",
          "text": [
            "\n",
            " Epoch 3: Train loss: 0.5325  Validation Loss: 0.5712, Train Accuracy: 0.8205, Validation Accuracy 0.8120\n",
            "Start of epoch 4\n"
          ]
        },
        {
          "output_type": "stream",
          "name": "stderr",
          "text": [
            "Training loss for step 937: 0.6329: 100%|██████████| 938/938 \n"
          ]
        },
        {
          "output_type": "stream",
          "name": "stdout",
          "text": [
            "\n",
            " Epoch 4: Train loss: 0.4956  Validation Loss: 0.5690, Train Accuracy: 0.8279, Validation Accuracy 0.8149\n",
            "Start of epoch 5\n"
          ]
        },
        {
          "output_type": "stream",
          "name": "stderr",
          "text": [
            "Training loss for step 937: 0.2719: 100%|██████████| 938/938 \n"
          ]
        },
        {
          "output_type": "stream",
          "name": "stdout",
          "text": [
            "\n",
            " Epoch 5: Train loss: 0.4503  Validation Loss: 0.6083, Train Accuracy: 0.8415, Validation Accuracy 0.8161\n",
            "Start of epoch 6\n"
          ]
        },
        {
          "output_type": "stream",
          "name": "stderr",
          "text": [
            "Training loss for step 937: 0.1127: 100%|██████████| 938/938 \n"
          ]
        },
        {
          "output_type": "stream",
          "name": "stdout",
          "text": [
            "\n",
            " Epoch 6: Train loss: 0.4436  Validation Loss: 0.4972, Train Accuracy: 0.8442, Validation Accuracy 0.8349\n",
            "Start of epoch 7\n"
          ]
        },
        {
          "output_type": "stream",
          "name": "stderr",
          "text": [
            "Training loss for step 937: 0.3570: 100%|██████████| 938/938 \n"
          ]
        },
        {
          "output_type": "stream",
          "name": "stdout",
          "text": [
            "\n",
            " Epoch 7: Train loss: 0.4214  Validation Loss: 0.4623, Train Accuracy: 0.8485, Validation Accuracy 0.8432\n",
            "Start of epoch 8\n"
          ]
        },
        {
          "output_type": "stream",
          "name": "stderr",
          "text": [
            "Training loss for step 937: 0.4221: 100%|██████████| 938/938 \n"
          ]
        },
        {
          "output_type": "stream",
          "name": "stdout",
          "text": [
            "\n",
            " Epoch 8: Train loss: 0.4072  Validation Loss: 0.5199, Train Accuracy: 0.8542, Validation Accuracy 0.8265\n",
            "Start of epoch 9\n"
          ]
        },
        {
          "output_type": "stream",
          "name": "stderr",
          "text": [
            "Training loss for step 937: 0.2087: 100%|██████████| 938/938 \n"
          ]
        },
        {
          "output_type": "stream",
          "name": "stdout",
          "text": [
            "\n",
            " Epoch 9: Train loss: 0.3948  Validation Loss: 0.4668, Train Accuracy: 0.8558, Validation Accuracy 0.8425\n",
            "Start of epoch 10\n"
          ]
        },
        {
          "output_type": "stream",
          "name": "stderr",
          "text": [
            "Training loss for step 937: 0.2304: 100%|██████████| 938/938 \n"
          ]
        },
        {
          "output_type": "stream",
          "name": "stdout",
          "text": [
            "\n",
            " Epoch 10: Train loss: 0.3823  Validation Loss: 0.4532, Train Accuracy: 0.8609, Validation Accuracy 0.8452\n",
            "Start of epoch 11\n"
          ]
        },
        {
          "output_type": "stream",
          "name": "stderr",
          "text": [
            "Training loss for step 937: 0.1579: 100%|██████████| 938/938 \n"
          ]
        },
        {
          "output_type": "stream",
          "name": "stdout",
          "text": [
            "\n",
            " Epoch 11: Train loss: 0.3758  Validation Loss: 0.4689, Train Accuracy: 0.8654, Validation Accuracy 0.8455\n",
            "Start of epoch 12\n"
          ]
        },
        {
          "output_type": "stream",
          "name": "stderr",
          "text": [
            "Training loss for step 937: 0.2511: 100%|██████████| 938/938 \n"
          ]
        },
        {
          "output_type": "stream",
          "name": "stdout",
          "text": [
            "\n",
            " Epoch 12: Train loss: 0.3622  Validation Loss: 0.4670, Train Accuracy: 0.8682, Validation Accuracy 0.8515\n",
            "Start of epoch 13\n"
          ]
        },
        {
          "output_type": "stream",
          "name": "stderr",
          "text": [
            "Training loss for step 541: 0.4884:  58%|█████▊    | 542/938 \n",
            "Training loss for step 937: 0.4738: 100%|██████████| 938/938 \n"
          ]
        },
        {
          "output_type": "stream",
          "name": "stdout",
          "text": [
            "\n",
            " Epoch 13: Train loss: 0.3574  Validation Loss: 0.4711, Train Accuracy: 0.8702, Validation Accuracy 0.8389\n",
            "Start of epoch 14\n"
          ]
        },
        {
          "output_type": "stream",
          "name": "stderr",
          "text": [
            "Training loss for step 937: 0.5666: 100%|██████████| 938/938 \n"
          ]
        },
        {
          "output_type": "stream",
          "name": "stdout",
          "text": [
            "\n",
            " Epoch 14: Train loss: 0.3547  Validation Loss: 0.4768, Train Accuracy: 0.8705, Validation Accuracy 0.8442\n",
            "Start of epoch 15\n"
          ]
        },
        {
          "output_type": "stream",
          "name": "stderr",
          "text": [
            "Training loss for step 937: 0.1794: 100%|██████████| 938/938 \n"
          ]
        },
        {
          "output_type": "stream",
          "name": "stdout",
          "text": [
            "\n",
            " Epoch 15: Train loss: 0.3448  Validation Loss: 0.4297, Train Accuracy: 0.8748, Validation Accuracy 0.8547\n",
            "Start of epoch 16\n"
          ]
        },
        {
          "output_type": "stream",
          "name": "stderr",
          "text": [
            "Training loss for step 937: 0.4030: 100%|██████████| 938/938 \n"
          ]
        },
        {
          "output_type": "stream",
          "name": "stdout",
          "text": [
            "\n",
            " Epoch 16: Train loss: 0.3411  Validation Loss: 0.4653, Train Accuracy: 0.8748, Validation Accuracy 0.8488\n",
            "Start of epoch 17\n"
          ]
        },
        {
          "output_type": "stream",
          "name": "stderr",
          "text": [
            "Training loss for step 937: 0.3138: 100%|██████████| 938/938 \n"
          ]
        },
        {
          "output_type": "stream",
          "name": "stdout",
          "text": [
            "\n",
            " Epoch 17: Train loss: 0.3338  Validation Loss: 0.4750, Train Accuracy: 0.8785, Validation Accuracy 0.8499\n",
            "Start of epoch 18\n"
          ]
        },
        {
          "output_type": "stream",
          "name": "stderr",
          "text": [
            "Training loss for step 937: 0.3513: 100%|██████████| 938/938 \n"
          ]
        },
        {
          "output_type": "stream",
          "name": "stdout",
          "text": [
            "\n",
            " Epoch 18: Train loss: 0.3259  Validation Loss: 0.4551, Train Accuracy: 0.8803, Validation Accuracy 0.8638\n",
            "Start of epoch 19\n"
          ]
        },
        {
          "output_type": "stream",
          "name": "stderr",
          "text": [
            "Training loss for step 937: 0.3114: 100%|██████████| 938/938 \n"
          ]
        },
        {
          "output_type": "stream",
          "name": "stdout",
          "text": [
            "\n",
            " Epoch 19: Train loss: 0.3209  Validation Loss: 0.4471, Train Accuracy: 0.8819, Validation Accuracy 0.8588\n"
          ]
        }
      ]
    },
    {
      "cell_type": "markdown",
      "source": [
        "# Evaluating model"
      ],
      "metadata": {
        "id": "0OoDpVcQDalO"
      }
    },
    {
      "cell_type": "code",
      "source": [
        "epochs_train_losses"
      ],
      "metadata": {
        "colab": {
          "base_uri": "https://localhost:8080/"
        },
        "id": "JXmrcw_WEcrf",
        "outputId": "df91c56d-d92d-40d1-f20c-a1612115a7cb"
      },
      "execution_count": 19,
      "outputs": [
        {
          "output_type": "execute_result",
          "data": {
            "text/plain": [
              "[2.8896582,\n",
              " 0.6572303,\n",
              " 0.57545507,\n",
              " 0.5408417,\n",
              " 0.5188401,\n",
              " 0.49838945,\n",
              " 0.4883532,\n",
              " 0.46785042,\n",
              " 0.44538105,\n",
              " 0.44758883]"
            ]
          },
          "metadata": {},
          "execution_count": 19
        }
      ]
    },
    {
      "cell_type": "code",
      "source": [
        "def plot_metrics(train_metric, val_metric, metric_name, title, ylim=5):\n",
        "  plt.title(title)\n",
        "  # plt.ylim(0,ylim)\n",
        "  # plt.gca().xaxis.set_major_locator(mticker.MultipleLocator(1))\n",
        "  plt.plot(train_metric,color='blue',label=metric_name)\n",
        "  plt.plot(val_metric,color='green',label='val_' + metric_name)\n",
        "\n",
        "plot_metrics(epochs_train_losses, epochs_val_losses, \"Loss\", \"Loss\", ylim=1.0)"
      ],
      "metadata": {
        "colab": {
          "base_uri": "https://localhost:8080/",
          "height": 281
        },
        "id": "c3LE6CmbDLmf",
        "outputId": "49bbc3f7-a835-407b-e80c-a9f5920279bb"
      },
      "execution_count": 20,
      "outputs": [
        {
          "output_type": "display_data",
          "data": {
            "text/plain": [
              "<Figure size 432x288 with 1 Axes>"
            ],
            "image/png": "[encoded data removed]"
          },
          "metadata": {
            "needs_background": "light"
          }
        }
      ]
    },
    {
      "cell_type": "code",
      "source": [
        "# utility to display a row of images with their predictions and true labels\n",
        "def display_images(image, predictions, labels, title, n):\n",
        "\n",
        "  display_strings = [str(i) + \"\\n\\n\" + str(j) for i, j in zip(predictions, labels)] \n",
        "\n",
        "  plt.figure(figsize=(17,3))\n",
        "  plt.title(title)\n",
        "  plt.yticks([])\n",
        "  plt.xticks([28*x+14 for x in range(n)], display_strings)\n",
        "  plt.grid(None)\n",
        "  image = np.reshape(image, [n, 28, 28])\n",
        "  image = np.swapaxes(image, 0, 1)\n",
        "  image = np.reshape(image, [28, 28*n])\n",
        "  plt.imshow(image)"
      ],
      "metadata": {
        "id": "QWum5RjPETdG"
      },
      "execution_count": 21,
      "outputs": []
    },
    {
      "cell_type": "code",
      "source": [
        "test_inputs = test_data.batch(batch_size=1000001)\n",
        "x_batches, y_pred_batches, y_true_batches = [], [], []\n",
        "\n",
        "for x, y in test_inputs:\n",
        "  y_pred = model(x)\n",
        "  y_pred_batches = y_pred.numpy()\n",
        "  y_true_batches = y.numpy()\n",
        "  x_batches = x.numpy()\n",
        "\n",
        "indexes = np.random.choice(len(y_pred_batches), size=10)\n",
        "images_to_plot = x_batches[indexes]\n",
        "y_pred_to_plot = y_pred_batches[indexes]\n",
        "y_true_to_plot = y_true_batches[indexes]\n",
        "\n",
        "y_pred_labels = [class_names[np.argmax(sel_y_pred)] for sel_y_pred in y_pred_to_plot]\n",
        "y_true_labels = [class_names[sel_y_true] for sel_y_true in y_true_to_plot]\n",
        "display_images(images_to_plot, y_pred_labels, y_true_labels, \"Predicted and True Values\", 10)"
      ],
      "metadata": {
        "colab": {
          "base_uri": "https://localhost:8080/",
          "height": 160
        },
        "id": "ZUqRHeDZDmmm",
        "outputId": "bf5cb16f-ef98-4237-daee-545bd7566b44"
      },
      "execution_count": 22,
      "outputs": [
        {
          "output_type": "display_data",
          "data": {
            "text/plain": [
              "<Figure size 1224x216 with 1 Axes>"
            ],
            "image/png": "[encoded data removed]"
          },
          "metadata": {
            "needs_background": "light"
          }
        }
      ]
    },
    {
      "cell_type": "code",
      "source": [],
      "metadata": {
        "id": "wiQUl5p-Dpje"
      },
      "execution_count": 22,
      "outputs": []
    }
  ]
}