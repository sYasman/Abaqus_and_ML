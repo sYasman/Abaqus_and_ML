{
  "nbformat": 4,
  "nbformat_minor": 0,
  "metadata": {
    "colab": {
      "provenance": [],
      "collapsed_sections": [],
      "authorship_tag": "ABX9TyOSB5uTUxhzUfnLXj8JmzZq",
      "include_colab_link": true
    },
    "kernelspec": {
      "name": "python3",
      "display_name": "Python 3"
    },
    "language_info": {
      "name": "python"
    },
    "accelerator": "GPU",
    "gpuClass": "standard"
  },
  "cells": [
    {
      "cell_type": "markdown",
      "metadata": {
        "id": "view-in-github",
        "colab_type": "text"
      },
      "source": [
        "<a href=\"https://colab.research.google.com/github/sYasman/Advance_NN_examples/blob/main/SubClassAPI_Example.ipynb\" target=\"_parent\"><img src=\"https://colab.research.google.com/assets/colab-badge.svg\" alt=\"Open In Colab\"/></a>"
      ]
    },
    {
      "cell_type": "code",
      "execution_count": null,
      "metadata": {
        "id": "7Nwnog6UCo0G"
      },
      "outputs": [],
      "source": [
        "import tensorflow as tf\n",
        "\n",
        "# import layers\n",
        "from tensorflow.keras.layers import Conv2D, MaxPool2D, Flatten, Dense\n",
        "import tensorflow_datasets as tfds\n",
        "from sklearn.model_selection import train_test_split\n",
        "import numpy as np"
      ]
    },
    {
      "cell_type": "code",
      "source": [
        "class Block(tf.keras.Model):\n",
        "  def __init__(self, filters, kernel_size, repeat, pool_size=2, strides=2):\n",
        "    super(Block, self).__init__()\n",
        "    self.filters = filters\n",
        "    self.kernel_size = kernel_size\n",
        "    self.repeat = repeat\n",
        "\n",
        "    # regarding number of repeats add conv2D layers\n",
        "    # using vars --> Let us to define each conv2D name in a structed manner\n",
        "    # conv2D_0 ... conv2D_repeat\n",
        "    for i in range(repeat):\n",
        "      vars(self)[f'conv2D_{i}'] = Conv2D(filters=filters, kernel_size=kernel_size, \\\n",
        "                                        activation='relu', padding='same')\n",
        "    self.max_pool = MaxPool2D(pool_size=pool_size, strides=strides)\n",
        "\n",
        "  def call(self, input_):\n",
        "    conv2D_0 = self.conv2D_0\n",
        "    x = conv2D_0(input_)\n",
        "\n",
        "    for i in range(1, self.repeat):\n",
        "      conv2D_i = vars(self)[f'conv2D_{i}'] # reach each conv2D using dictionary\n",
        "      x = conv2D_i(x)\n",
        "\n",
        "    max_pool = self.max_pool(x)\n",
        "\n",
        "    return max_pool"
      ],
      "metadata": {
        "id": "_vNs0YT0IDYl"
      },
      "execution_count": null,
      "outputs": []
    },
    {
      "cell_type": "code",
      "source": [
        "class VGG(tf.keras.Model):\n",
        "  def __init__(self, n_class):\n",
        "    super(VGG, self).__init__()\n",
        "\n",
        "    # add repating blocks\n",
        "    # self.block_1 = Block(64, 3, 2)\n",
        "    # self.block_2 = Block(128, 3, 2)\n",
        "    # self.block_3 = Block(256, 3, 3)\n",
        "    # self.block_4 = Block(512, 3, 3)\n",
        "    # self.block_5 = Block(512, 3, 3)\n",
        "    self.block_1 = Block(16, 2, 2)\n",
        "    self.block_2 = Block(32, 2, 3)\n",
        "    self.block_3 = Block(32, 2, 1)\n",
        "    self.block_4 = Block(32, 2, 1)\n",
        "    self.block_5 = Block(32, 2, 1)    \n",
        "\n",
        "    # add classification part\n",
        "    self.flatten = Flatten()\n",
        "    self.fc = Dense(512, activation='relu')\n",
        "    # self.fc = Dense(16, activation='relu')\n",
        "    self.classifier = Dense(n_class, activation='softmax')\n",
        "\n",
        "  def call(self, input_):\n",
        "    # chain all layers\n",
        "    x = self.block_1(input_)\n",
        "    x = self.block_2(x)\n",
        "    # x = self.block_3(x)\n",
        "    # x = self.block_4(x)\n",
        "    # x = self.block_5(x)\n",
        "    x = self.flatten(x)\n",
        "    x = self.fc(x)\n",
        "    x = self.classifier(x)\n",
        "    return x"
      ],
      "metadata": {
        "id": "bypnK5xZK6Cr"
      },
      "execution_count": null,
      "outputs": []
    },
    {
      "cell_type": "code",
      "source": [
        "dataset = tf.keras.datasets.fashion_mnist\n",
        "(X_train_f, y_train_f), (X_test, y_test) = dataset.load_data()\n",
        "X_train, X_valid, y_train, y_valid = train_test_split(X_train_f, y_train_f)"
      ],
      "metadata": {
        "id": "IuRtbSHT0jp5"
      },
      "execution_count": null,
      "outputs": []
    },
    {
      "cell_type": "code",
      "source": [
        "n_class = len(np.unique(y_train))\n",
        "print(f'number of outputs {n_class}')"
      ],
      "metadata": {
        "colab": {
          "base_uri": "https://localhost:8080/"
        },
        "id": "vzqDjmJp7CZ7",
        "outputId": "dea00b09-dbc9-4819-8d3e-4be0000f3ba8"
      },
      "execution_count": null,
      "outputs": [
        {
          "output_type": "stream",
          "name": "stdout",
          "text": [
            "number of outputs 10\n"
          ]
        }
      ]
    },
    {
      "cell_type": "code",
      "source": [
        "X_train.shape"
      ],
      "metadata": {
        "colab": {
          "base_uri": "https://localhost:8080/"
        },
        "id": "HP2dckFu56NT",
        "outputId": "ea80a36b-9bec-44ee-ed4c-69ef0aa2cb24"
      },
      "execution_count": null,
      "outputs": [
        {
          "output_type": "execute_result",
          "data": {
            "text/plain": [
              "(45000, 28, 28)"
            ]
          },
          "metadata": {},
          "execution_count": 21
        }
      ]
    },
    {
      "cell_type": "code",
      "source": [
        "input_shape = X_train.shape[1:]\n",
        "print(input_shape)\n",
        "if len(input_shape) < 4:\n",
        "  X_train = X_train[:, :, :, np.newaxis]\n",
        "  X_test = X_test[:, :, :, np.newaxis]\n",
        "  X_valid = X_valid[:, :, :, np.newaxis]\n",
        "  print(X_train.shape)\n",
        "X_train=X_train / 255.0\n",
        "X_test=X_test / 255.0\n",
        "X_valid=X_valid / 255.0"
      ],
      "metadata": {
        "colab": {
          "base_uri": "https://localhost:8080/"
        },
        "id": "NWDxctgj0w0C",
        "outputId": "b5d5875c-a25e-48d2-f910-b45b9dc0f035"
      },
      "execution_count": null,
      "outputs": [
        {
          "output_type": "stream",
          "name": "stdout",
          "text": [
            "(28, 28)\n",
            "(45000, 28, 28, 1)\n"
          ]
        }
      ]
    },
    {
      "cell_type": "code",
      "source": [
        "y_train.shape"
      ],
      "metadata": {
        "colab": {
          "base_uri": "https://localhost:8080/"
        },
        "id": "0KgFEsNlFKym",
        "outputId": "b59b02a6-112c-4de3-c333-868124a2b0fa"
      },
      "execution_count": null,
      "outputs": [
        {
          "output_type": "execute_result",
          "data": {
            "text/plain": [
              "(45000,)"
            ]
          },
          "metadata": {},
          "execution_count": 23
        }
      ]
    },
    {
      "cell_type": "code",
      "source": [
        "# conver y vectors to one hot encoded version\n",
        "y_train = tf.keras.utils.to_categorical(y_train, num_classes=n_class)\n",
        "y_valid = tf.keras.utils.to_categorical(y_valid, num_classes=n_class)\n",
        "y_test = tf.keras.utils.to_categorical(y_test, num_classes=n_class)"
      ],
      "metadata": {
        "id": "xwGO3SIT57VJ"
      },
      "execution_count": null,
      "outputs": []
    },
    {
      "cell_type": "code",
      "source": [
        "y_train.shape"
      ],
      "metadata": {
        "colab": {
          "base_uri": "https://localhost:8080/"
        },
        "id": "02eLoJ2Z8OaD",
        "outputId": "d1b0d124-28fd-4c66-8cd2-bf6bc92b475f"
      },
      "execution_count": null,
      "outputs": [
        {
          "output_type": "execute_result",
          "data": {
            "text/plain": [
              "(45000, 10)"
            ]
          },
          "metadata": {},
          "execution_count": 25
        }
      ]
    },
    {
      "cell_type": "code",
      "source": [
        "model = VGG(n_class)\n",
        "model.compile(tf.keras.optimizers.Adam(learning_rate=0.0001, decay=1e-06),\n",
        "              loss=tf.keras.losses.categorical_crossentropy,\n",
        "              metrics=['acc'])\n",
        "model.build(input_shape=X_train.shape)\n",
        "model.summary()"
      ],
      "metadata": {
        "colab": {
          "base_uri": "https://localhost:8080/"
        },
        "id": "o0byhsh3rpK5",
        "outputId": "22c35530-d222-4122-b4d2-abe3dea24280"
      },
      "execution_count": null,
      "outputs": [
        {
          "output_type": "stream",
          "name": "stdout",
          "text": [
            "Model: \"vgg_1\"\n",
            "_________________________________________________________________\n",
            " Layer (type)                Output Shape              Param #   \n",
            "=================================================================\n",
            " block_5 (Block)             multiple                  0         \n",
            "                                                                 \n",
            " block_6 (Block)             multiple                  0         \n",
            "                                                                 \n",
            " block_7 (Block)             multiple                  0 (unused)\n",
            "                                                                 \n",
            " block_8 (Block)             multiple                  0 (unused)\n",
            "                                                                 \n",
            " block_9 (Block)             multiple                  0 (unused)\n",
            "                                                                 \n",
            " flatten_1 (Flatten)         multiple                  0         \n",
            "                                                                 \n",
            " dense_2 (Dense)             multiple                  803328    \n",
            "                                                                 \n",
            " dense_3 (Dense)             multiple                  5130      \n",
            "                                                                 \n",
            "=================================================================\n",
            "Total params: 808,458\n",
            "Trainable params: 808,458\n",
            "Non-trainable params: 0\n",
            "_________________________________________________________________\n"
          ]
        }
      ]
    },
    {
      "cell_type": "code",
      "source": [
        "cb_early = tf.keras.callbacks.EarlyStopping(patience=10, restore_best_weights=True)\n",
        "\n",
        "hist = model.fit(X_train, y_train, epochs=100, validation_data=(X_valid, y_valid), batch_size=32, callbacks=[cb_early])"
      ],
      "metadata": {
        "colab": {
          "base_uri": "https://localhost:8080/"
        },
        "id": "QTwCV6au7NZr",
        "outputId": "bf7a11a9-0aa0-4ce3-e66c-ba5cca735a6c"
      },
      "execution_count": null,
      "outputs": [
        {
          "output_type": "stream",
          "name": "stdout",
          "text": [
            "Epoch 1/100\n",
            "1407/1407 [==============================] - 7s 5ms/step - loss: 1.1738 - acc: 0.6667 - val_loss: 0.7528 - val_acc: 0.7556\n",
            "Epoch 2/100\n",
            "1407/1407 [==============================] - 6s 4ms/step - loss: 0.6611 - acc: 0.7732 - val_loss: 0.6036 - val_acc: 0.7859\n",
            "Epoch 3/100\n",
            "1407/1407 [==============================] - 6s 4ms/step - loss: 0.5644 - acc: 0.7990 - val_loss: 0.5403 - val_acc: 0.8051\n",
            "Epoch 4/100\n",
            "1407/1407 [==============================] - 6s 4ms/step - loss: 0.5139 - acc: 0.8161 - val_loss: 0.5026 - val_acc: 0.8208\n",
            "Epoch 5/100\n",
            "1407/1407 [==============================] - 6s 4ms/step - loss: 0.4809 - acc: 0.8283 - val_loss: 0.4761 - val_acc: 0.8307\n",
            "Epoch 6/100\n",
            "1407/1407 [==============================] - 6s 4ms/step - loss: 0.4569 - acc: 0.8372 - val_loss: 0.4579 - val_acc: 0.8373\n",
            "Epoch 7/100\n",
            "1407/1407 [==============================] - 6s 4ms/step - loss: 0.4381 - acc: 0.8452 - val_loss: 0.4425 - val_acc: 0.8426\n",
            "Epoch 8/100\n",
            "1407/1407 [==============================] - 6s 4ms/step - loss: 0.4229 - acc: 0.8508 - val_loss: 0.4303 - val_acc: 0.8485\n",
            "Epoch 9/100\n",
            "1407/1407 [==============================] - 6s 4ms/step - loss: 0.4103 - acc: 0.8549 - val_loss: 0.4169 - val_acc: 0.8526\n",
            "Epoch 10/100\n",
            "1407/1407 [==============================] - 6s 4ms/step - loss: 0.3998 - acc: 0.8590 - val_loss: 0.4107 - val_acc: 0.8539\n",
            "Epoch 11/100\n",
            "1407/1407 [==============================] - 6s 4ms/step - loss: 0.3905 - acc: 0.8617 - val_loss: 0.4008 - val_acc: 0.8600\n",
            "Epoch 12/100\n",
            "1407/1407 [==============================] - 6s 4ms/step - loss: 0.3819 - acc: 0.8651 - val_loss: 0.3957 - val_acc: 0.8599\n",
            "Epoch 13/100\n",
            "1407/1407 [==============================] - 6s 4ms/step - loss: 0.3746 - acc: 0.8679 - val_loss: 0.3880 - val_acc: 0.8633\n",
            "Epoch 14/100\n",
            "1407/1407 [==============================] - 6s 4ms/step - loss: 0.3682 - acc: 0.8720 - val_loss: 0.3844 - val_acc: 0.8655\n",
            "Epoch 15/100\n",
            "1407/1407 [==============================] - 6s 4ms/step - loss: 0.3619 - acc: 0.8727 - val_loss: 0.3791 - val_acc: 0.8647\n",
            "Epoch 16/100\n",
            "1407/1407 [==============================] - 6s 4ms/step - loss: 0.3569 - acc: 0.8740 - val_loss: 0.3737 - val_acc: 0.8681\n",
            "Epoch 17/100\n",
            "1407/1407 [==============================] - 6s 4ms/step - loss: 0.3517 - acc: 0.8765 - val_loss: 0.3734 - val_acc: 0.8682\n",
            "Epoch 18/100\n",
            "1407/1407 [==============================] - 6s 4ms/step - loss: 0.3468 - acc: 0.8783 - val_loss: 0.3687 - val_acc: 0.8702\n",
            "Epoch 19/100\n",
            "1407/1407 [==============================] - 6s 4ms/step - loss: 0.3427 - acc: 0.8803 - val_loss: 0.3640 - val_acc: 0.8713\n",
            "Epoch 20/100\n",
            "1407/1407 [==============================] - 6s 4ms/step - loss: 0.3391 - acc: 0.8811 - val_loss: 0.3592 - val_acc: 0.8737\n",
            "Epoch 21/100\n",
            "1407/1407 [==============================] - 6s 4ms/step - loss: 0.3347 - acc: 0.8833 - val_loss: 0.3582 - val_acc: 0.8749\n",
            "Epoch 22/100\n",
            "1407/1407 [==============================] - 6s 4ms/step - loss: 0.3310 - acc: 0.8843 - val_loss: 0.3547 - val_acc: 0.8742\n",
            "Epoch 23/100\n",
            "1407/1407 [==============================] - 6s 4ms/step - loss: 0.3277 - acc: 0.8855 - val_loss: 0.3515 - val_acc: 0.8748\n",
            "Epoch 24/100\n",
            "1407/1407 [==============================] - 6s 4ms/step - loss: 0.3245 - acc: 0.8868 - val_loss: 0.3505 - val_acc: 0.8768\n",
            "Epoch 25/100\n",
            "1407/1407 [==============================] - 6s 4ms/step - loss: 0.3211 - acc: 0.8886 - val_loss: 0.3462 - val_acc: 0.8793\n",
            "Epoch 26/100\n",
            "1407/1407 [==============================] - 6s 4ms/step - loss: 0.3186 - acc: 0.8886 - val_loss: 0.3446 - val_acc: 0.8785\n",
            "Epoch 27/100\n",
            "1407/1407 [==============================] - 6s 4ms/step - loss: 0.3156 - acc: 0.8897 - val_loss: 0.3424 - val_acc: 0.8793\n",
            "Epoch 28/100\n",
            "1407/1407 [==============================] - 6s 4ms/step - loss: 0.3128 - acc: 0.8916 - val_loss: 0.3437 - val_acc: 0.8791\n",
            "Epoch 29/100\n",
            "1407/1407 [==============================] - 6s 4ms/step - loss: 0.3098 - acc: 0.8914 - val_loss: 0.3418 - val_acc: 0.8803\n",
            "Epoch 30/100\n",
            "1407/1407 [==============================] - 6s 4ms/step - loss: 0.3076 - acc: 0.8928 - val_loss: 0.3360 - val_acc: 0.8818\n",
            "Epoch 31/100\n",
            "1407/1407 [==============================] - 6s 4ms/step - loss: 0.3048 - acc: 0.8938 - val_loss: 0.3356 - val_acc: 0.8827\n",
            "Epoch 32/100\n",
            "1407/1407 [==============================] - 6s 4ms/step - loss: 0.3026 - acc: 0.8943 - val_loss: 0.3355 - val_acc: 0.8820\n",
            "Epoch 33/100\n",
            "1407/1407 [==============================] - 6s 4ms/step - loss: 0.3000 - acc: 0.8949 - val_loss: 0.3344 - val_acc: 0.8839\n",
            "Epoch 34/100\n",
            "1407/1407 [==============================] - 6s 4ms/step - loss: 0.2982 - acc: 0.8961 - val_loss: 0.3324 - val_acc: 0.8839\n",
            "Epoch 35/100\n",
            "1407/1407 [==============================] - 6s 4ms/step - loss: 0.2955 - acc: 0.8965 - val_loss: 0.3294 - val_acc: 0.8840\n",
            "Epoch 36/100\n",
            "1407/1407 [==============================] - 6s 4ms/step - loss: 0.2933 - acc: 0.8979 - val_loss: 0.3300 - val_acc: 0.8846\n",
            "Epoch 37/100\n",
            "1407/1407 [==============================] - 6s 4ms/step - loss: 0.2921 - acc: 0.8974 - val_loss: 0.3274 - val_acc: 0.8839\n",
            "Epoch 38/100\n",
            "1407/1407 [==============================] - 6s 4ms/step - loss: 0.2897 - acc: 0.8984 - val_loss: 0.3269 - val_acc: 0.8849\n",
            "Epoch 39/100\n",
            "1407/1407 [==============================] - 6s 4ms/step - loss: 0.2871 - acc: 0.8993 - val_loss: 0.3263 - val_acc: 0.8853\n",
            "Epoch 40/100\n",
            "1407/1407 [==============================] - 6s 4ms/step - loss: 0.2861 - acc: 0.8996 - val_loss: 0.3275 - val_acc: 0.8849\n",
            "Epoch 41/100\n",
            "1407/1407 [==============================] - 6s 4ms/step - loss: 0.2836 - acc: 0.9010 - val_loss: 0.3266 - val_acc: 0.8845\n",
            "Epoch 42/100\n",
            "1407/1407 [==============================] - 6s 4ms/step - loss: 0.2823 - acc: 0.9016 - val_loss: 0.3242 - val_acc: 0.8850\n",
            "Epoch 43/100\n",
            "1407/1407 [==============================] - 6s 4ms/step - loss: 0.2805 - acc: 0.9019 - val_loss: 0.3237 - val_acc: 0.8879\n",
            "Epoch 44/100\n",
            "1407/1407 [==============================] - 6s 4ms/step - loss: 0.2788 - acc: 0.9011 - val_loss: 0.3217 - val_acc: 0.8865\n",
            "Epoch 45/100\n",
            "1407/1407 [==============================] - 6s 4ms/step - loss: 0.2768 - acc: 0.9025 - val_loss: 0.3227 - val_acc: 0.8859\n",
            "Epoch 46/100\n",
            "1407/1407 [==============================] - 6s 4ms/step - loss: 0.2751 - acc: 0.9041 - val_loss: 0.3211 - val_acc: 0.8872\n",
            "Epoch 47/100\n",
            "1407/1407 [==============================] - 6s 4ms/step - loss: 0.2731 - acc: 0.9039 - val_loss: 0.3188 - val_acc: 0.8877\n",
            "Epoch 48/100\n",
            "1407/1407 [==============================] - 6s 4ms/step - loss: 0.2721 - acc: 0.9037 - val_loss: 0.3179 - val_acc: 0.8873\n",
            "Epoch 49/100\n",
            "1407/1407 [==============================] - 6s 4ms/step - loss: 0.2705 - acc: 0.9044 - val_loss: 0.3179 - val_acc: 0.8879\n",
            "Epoch 50/100\n",
            "1407/1407 [==============================] - 6s 4ms/step - loss: 0.2691 - acc: 0.9051 - val_loss: 0.3190 - val_acc: 0.8877\n",
            "Epoch 51/100\n",
            "1407/1407 [==============================] - 6s 4ms/step - loss: 0.2672 - acc: 0.9063 - val_loss: 0.3163 - val_acc: 0.8869\n",
            "Epoch 52/100\n",
            "1407/1407 [==============================] - 6s 4ms/step - loss: 0.2660 - acc: 0.9060 - val_loss: 0.3157 - val_acc: 0.8889\n",
            "Epoch 53/100\n",
            "1407/1407 [==============================] - 6s 4ms/step - loss: 0.2643 - acc: 0.9066 - val_loss: 0.3145 - val_acc: 0.8893\n",
            "Epoch 54/100\n",
            "1407/1407 [==============================] - 6s 4ms/step - loss: 0.2629 - acc: 0.9066 - val_loss: 0.3176 - val_acc: 0.8885\n",
            "Epoch 55/100\n",
            "1407/1407 [==============================] - 6s 4ms/step - loss: 0.2615 - acc: 0.9069 - val_loss: 0.3138 - val_acc: 0.8897\n",
            "Epoch 56/100\n",
            "1407/1407 [==============================] - 6s 4ms/step - loss: 0.2602 - acc: 0.9084 - val_loss: 0.3136 - val_acc: 0.8879\n",
            "Epoch 57/100\n",
            "1407/1407 [==============================] - 6s 4ms/step - loss: 0.2590 - acc: 0.9090 - val_loss: 0.3152 - val_acc: 0.8889\n",
            "Epoch 58/100\n",
            "1407/1407 [==============================] - 6s 4ms/step - loss: 0.2578 - acc: 0.9086 - val_loss: 0.3128 - val_acc: 0.8894\n",
            "Epoch 59/100\n",
            "1407/1407 [==============================] - 6s 4ms/step - loss: 0.2567 - acc: 0.9089 - val_loss: 0.3115 - val_acc: 0.8899\n",
            "Epoch 60/100\n",
            "1407/1407 [==============================] - 6s 4ms/step - loss: 0.2548 - acc: 0.9100 - val_loss: 0.3152 - val_acc: 0.8887\n",
            "Epoch 61/100\n",
            "1407/1407 [==============================] - 6s 4ms/step - loss: 0.2541 - acc: 0.9094 - val_loss: 0.3123 - val_acc: 0.8901\n",
            "Epoch 62/100\n",
            "1407/1407 [==============================] - 6s 4ms/step - loss: 0.2525 - acc: 0.9107 - val_loss: 0.3110 - val_acc: 0.8907\n",
            "Epoch 63/100\n",
            "1407/1407 [==============================] - 6s 4ms/step - loss: 0.2513 - acc: 0.9117 - val_loss: 0.3100 - val_acc: 0.8903\n",
            "Epoch 64/100\n",
            "1407/1407 [==============================] - 6s 4ms/step - loss: 0.2505 - acc: 0.9105 - val_loss: 0.3111 - val_acc: 0.8889\n",
            "Epoch 65/100\n",
            "1407/1407 [==============================] - 6s 4ms/step - loss: 0.2487 - acc: 0.9115 - val_loss: 0.3090 - val_acc: 0.8907\n",
            "Epoch 66/100\n",
            "1407/1407 [==============================] - 6s 4ms/step - loss: 0.2480 - acc: 0.9119 - val_loss: 0.3102 - val_acc: 0.8903\n",
            "Epoch 67/100\n",
            "1407/1407 [==============================] - 6s 4ms/step - loss: 0.2467 - acc: 0.9132 - val_loss: 0.3084 - val_acc: 0.8919\n",
            "Epoch 68/100\n",
            "1407/1407 [==============================] - 6s 4ms/step - loss: 0.2454 - acc: 0.9135 - val_loss: 0.3105 - val_acc: 0.8903\n",
            "Epoch 69/100\n",
            "1407/1407 [==============================] - 6s 4ms/step - loss: 0.2446 - acc: 0.9125 - val_loss: 0.3076 - val_acc: 0.8934\n",
            "Epoch 70/100\n",
            "1407/1407 [==============================] - 6s 4ms/step - loss: 0.2435 - acc: 0.9135 - val_loss: 0.3077 - val_acc: 0.8913\n",
            "Epoch 71/100\n",
            "1407/1407 [==============================] - 6s 4ms/step - loss: 0.2424 - acc: 0.9145 - val_loss: 0.3064 - val_acc: 0.8917\n",
            "Epoch 72/100\n",
            "1407/1407 [==============================] - 6s 4ms/step - loss: 0.2407 - acc: 0.9150 - val_loss: 0.3106 - val_acc: 0.8887\n",
            "Epoch 73/100\n",
            "1407/1407 [==============================] - 6s 4ms/step - loss: 0.2401 - acc: 0.9149 - val_loss: 0.3060 - val_acc: 0.8926\n",
            "Epoch 74/100\n",
            "1407/1407 [==============================] - 6s 4ms/step - loss: 0.2386 - acc: 0.9154 - val_loss: 0.3130 - val_acc: 0.8877\n",
            "Epoch 75/100\n",
            "1407/1407 [==============================] - 6s 4ms/step - loss: 0.2380 - acc: 0.9145 - val_loss: 0.3050 - val_acc: 0.8923\n",
            "Epoch 76/100\n",
            "1407/1407 [==============================] - 6s 4ms/step - loss: 0.2365 - acc: 0.9157 - val_loss: 0.3079 - val_acc: 0.8911\n",
            "Epoch 77/100\n",
            "1407/1407 [==============================] - 6s 4ms/step - loss: 0.2356 - acc: 0.9165 - val_loss: 0.3050 - val_acc: 0.8930\n",
            "Epoch 78/100\n",
            "1407/1407 [==============================] - 6s 4ms/step - loss: 0.2348 - acc: 0.9172 - val_loss: 0.3059 - val_acc: 0.8925\n",
            "Epoch 79/100\n",
            "1407/1407 [==============================] - 6s 4ms/step - loss: 0.2339 - acc: 0.9171 - val_loss: 0.3038 - val_acc: 0.8937\n",
            "Epoch 80/100\n",
            "1407/1407 [==============================] - 6s 4ms/step - loss: 0.2332 - acc: 0.9167 - val_loss: 0.3048 - val_acc: 0.8919\n",
            "Epoch 81/100\n",
            "1407/1407 [==============================] - 6s 4ms/step - loss: 0.2321 - acc: 0.9172 - val_loss: 0.3087 - val_acc: 0.8929\n",
            "Epoch 82/100\n",
            "1407/1407 [==============================] - 6s 4ms/step - loss: 0.2309 - acc: 0.9181 - val_loss: 0.3054 - val_acc: 0.8919\n",
            "Epoch 83/100\n",
            "1407/1407 [==============================] - 6s 4ms/step - loss: 0.2303 - acc: 0.9180 - val_loss: 0.3048 - val_acc: 0.8923\n",
            "Epoch 84/100\n",
            "1407/1407 [==============================] - 6s 4ms/step - loss: 0.2292 - acc: 0.9191 - val_loss: 0.3054 - val_acc: 0.8922\n",
            "Epoch 85/100\n",
            "1407/1407 [==============================] - 6s 4ms/step - loss: 0.2283 - acc: 0.9190 - val_loss: 0.3172 - val_acc: 0.8888\n",
            "Epoch 86/100\n",
            "1407/1407 [==============================] - 6s 4ms/step - loss: 0.2277 - acc: 0.9191 - val_loss: 0.3045 - val_acc: 0.8923\n",
            "Epoch 87/100\n",
            "1407/1407 [==============================] - 6s 4ms/step - loss: 0.2257 - acc: 0.9192 - val_loss: 0.3056 - val_acc: 0.8921\n",
            "Epoch 88/100\n",
            "1407/1407 [==============================] - 6s 4ms/step - loss: 0.2253 - acc: 0.9192 - val_loss: 0.3052 - val_acc: 0.8931\n",
            "Epoch 89/100\n",
            "1407/1407 [==============================] - 6s 4ms/step - loss: 0.2247 - acc: 0.9202 - val_loss: 0.3027 - val_acc: 0.8936\n",
            "Epoch 90/100\n",
            "1407/1407 [==============================] - 6s 4ms/step - loss: 0.2236 - acc: 0.9200 - val_loss: 0.3094 - val_acc: 0.8898\n",
            "Epoch 91/100\n",
            "1407/1407 [==============================] - 6s 4ms/step - loss: 0.2230 - acc: 0.9203 - val_loss: 0.3035 - val_acc: 0.8939\n",
            "Epoch 92/100\n",
            "1407/1407 [==============================] - 6s 4ms/step - loss: 0.2218 - acc: 0.9206 - val_loss: 0.3045 - val_acc: 0.8940\n",
            "Epoch 93/100\n",
            "1407/1407 [==============================] - 6s 4ms/step - loss: 0.2215 - acc: 0.9216 - val_loss: 0.3029 - val_acc: 0.8942\n",
            "Epoch 94/100\n",
            "1407/1407 [==============================] - 6s 4ms/step - loss: 0.2207 - acc: 0.9216 - val_loss: 0.3015 - val_acc: 0.8942\n",
            "Epoch 95/100\n",
            "1407/1407 [==============================] - 6s 4ms/step - loss: 0.2192 - acc: 0.9229 - val_loss: 0.3040 - val_acc: 0.8921\n",
            "Epoch 96/100\n",
            "1407/1407 [==============================] - 6s 4ms/step - loss: 0.2185 - acc: 0.9213 - val_loss: 0.3055 - val_acc: 0.8921\n",
            "Epoch 97/100\n",
            "1407/1407 [==============================] - 6s 4ms/step - loss: 0.2177 - acc: 0.9221 - val_loss: 0.3034 - val_acc: 0.8937\n",
            "Epoch 98/100\n",
            "1407/1407 [==============================] - 6s 4ms/step - loss: 0.2169 - acc: 0.9226 - val_loss: 0.3039 - val_acc: 0.8933\n",
            "Epoch 99/100\n",
            "1407/1407 [==============================] - 6s 4ms/step - loss: 0.2158 - acc: 0.9223 - val_loss: 0.3043 - val_acc: 0.8930\n",
            "Epoch 100/100\n",
            "1407/1407 [==============================] - 6s 4ms/step - loss: 0.2154 - acc: 0.9236 - val_loss: 0.3025 - val_acc: 0.8934\n"
          ]
        }
      ]
    },
    {
      "cell_type": "code",
      "source": [
        "import matplotlib.pyplot as plt\n",
        "\n",
        "fig, ax = plt.subplots(2,1)\n",
        "ax[0].plot(hist.history['loss'], color='b', label=\"Training Loss\")\n",
        "ax[0].plot(hist.history['val_loss'], color='r', label=\"Validation Loss\")\n",
        "legend = ax[0].legend(loc='best', shadow=True)\n",
        "\n",
        "ax[1].plot(hist.history['acc'], color='b', label=\"Training Accuracy\")\n",
        "ax[1].plot(hist.history['val_acc'], color='r', label=\"Validation Accuracy\")\n",
        "legend = ax[1].legend(loc='best', shadow=True)"
      ],
      "metadata": {
        "id": "7fXttKDA7cV9",
        "colab": {
          "base_uri": "https://localhost:8080/",
          "height": 265
        },
        "outputId": "35cc56b8-8ba9-4dd3-818b-74309fa873ba"
      },
      "execution_count": null,
      "outputs": [
        {
          "output_type": "display_data",
          "data": {
            "text/plain": [
              "<Figure size 432x288 with 2 Axes>"
            ],
            "image/png": "[encoded data removed]"
          },
          "metadata": {
            "needs_background": "light"
          }
        }
      ]
    },
    {
      "cell_type": "code",
      "source": [
        "model.evaluate(X_test, y_test)"
      ],
      "metadata": {
        "id": "CTc6qms_-TEF",
        "colab": {
          "base_uri": "https://localhost:8080/"
        },
        "outputId": "3c2d16ea-6529-4abb-ed3a-995094aa2935"
      },
      "execution_count": null,
      "outputs": [
        {
          "output_type": "stream",
          "name": "stdout",
          "text": [
            "313/313 [==============================] - 1s 3ms/step - loss: 0.3197 - acc: 0.8878\n"
          ]
        },
        {
          "output_type": "execute_result",
          "data": {
            "text/plain": [
              "[0.3197268545627594, 0.8877999782562256]"
            ]
          },
          "metadata": {},
          "execution_count": 29
        }
      ]
    },
    {
      "cell_type": "code",
      "source": [],
      "metadata": {
        "id": "XINyDb6yVqmP"
      },
      "execution_count": null,
      "outputs": []
    }
  ]
}