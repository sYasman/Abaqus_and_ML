{
 "cells": [
  {
   "cell_type": "markdown",
   "metadata": {
    "id": "eqxUicSPUOP6"
   },
   "source": [
    "## Imports"
   ]
  },
  {
   "cell_type": "code",
   "execution_count": null,
   "metadata": {
    "id": "NyftRTSMuwue"
   },
   "outputs": [],
   "source": [
    "try:\n",
    "  # %tensorflow_version only exists in Colab.\n",
    "  %tensorflow_version 2.x\n",
    "except Exception:\n",
    "  pass\n",
    "\n",
    "import tensorflow as tf\n",
    "\n",
    "import matplotlib.pyplot as plt\n",
    "import numpy as np\n",
    "from keras import backend as K\n",
    "\n",
    "from imageio import mimsave\n",
    "from IPython.display import display as display_fn\n",
    "from IPython.display import Image, clear_output"
   ]
  },
  {
   "cell_type": "markdown",
   "metadata": {
    "id": "5Rd1FKJ9KOr5"
   },
   "source": [
    "## Utilities\n",
    "\n",
    "As before, we've provided some utility functions below to help in loading, visualizing, and preprocessing the images."
   ]
  },
  {
   "cell_type": "code",
   "execution_count": null,
   "metadata": {
    "id": "qCMK4u6poA1k"
   },
   "outputs": [],
   "source": [
    "def tensor_to_image(tensor):\n",
    "  '''converts a tensor to an image'''\n",
    "  tensor_shape = tf.shape(tensor)\n",
    "  number_elem_shape = tf.shape(tensor_shape)\n",
    "  if number_elem_shape > 3:\n",
    "    assert tensor_shape[0] == 1\n",
    "    tensor = tensor[0]\n",
    "  return tf.keras.preprocessing.image.array_to_img(tensor) \n",
    "\n",
    "\n",
    "def load_img(path_to_img):\n",
    "  '''loads an image as a tensor and scales it to 512 pixels'''\n",
    "  max_dim = 512\n",
    "  image = tf.io.read_file(path_to_img)\n",
    "  image = tf.image.decode_jpeg(image)\n",
    "  image = tf.image.convert_image_dtype(image, tf.float32)\n",
    "\n",
    "  shape = tf.shape(image)[:-1]\n",
    "  shape = tf.cast(tf.shape(image)[:-1], tf.float32)\n",
    "  long_dim = max(shape)\n",
    "  scale = max_dim / long_dim\n",
    "\n",
    "  new_shape = tf.cast(shape * scale, tf.int32)\n",
    "\n",
    "  image = tf.image.resize(image, new_shape)\n",
    "  image = image[tf.newaxis, :]\n",
    "  image = tf.image.convert_image_dtype(image, tf.uint8)\n",
    "\n",
    "  return image\n",
    "\n",
    "\n",
    "def load_images(content_path, style_path):\n",
    "  '''loads the content and path images as tensors'''\n",
    "  content_image = load_img(\"{}\".format(content_path))\n",
    "  style_image = load_img(\"{}\".format(style_path))\n",
    "\n",
    "  return content_image, style_image\n",
    "\n",
    "\n",
    "def imshow(image, title=None):\n",
    "  '''displays an image with a corresponding title'''\n",
    "  if len(image.shape) > 3:\n",
    "    image = tf.squeeze(image, axis=0)\n",
    "\n",
    "  plt.imshow(image)\n",
    "  if title:\n",
    "    plt.title(title)\n",
    "    \n",
    "    \n",
    "def show_images_with_objects(images, titles=[]):\n",
    "  '''displays a row of images with corresponding titles'''\n",
    "  if len(images) != len(titles):\n",
    "    return\n",
    "\n",
    "  plt.figure(figsize=(20, 12))\n",
    "  for idx, (image, title) in enumerate(zip(images, titles)):\n",
    "    plt.subplot(1, len(images), idx + 1)\n",
    "    plt.xticks([])\n",
    "    plt.yticks([])\n",
    "    imshow(image, title)\n",
    "\n",
    "\n",
    "def clip_image_values(image, min_value=0.0, max_value=255.0):\n",
    "  '''clips the image pixel values by the given min and max'''\n",
    "  return tf.clip_by_value(image, clip_value_min=min_value, clip_value_max=max_value)\n",
    "\n",
    "\n",
    "def preprocess_image(image):\n",
    "  '''preprocesses a given image to use with Inception model'''\n",
    "  image = tf.cast(image, dtype=tf.float32)\n",
    "  image = (image / 127.5) - 1.0\n",
    "\n",
    "  return image"
   ]
  },
  {
   "cell_type": "markdown",
   "metadata": {
    "id": "0U9It5Ii2Oof"
   },
   "source": [
    "## Download Images"
   ]
  },
  {
   "cell_type": "code",
   "execution_count": null,
   "metadata": {
    "id": "wqc0OJHwyFAk"
   },
   "outputs": [],
   "source": [
    "content_path = tf.keras.utils.get_file('content_image.jpg','https://storage.googleapis.com/laurencemoroney-blog.appspot.com/MLColabImages/dog1.jpg')\n",
    "style_path = tf.keras.utils.get_file('style_image.jpg','https://storage.googleapis.com/download.tensorflow.org/example_images/Vassily_Kandinsky%2C_1913_-_Composition_7.jpg')"
   ]
  },
  {
   "cell_type": "code",
   "execution_count": null,
   "metadata": {
    "id": "vE2TBEBntSjm"
   },
   "outputs": [],
   "source": [
    "# display the content and style image\n",
    "content_image, style_image = load_images(content_path, style_path)\n",
    "show_images_with_objects([content_image, style_image], \n",
    "                         titles=[f'content image: {content_path}',\n",
    "                                 f'style image: {style_path}'])"
   ]
  },
  {
   "cell_type": "markdown",
   "metadata": {
    "id": "Jt3i3RRrJiOX"
   },
   "source": [
    "## Build the feature extractor"
   ]
  },
  {
   "cell_type": "code",
   "execution_count": null,
   "metadata": {
    "id": "psmTncz8nTSV"
   },
   "outputs": [],
   "source": [
    "# clear session to make layer naming consistent when re-running this cell\n",
    "K.clear_session()\n",
    "\n",
    "# download the inception model and inspect the layers\n",
    "tmp_inception = tf.keras.applications.InceptionV3()\n",
    "tmp_inception.summary()\n",
    "\n",
    "# delete temporary model\n",
    "del tmp_inception"
   ]
  },
  {
   "cell_type": "markdown",
   "metadata": {
    "id": "Yk6qYGEynTSW"
   },
   "source": [
    "As you can see, it's a very deep network and compared to VGG-19, it's harder to choose which layers to choose to extract features from. \n",
    "\n",
    "- Notice that the Conv2D layers are named from `conv2d`, `conv2d_1` ... `conv2d_93`, for a total of 94 conv2d layers.\n",
    "  - So the second conv2D layer is named `conv2d_1`.\n",
    "- For the purpose of grading, please choose the following\n",
    "  - For the content layer: choose the Conv2D layer indexed at `88`.\n",
    "  - For the style layers, please choose the first `five` conv2D layers near the input end of the model.\n",
    "    - Note the numbering as mentioned in these instructions."
   ]
  },
  {
   "cell_type": "markdown",
   "metadata": {
    "id": "Wt-tASys0eJv"
   },
   "source": [
    "Choose intermediate layers from the network to represent the style and content of the image:\n"
   ]
  },
  {
   "cell_type": "code",
   "execution_count": null,
   "metadata": {
    "id": "ArfX_6iA0WAX"
   },
   "outputs": [],
   "source": [
    "\n",
    "# choose the content layer and put in a list\n",
    "content_layers = ['conv2d_88']\n",
    "\n",
    "# choose the five style layers of interest\n",
    "style_layers = ['conv2d', \n",
    "                'conv2d_1', \n",
    "                'conv2d_2',\n",
    "                'conv2d_3',\n",
    "                'conv2d_4']\n",
    "                \n",
    "# combine the content and style layers into one list\n",
    "content_and_style_layers = content_layers + style_layers\n",
    "\n",
    "\n",
    "# count the number of content layers and style layers.\n",
    "# you will use these counts later in the assignment\n",
    "NUM_CONTENT_LAYERS = len(content_layers)\n",
    "NUM_STYLE_LAYERS = len(style_layers)"
   ]
  },
  {
   "cell_type": "markdown",
   "metadata": {
    "id": "MGo9tQtlTtfQ"
   },
   "source": [
    "You can now setup your model to output the selected layers.\n"
   ]
  },
  {
   "cell_type": "code",
   "execution_count": null,
   "metadata": {
    "id": "nfec6MuMAbPx"
   },
   "outputs": [],
   "source": [
    "def inception_model(layer_names):\n",
    "  \"\"\" Creates a inception model that returns a list of intermediate output values.\n",
    "    args:\n",
    "    layer_names: a list of strings, representing the names of the desired content and style layers\n",
    "    \n",
    "  returns:\n",
    "    A model that takes the regular inception v3 input and outputs just the content and style layers.\n",
    "  \n",
    "  \"\"\"\n",
    "  \n",
    "### START CODE HERE ###\n",
    "  # Load InceptionV3 with the imagenet weights and **without** the fully-connected layer at the top of the network\n",
    "  inception = tf.keras.applications.InceptionV3(include_top=False, weights='imagenet')\n",
    "\n",
    "  # Freeze the weights of the model's layers (make them not trainable)\n",
    "  inception.trainable = False\n",
    "  \n",
    "  # Create a list of layer objects that are specified by layer_names\n",
    "  output_layers = [inception.get_layer(name).output for name in layer_names]\n",
    "\n",
    "  # Create the model that outputs the content and style layers\n",
    "  model = tf.keras.Model(inputs=inception.input, outputs=output_layers)\n",
    "    \n",
    "  # return the model\n",
    "  return model\n"
   ]
  },
  {
   "cell_type": "markdown",
   "metadata": {
    "id": "IwJJkA0enTSX"
   },
   "source": [
    "Create an instance of the content and style model using the function that you just defined"
   ]
  },
  {
   "cell_type": "code",
   "execution_count": null,
   "metadata": {
    "id": "6AYqTPpOnTSX"
   },
   "outputs": [],
   "source": [
    "K.clear_session()\n",
    "\n",
    "inception = inception_model(content_and_style_layers)\n"
   ]
  },
  {
   "cell_type": "markdown",
   "metadata": {
    "id": "jbaIvZf5wWn_"
   },
   "source": [
    "## Calculate style loss\n",
    "\n",
    "The style loss is the average of the squared differences between the features and targets."
   ]
  },
  {
   "cell_type": "code",
   "execution_count": null,
   "metadata": {
    "id": "nv8hZU0oKIm_"
   },
   "outputs": [],
   "source": [
    "def get_style_loss(features, targets):\n",
    "  \"\"\"Expects two images of dimension h, w, c\n",
    "  \n",
    "  Args:\n",
    "    features: tensor with shape: (height, width, channels)\n",
    "    targets: tensor with shape: (height, width, channels)\n",
    "\n",
    "  Returns:\n",
    "    style loss (scalar)\n",
    "  \"\"\"\n",
    "    \n",
    "  # Calculate the style loss\n",
    "  style_loss = tf.reduce_mean(tf.square(features - targets))\n",
    "\n",
    "  return style_loss"
   ]
  },
  {
   "cell_type": "markdown",
   "metadata": {
    "id": "QDDiPF6YnTSY"
   },
   "source": [
    "## Calculate content loss\n",
    "\n",
    "Calculate the sum of the squared error between the features and targets, then multiply by a scaling factor (0.5)."
   ]
  },
  {
   "cell_type": "code",
   "execution_count": null,
   "metadata": {
    "id": "et8M1lOgKL8o"
   },
   "outputs": [],
   "source": [
    "def get_content_loss(features, targets):\n",
    "  \"\"\"Expects two images of dimension h, w, c\n",
    "  \n",
    "  Args:\n",
    "    features: tensor with shape: (height, width, channels)\n",
    "    targets: tensor with shape: (height, width, channels)\n",
    "  \n",
    "  Returns:\n",
    "    content loss (scalar)\n",
    "  \"\"\"\n",
    "  # get the sum of the squared error multiplied by a scaling factor\n",
    "  content_loss = 0.500 * tf.reduce_sum(tf.square(features - targets))\n",
    "    \n",
    "  return content_loss"
   ]
  },
  {
   "cell_type": "markdown",
   "metadata": {
    "id": "2ygKYFw1nTSY"
   },
   "source": [
    "## Calculate the gram matrix\n",
    "\n",
    "Use `tf.linalg.einsum` to calculate the gram matrix for an input tensor.\n",
    "- In addition, calculate the scaling factor `num_locations` and divide the gram matrix calculation by `num_locations`.\n",
    "\n",
    "$$ \\text{num locations} = height \\times width $$"
   ]
  },
  {
   "cell_type": "code",
   "execution_count": null,
   "metadata": {
    "id": "HAy1iGPdoEpZ"
   },
   "outputs": [],
   "source": [
    "def gram_matrix(input_tensor):\n",
    "  \"\"\" Calculates the gram matrix and divides by the number of locations\n",
    "  Args:\n",
    "    input_tensor: tensor of shape (batch, height, width, channels)\n",
    "    \n",
    "  Returns:\n",
    "    scaled_gram: gram matrix divided by the number of locations\n",
    "  \"\"\"\n",
    "\n",
    "  # calculate the gram matrix of the input tensor\n",
    "  gram = tf.linalg.einsum('bijc,bijd->bcd', input_tensor, input_tensor) \n",
    "\n",
    "  # get the height and width of the input tensor\n",
    "  input_shape = tf.shape(input_tensor) \n",
    "  height = input_shape[1] \n",
    "  width = input_shape[2] \n",
    "\n",
    "  # get the number of locations (height times width), and cast it as a tf.float32\n",
    "  num_locations = tf.cast(height * width, tf.float32)\n",
    "\n",
    "  # scale the gram matrix by dividing by the number of locations\n",
    "  scaled_gram = gram / num_locations\n",
    "    \n",
    "  return scaled_gram"
   ]
  },
  {
   "cell_type": "markdown",
   "metadata": {
    "id": "3TYRWE0JnTSZ"
   },
   "source": [
    "## Get the style image features\n",
    "\n",
    "Given the style image as input, you'll get the style features of the inception model that you just created using `inception_model()`.\n",
    "- You'll first preprocess the image using the given `preprocess_image` function.\n",
    "- You'll then get the outputs of the model.\n",
    "- From the outputs, just get the style feature layers and not the content feature layer.\n",
    "\n",
    "You can run the following code to check the order of the layers in your inception model:"
   ]
  },
  {
   "cell_type": "code",
   "execution_count": null,
   "metadata": {
    "id": "YkVlPUMWnTSZ"
   },
   "outputs": [],
   "source": [
    "tmp_layer_list = [layer.output for layer in inception.layers]\n",
    "tmp_layer_list"
   ]
  },
  {
   "cell_type": "markdown",
   "metadata": {
    "id": "D3IATpyxnTSZ"
   },
   "source": [
    "- For each style layer, calculate the gram matrix.  Store these results in a list and return it."
   ]
  },
  {
   "cell_type": "code",
   "execution_count": null,
   "metadata": {
    "id": "YzTK5qzG_MKh"
   },
   "outputs": [],
   "source": [
    "def get_style_image_features(image):  \n",
    "  \"\"\" Get the style image features\n",
    "  \n",
    "  Args:\n",
    "    image: an input image\n",
    "    \n",
    "  Returns:\n",
    "    gram_style_features: the style features as gram matrices\n",
    "  \"\"\"\n",
    "\n",
    "\n",
    "  # preprocess the image using the given preprocessing function\n",
    "  preprocessed_style_image = preprocess_image(image)\n",
    "\n",
    "  # get the outputs from the inception model that you created using inception_model()\n",
    "  outputs = inception(preprocessed_style_image)\n",
    "\n",
    "  # Get just the style feature layers (exclude the content layer)\n",
    "  style_outputs = outputs[NUM_CONTENT_LAYERS:]\n",
    "\n",
    "  # for each style layer, calculate the gram matrix for that layer and store these results in a list\n",
    "  gram_style_features = [gram_matrix(style_layer) for style_layer in style_outputs]\n",
    "\n",
    "  return gram_style_features"
   ]
  },
  {
   "cell_type": "markdown",
   "metadata": {
    "id": "No7Yox0bnTSa"
   },
   "source": [
    "## Get content image features\n",
    "\n",
    "You will get the content features of the content image.\n",
    "- You can follow a similar process as you did with `get_style_image_features`.\n",
    "- For the content image, you will not calculate the gram matrix of these style features."
   ]
  },
  {
   "cell_type": "code",
   "execution_count": null,
   "metadata": {
    "id": "Y7rq02U9_a6L"
   },
   "outputs": [],
   "source": [
    "def get_content_image_features(image):\n",
    "  \"\"\" Get the content image features\n",
    "  \n",
    "  Args:\n",
    "    image: an input image\n",
    "    \n",
    "  Returns:\n",
    "    content_outputs: the content features of the image\n",
    "  \"\"\"\n",
    "  # preprocess the image\n",
    "  preprocessed_content_image = preprocess_image(image)\n",
    "    \n",
    "  # get the outputs from the inception model\n",
    "  outputs = inception(preprocessed_content_image)\n",
    "\n",
    "  # get the content layer of the outputs\n",
    "  content_outputs = outputs[:NUM_CONTENT_LAYERS]\n",
    "\n",
    "  return content_outputs"
   ]
  },
  {
   "cell_type": "markdown",
   "metadata": {
    "id": "p5gcMSfLnTSa"
   },
   "source": [
    "## Calculate the total loss\n",
    "\n",
    "Please define the total loss using the helper functions you just defined. As a refresher, the total loss is given by $L_{total} = \\beta L_{style} + \\alpha L_{content}$, where $\\beta$ and $\\alpha$ are the style and content weights, respectively.\n"
   ]
  },
  {
   "cell_type": "code",
   "execution_count": null,
   "metadata": {
    "id": "q20XhIHnotQA"
   },
   "outputs": [],
   "source": [
    "def get_style_content_loss(style_targets, style_outputs, content_targets, \n",
    "                           content_outputs, style_weight, content_weight):\n",
    "  \"\"\" Combine the style and content loss\n",
    "  \n",
    "  Args:\n",
    "    style_targets: style features of the style image\n",
    "    style_outputs: style features of the generated image\n",
    "    content_targets: content features of the content image\n",
    "    content_outputs: content features of the generated image\n",
    "    style_weight: weight given to the style loss\n",
    "    content_weight: weight given to the content loss\n",
    "\n",
    "  Returns:\n",
    "    total_loss: the combined style and content loss\n",
    "\n",
    "  \"\"\"\n",
    "    \n",
    "  # Sum of the style losses\n",
    "  style_loss = tf.add_n([ get_style_loss(style_output, style_target)\n",
    "                           for style_output, style_target in zip(style_outputs, style_targets)])\n",
    "  \n",
    "  # Sum up the content losses\n",
    "  content_loss = tf.add_n([get_content_loss(content_output, content_target)\n",
    "                           for content_output, content_target in zip(content_outputs, content_targets)])\n",
    "\n",
    "  # scale the style loss by multiplying by the style weight and dividing by the number of style layers\n",
    "  style_loss = style_loss*style_weight / NUM_STYLE_LAYERS\n",
    "\n",
    "  # scale the content loss by multiplying by the content weight and dividing by the number of content layers\n",
    "  content_loss = content_loss*content_weight / NUM_CONTENT_LAYERS\n",
    "    \n",
    "  # sum up the style and content losses\n",
    "  total_loss = style_loss + content_loss\n",
    "\n",
    "  # return the total loss\n",
    "  return total_loss"
   ]
  },
  {
   "cell_type": "markdown",
   "metadata": {
    "id": "W6lE_zt8nTSb"
   },
   "source": [
    "## Calculate gradients\n",
    "\n",
    "Please use `tf.GradientTape()` to get the gradients of the loss with respect to the input image. Take note that you will *not* need a regularization parameter in this exercise so we only provided the style and content weights as arguments."
   ]
  },
  {
   "cell_type": "code",
   "execution_count": null,
   "metadata": {
    "id": "mp2g2tI58RI0"
   },
   "outputs": [],
   "source": [
    "def calculate_gradients(image, style_targets, content_targets, \n",
    "                        style_weight, content_weight):\n",
    "  \"\"\" Calculate the gradients of the loss with respect to the generated image\n",
    "  Args:\n",
    "    image: generated image\n",
    "    style_targets: style features of the style image\n",
    "    content_targets: content features of the content image\n",
    "    style_weight: weight given to the style loss\n",
    "    content_weight: weight given to the content loss\n",
    "  \n",
    "  Returns:\n",
    "    gradients: gradients of the loss with respect to the input image\n",
    "  \"\"\"\n",
    "\n",
    "  with tf.GradientTape() as tape:\n",
    "      \n",
    "    # get the style image features\n",
    "    style_features = get_style_image_features(image)\n",
    "      \n",
    "    # get the content image features\n",
    "    content_features = get_content_image_features(image)\n",
    "      \n",
    "    # get the style and content loss\n",
    "    loss = get_style_content_loss(style_targets, style_features, content_targets, \n",
    "                           content_features, style_weight, content_weight)\n",
    "\n",
    "  # calculate gradients of loss with respect to the image\n",
    "  gradients = tape.gradient(loss, image)\n",
    "\n",
    "  return gradients"
   ]
  },
  {
   "cell_type": "markdown",
   "metadata": {
    "id": "I4drTvUNnTSb"
   },
   "source": [
    "## Update the image with the style\n",
    "\n",
    "Please define the helper function to apply the gradients to the generated/stylized image."
   ]
  },
  {
   "cell_type": "code",
   "execution_count": null,
   "metadata": {
    "id": "e-MPRxuGp-5A"
   },
   "outputs": [],
   "source": [
    "def update_image_with_style(image, style_targets, content_targets, style_weight, \n",
    "                            content_weight, optimizer):\n",
    "  \"\"\"\n",
    "  Args:\n",
    "    image: generated image\n",
    "    style_targets: style features of the style image\n",
    "    content_targets: content features of the content image\n",
    "    style_weight: weight given to the style loss\n",
    "    content_weight: weight given to the content loss\n",
    "    optimizer: optimizer for updating the input image\n",
    "  \"\"\"\n",
    "\n",
    "  # Calculate gradients using the function that you just defined.\n",
    "  gradients = calculate_gradients(image, style_targets, content_targets, \n",
    "                        style_weight, content_weight)\n",
    "\n",
    "  # apply the gradients to the given image\n",
    "  optimizer.apply_gradients([(gradients, image)])\n",
    "\n",
    "  # Clip the image using the given clip_image_values() function\n",
    "  image.assign(clip_image_values(image, min_value=0.0, max_value=255.0))"
   ]
  },
  {
   "cell_type": "markdown",
   "metadata": {
    "id": "foTOpNNw2Wp2"
   },
   "source": [
    "## Generate the stylized image\n",
    "\n",
    "Please complete the function below to implement neural style transfer between your content and style images."
   ]
  },
  {
   "cell_type": "code",
   "execution_count": null,
   "metadata": {
    "id": "U0Btr_j9M1gu",
    "lines_to_next_cell": 2
   },
   "outputs": [],
   "source": [
    "def fit_style_transfer(style_image, content_image, style_weight=1e-2, content_weight=1e-4, \n",
    "                       optimizer='adam', epochs=1, steps_per_epoch=1):\n",
    "  \"\"\" Performs neural style transfer.\n",
    "  Args:\n",
    "    style_image: image to get style features from\n",
    "    content_image: image to stylize \n",
    "    style_targets: style features of the style image\n",
    "    content_targets: content features of the content image\n",
    "    style_weight: weight given to the style loss\n",
    "    content_weight: weight given to the content loss\n",
    "    optimizer: optimizer for updating the input image\n",
    "    epochs: number of epochs\n",
    "    steps_per_epoch = steps per epoch\n",
    "  \n",
    "  Returns:\n",
    "    generated_image: generated image at final epoch\n",
    "    images: collection of generated images per epoch  \n",
    "  \"\"\"\n",
    "\n",
    "  images = []\n",
    "  step = 0\n",
    "\n",
    "  # get the style image features \n",
    "  style_targets = get_style_image_features(style_image)\n",
    "    \n",
    "  # get the content image features\n",
    "  content_targets = get_content_image_features(content_image)\n",
    "\n",
    "  # initialize the generated image for updates\n",
    "  generated_image = tf.cast(content_image, dtype=tf.float32)\n",
    "  generated_image = tf.Variable(generated_image) \n",
    "  \n",
    "  # collect the image updates starting from the content image\n",
    "  images.append(content_image)\n",
    "  \n",
    "  for n in range(epochs):\n",
    "    for m in range(steps_per_epoch):\n",
    "      step += 1\n",
    "\n",
    "      # Update the image with the style using the function that you defined\n",
    "      update_image_with_style(generated_image, style_targets, content_targets, style_weight, \n",
    "                            content_weight, optimizer)\n",
    "    \n",
    "      ### END CODE HERE\n",
    "\n",
    "      print(\".\", end='')\n",
    "      if (m + 1) % 10 == 0:\n",
    "        images.append(generated_image)\n",
    "    \n",
    "    # display the current stylized image\n",
    "    clear_output(wait=True)\n",
    "    display_image = tensor_to_image(generated_image)\n",
    "    display_fn(display_image)\n",
    "\n",
    "    # append to the image collection for visualization later\n",
    "    images.append(generated_image)\n",
    "    print(\"Train step: {}\".format(step))\n",
    "  \n",
    "  # convert to uint8 (expected dtype for images with pixels in the range [0,255])\n",
    "  generated_image = tf.cast(generated_image, dtype=tf.uint8)\n",
    "  \n",
    "  return generated_image, images"
   ]
  },
  {
   "cell_type": "markdown",
   "metadata": {
    "id": "rFNfb_bpY6Qe"
   },
   "source": [
    "With all the helper functions defined, you can now run the main loop and generate the stylized image. This will take a few minutes to run."
   ]
  },
  {
   "cell_type": "code",
   "execution_count": null,
   "metadata": {
    "id": "MtUgMzp8tHs6"
   },
   "outputs": [],
   "source": [
    "# define style and content weight\n",
    "style_weight =  1\n",
    "content_weight = 1e-32 \n",
    "\n",
    "# define optimizer. learning rate decreases per epoch.\n",
    "adam = tf.optimizers.Adam(\n",
    "    tf.keras.optimizers.schedules.ExponentialDecay(\n",
    "        initial_learning_rate=80.0, decay_steps=100, decay_rate=0.80\n",
    "    )\n",
    ")\n",
    "\n",
    "# start the neural style transfer\n",
    "stylized_image, display_images = fit_style_transfer(style_image=style_image, content_image=content_image, \n",
    "                                                    style_weight=style_weight, content_weight=content_weight,\n",
    "                                                    optimizer=adam, epochs=10, steps_per_epoch=100)"
   ]
  }
 ],
 "metadata": {
  "accelerator": "GPU",
  "colab": {
   "collapsed_sections": [],
   "include_colab_link": true,
   "private_outputs": true,
   "provenance": []
  },
  "gpuClass": "standard",
  "kernelspec": {
   "display_name": "Python 3 (ipykernel)",
   "language": "python",
   "name": "python3"
  },
  "language_info": {
   "codemirror_mode": {
    "name": "ipython",
    "version": 3
   },
   "file_extension": ".py",
   "mimetype": "text/x-python",
   "name": "python",
   "nbconvert_exporter": "python",
   "pygments_lexer": "ipython3",
   "version": "3.9.13"
  }
 },
 "nbformat": 4,
 "nbformat_minor": 4
}
