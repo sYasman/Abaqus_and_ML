{
 "cells": [
  {
   "cell_type": "code",
   "execution_count": 1,
   "id": "e1ad689b-ea35-4127-bc19-faa6c985cc04",
   "metadata": {},
   "outputs": [],
   "source": [
    "import cv2\n",
    "import numpy as np"
   ]
  },
  {
   "cell_type": "code",
   "execution_count": 2,
   "id": "71fdd5d8-fad6-4671-8e04-8dea598d0102",
   "metadata": {},
   "outputs": [],
   "source": [
    "# load YOLO (use cv2.dnn)\n",
    "net = cv2.dnn.readNet('yolov3.weights', 'yolov3.cfg')"
   ]
  },
  {
   "cell_type": "code",
   "execution_count": 3,
   "id": "309cbe1f-e76f-45c9-8531-1ae6d12e799f",
   "metadata": {},
   "outputs": [
    {
     "name": "stdout",
     "output_type": "stream",
     "text": [
      "['person', 'bicycle', 'car', 'motorbike', 'aeroplane', 'bus', 'train', 'truck', 'boat', 'traffic light', 'fire hydrant', 'stop sign', 'parking meter', 'bench', 'bird', 'cat', 'dog', 'horse', 'sheep', 'cow', 'elephant', 'bear', 'zebra', 'giraffe', 'backpack', 'umbrella', 'handbag', 'tie', 'suitcase', 'frisbee', 'skis', 'snowboard', 'sports ball', 'kite', 'baseball bat', 'baseball glove', 'skateboard', 'surfboard', 'tennis racket', 'bottle', 'wine glass', 'cup', 'fork', 'knife', 'spoon', 'bowl', 'banana', 'apple', 'sandwich', 'orange', 'broccoli', 'carrot', 'hot dog', 'pizza', 'donut', 'cake', 'chair', 'sofa', 'pottedplant', 'bed', 'diningtable', 'toilet', 'tvmonitor', 'laptop', 'mouse', 'remote', 'keyboard', 'cell phone', 'microwave', 'oven', 'toaster', 'sink', 'refrigerator', 'book', 'clock', 'vase', 'scissors', 'teddy bear', 'hair drier', 'toothbrush']\n"
     ]
    }
   ],
   "source": [
    "with open('coco.names', 'r') as f_in:\n",
    "    classes = [line.strip() for line in f_in.readlines()]\n",
    "print(classes)\n",
    "colors = np.random.uniform(0, 255, size=(len(classes), 3))"
   ]
  },
  {
   "cell_type": "code",
   "execution_count": 4,
   "id": "38e842fc-bf52-42a8-823c-e44d59bf77c1",
   "metadata": {},
   "outputs": [],
   "source": [
    "layer_names = net.getLayerNames()\n",
    "outputlayers = [layer_names[i -1] for i in net.getUnconnectedOutLayers()]\n"
   ]
  },
  {
   "cell_type": "code",
   "execution_count": 17,
   "id": "58ff69ef-823c-4e2f-8a60-c6112b7ee777",
   "metadata": {},
   "outputs": [
    {
     "name": "stdout",
     "output_type": "stream",
     "text": [
      "[ 18   7   9  79  94  30 100  83  41  62  23  54  57  14  51  67  26  49\n",
      "  46  44  88  33  55  52  35  47  85  75  20  59]\n"
     ]
    },
    {
     "data": {
      "text/plain": [
       "True"
      ]
     },
     "execution_count": 17,
     "metadata": {},
     "output_type": "execute_result"
    }
   ],
   "source": [
    "img = cv2.imread('traffic2.jpg')\n",
    "\n",
    "\n",
    "\n",
    "#img = cv2.resize(img, None, fx=2.40, fy=2.40)\n",
    "height, width, channel = img.shape\n",
    "\n",
    "blob = cv2.dnn.blobFromImage(img, 0.00382, (416, 416), (0,0,0), True, crop=False)\n",
    "\n",
    "net.setInput(blob)\n",
    "outs = net.forward(outputlayers)\n",
    "\n",
    "\n",
    "\n",
    "#show info in screen\n",
    "class_ids = []\n",
    "confidences = []\n",
    "boxes = []\n",
    "for out in outs:\n",
    "    for detection in out:\n",
    "        scores = detection[5:] # first for are coord\n",
    "        class_id = np.argmax(scores)\n",
    "        confidence = scores[class_id]\n",
    "        if confidence > 0.500:\n",
    "            # objcet found\n",
    "            center_x = int(detection[0] * width)\n",
    "            center_y = int(detection[1] * height)\n",
    "            w = int(detection[2] * width)\n",
    "            h = int(detection[3] * height)\n",
    "            \n",
    "            # cv2.circle(img, (center_x, center_y), 10, (0,255, 0))\n",
    "            # draw rectangle\n",
    "            x = int(center_x - w/2)\n",
    "            y = int(center_y - h/2)\n",
    "            #cv2.rectangle(img, (x, y), (x+w, y+h), (0, 255, 0), 2)\n",
    "            boxes.append([x, y, w, h])\n",
    "            confidences.append(float(confidence))\n",
    "            class_ids.append(class_id)\n",
    "\n",
    "number_objects_detected = len(boxes)\n",
    "\n",
    "indexes = cv2.dnn.NMSBoxes(boxes, confidences, 0.50, 0.400)#last 2 are thresholds\n",
    "\n",
    "print(indexes)\n",
    "font = cv2.FONT_HERSHEY_PLAIN\n",
    "for i in range(len(boxes)):\n",
    "    if i in indexes:\n",
    "        x, y, w, h = boxes[i]\n",
    "        label = str(classes[class_ids[i]])\n",
    "        #color = colors[i]\n",
    "        color = (0, 0, 255)\n",
    "        cv2.rectangle(img, (x,y), (x+w, y+h), color, 2)\n",
    "        cv2.putText(img, label, (x, y+15), font, 2, color, 2)\n",
    "    \n",
    "    \n",
    "    \n",
    "    \n",
    "cv2.imshow('Image', img)\n",
    "cv2.waitKey(0)\n",
    "cv2.destroyAllWindows()\n",
    "\n",
    "cv2.imwrite('yolo_v3.jpg', img)"
   ]
  }
 ],
 "metadata": {
  "kernelspec": {
   "display_name": "Python 3 (ipykernel)",
   "language": "python",
   "name": "python3"
  },
  "language_info": {
   "codemirror_mode": {
    "name": "ipython",
    "version": 3
   },
   "file_extension": ".py",
   "mimetype": "text/x-python",
   "name": "python",
   "nbconvert_exporter": "python",
   "pygments_lexer": "ipython3",
   "version": "3.9.13"
  }
 },
 "nbformat": 4,
 "nbformat_minor": 5
}
