{
  "nbformat": 4,
  "nbformat_minor": 0,
  "metadata": {
    "colab": {
      "provenance": [],
      "authorship_tag": "ABX9TyNgr94FXWk96pXlA82OohKf",
      "include_colab_link": true
    },
    "kernelspec": {
      "name": "python3",
      "display_name": "Python 3"
    },
    "language_info": {
      "name": "python"
    },
    "accelerator": "GPU",
    "gpuClass": "standard"
  },
  "cells": [
    {
      "cell_type": "markdown",
      "metadata": {
        "id": "view-in-github",
        "colab_type": "text"
      },
      "source": [
        "<a href=\"https://colab.research.google.com/github/sYasman/Basic_NN/blob/main/Resnet_Example.ipynb\" target=\"_parent\"><img src=\"https://colab.research.google.com/assets/colab-badge.svg\" alt=\"Open In Colab\"/></a>"
      ]
    },
    {
      "cell_type": "code",
      "execution_count": 67,
      "metadata": {
        "id": "97K0-pBxuUbx"
      },
      "outputs": [],
      "source": [
        "import tensorflow as tf\n",
        "import numpy as np\n",
        "from sklearn.model_selection import train_test_split\n",
        "from tensorflow.keras.layers import Layer, Conv2D, BatchNormalization, \\\n",
        "  MaxPool2D, Activation, Add, GlobalAveragePooling2D, Dense\n",
        "import tensorflow_datasets as tfds\n",
        "import matplotlib.pyplot as plt"
      ]
    },
    {
      "cell_type": "markdown",
      "source": [
        "# Deep Residual Learning for Image Recognition - Resnet - Tensorflow application\n",
        "[You may reach the PDF with this link.](https://arxiv.org/pdf/1512.03385.pdf)"
      ],
      "metadata": {
        "id": "m-KFSMrXu-sK"
      }
    },
    {
      "cell_type": "markdown",
      "source": [],
      "metadata": {
        "id": "8JXX6iknvQMK"
      }
    },
    {
      "cell_type": "code",
      "source": [
        "class RepeatedBlock(tf.keras.Model):\n",
        "  def __init__(self, filters, kernel_size):\n",
        "    super(RepeatedBlock, self).__init__(name='')\n",
        "\n",
        "    self.conv1 = Conv2D(filters, kernel_size, padding='same')\n",
        "    self.bn1 = BatchNormalization()\n",
        "\n",
        "    self.conv2 = Conv2D(filters, kernel_size, padding='same')\n",
        "    self.bn2 = BatchNormalization()    \n",
        "\n",
        "    self.act = Activation('relu')\n",
        "    self.add = Add()\n",
        "\n",
        "  def call(self, input_):\n",
        "    x = self.conv1(input_)\n",
        "    x = self.bn1(x)\n",
        "    x = self.act(x)\n",
        "\n",
        "    x = self.conv2(x)\n",
        "    x = self.bn2(x)\n",
        "\n",
        "    x = self.add([x, input_])\n",
        "    x = self.act(x)\n",
        "\n",
        "    return x"
      ],
      "metadata": {
        "id": "OjqzQipHvPCg"
      },
      "execution_count": 2,
      "outputs": []
    },
    {
      "cell_type": "code",
      "source": [
        "class ResNet(tf.keras.Model):\n",
        "  def __init__(self, n_classes):\n",
        "    super(ResNet, self).__init__()\n",
        "    self.conv = Conv2D(64, 7, padding='same')\n",
        "    self.bn = BatchNormalization()\n",
        "    self.act = Activation('relu')\n",
        "    self.max_pool = MaxPool2D((3, 3))\n",
        "\n",
        "    self.rp1 = RepeatedBlock(64, 3)\n",
        "    self.rp2 = RepeatedBlock(64, 3)\n",
        "\n",
        "    self.global_pool = GlobalAveragePooling2D()\n",
        "    self.classifier = Dense(n_classes, activation='softmax')\n",
        "  \n",
        "  def call(self, input_):\n",
        "    x = self.conv(input_)\n",
        "    x = self.bn(x)\n",
        "    x = self.act(x)\n",
        "    x = self.max_pool(x)\n",
        "\n",
        "    x = self.rp1(x)\n",
        "    x = self.rp2(x)\n",
        "    x = self.global_pool(x)\n",
        "\n",
        "    return self.classifier(x)\n"
      ],
      "metadata": {
        "id": "ukRjEkoju1o7"
      },
      "execution_count": 17,
      "outputs": []
    },
    {
      "cell_type": "code",
      "source": [
        "# load CIFAR10 data\n",
        "(X_train_f, y_train_f), (X_test, y_test) = tf.keras.datasets.cifar10.load_data()\n",
        "X_train, X_valid, y_train, y_valid = train_test_split(X_train_f, y_train_f)\n",
        "\n",
        "# Normalize data\n",
        "X_train = X_train / 255.0\n",
        "X_valid = X_valid / 255.0\n",
        "X_test = X_test / 255.0"
      ],
      "metadata": {
        "id": "YpfAZNMl8VIT"
      },
      "execution_count": 63,
      "outputs": []
    },
    {
      "cell_type": "code",
      "source": [
        "y_train = tf.keras.utils.to_categorical(y_train)\n",
        "y_valid = tf.keras.utils.to_categorical(y_valid)\n",
        "y_test = tf.keras.utils.to_categorical(y_test)"
      ],
      "metadata": {
        "id": "7FaC2H8h-N-B"
      },
      "execution_count": 64,
      "outputs": []
    },
    {
      "cell_type": "code",
      "source": [
        "def exponential_decay(lr0, s):\n",
        "  def exponential_decay_fn(epoch):\n",
        "    return lr0 * 0.1**(epoch / s)\n",
        "  return exponential_decay_fn\n",
        "\n",
        "exponential_decay_fn = exponential_decay(lr0=0.005, s=20)\n",
        "\n",
        "lr_schecular = tf.keras.callbacks.LearningRateScheduler(exponential_decay_fn)\n",
        "\n",
        "cb_early = tf.keras.callbacks.EarlyStopping(patience=10)"
      ],
      "metadata": {
        "id": "pq_ba76nB8Qq"
      },
      "execution_count": 92,
      "outputs": []
    },
    {
      "cell_type": "code",
      "source": [
        "# create a ResNet instance with 10 output units for cifar 10\n",
        "resnet = ResNet(10)\n",
        "resnet.compile(optimizer=tf.keras.optimizers.Adam(learning_rate=5e-4), loss='categorical_crossentropy', metrics=['accuracy'])"
      ],
      "metadata": {
        "id": "s0auGkb1A63j"
      },
      "execution_count": 93,
      "outputs": []
    },
    {
      "cell_type": "code",
      "source": [
        "history = resnet.fit(X_train, y_train, validation_data=(X_valid, y_valid), epochs=100,\\\n",
        "                     callbacks=[cb_early, lr_schecular])"
      ],
      "metadata": {
        "colab": {
          "base_uri": "https://localhost:8080/"
        },
        "id": "c__JE08TA-Wj",
        "outputId": "38a983b9-f154-49a0-b46c-36c27c0154d4"
      },
      "execution_count": 94,
      "outputs": [
        {
          "output_type": "stream",
          "name": "stdout",
          "text": [
            "Epoch 1/100\n",
            "1172/1172 [==============================] - 9s 7ms/step - loss: 1.5150 - accuracy: 0.4469 - val_loss: 1.3640 - val_accuracy: 0.5094 - lr: 0.0050\n",
            "Epoch 2/100\n",
            "1172/1172 [==============================] - 11s 9ms/step - loss: 1.1463 - accuracy: 0.5905 - val_loss: 2.2792 - val_accuracy: 0.3902 - lr: 0.0045\n",
            "Epoch 3/100\n",
            "1172/1172 [==============================] - 9s 8ms/step - loss: 0.9738 - accuracy: 0.6555 - val_loss: 1.3517 - val_accuracy: 0.5559 - lr: 0.0040\n",
            "Epoch 4/100\n",
            "1172/1172 [==============================] - 8s 7ms/step - loss: 0.8413 - accuracy: 0.7039 - val_loss: 1.3827 - val_accuracy: 0.5402 - lr: 0.0035\n",
            "Epoch 5/100\n",
            "1172/1172 [==============================] - 8s 7ms/step - loss: 0.7380 - accuracy: 0.7426 - val_loss: 0.9912 - val_accuracy: 0.6502 - lr: 0.0032\n",
            "Epoch 6/100\n",
            "1172/1172 [==============================] - 8s 7ms/step - loss: 0.6522 - accuracy: 0.7748 - val_loss: 0.9151 - val_accuracy: 0.6823 - lr: 0.0028\n",
            "Epoch 7/100\n",
            "1172/1172 [==============================] - 7s 6ms/step - loss: 0.5931 - accuracy: 0.7957 - val_loss: 0.9893 - val_accuracy: 0.6755 - lr: 0.0025\n",
            "Epoch 8/100\n",
            "1172/1172 [==============================] - 7s 6ms/step - loss: 0.5276 - accuracy: 0.8156 - val_loss: 0.8301 - val_accuracy: 0.7224 - lr: 0.0022\n",
            "Epoch 9/100\n",
            "1172/1172 [==============================] - 8s 7ms/step - loss: 0.4796 - accuracy: 0.8343 - val_loss: 0.8593 - val_accuracy: 0.7184 - lr: 0.0020\n",
            "Epoch 10/100\n",
            "1172/1172 [==============================] - 7s 6ms/step - loss: 0.4308 - accuracy: 0.8505 - val_loss: 0.7736 - val_accuracy: 0.7498 - lr: 0.0018\n",
            "Epoch 11/100\n",
            "1172/1172 [==============================] - 7s 6ms/step - loss: 0.3915 - accuracy: 0.8645 - val_loss: 0.7009 - val_accuracy: 0.7754 - lr: 0.0016\n",
            "Epoch 12/100\n",
            "1172/1172 [==============================] - 8s 6ms/step - loss: 0.3520 - accuracy: 0.8771 - val_loss: 0.7595 - val_accuracy: 0.7570 - lr: 0.0014\n",
            "Epoch 13/100\n",
            "1172/1172 [==============================] - 8s 7ms/step - loss: 0.3221 - accuracy: 0.8885 - val_loss: 0.7584 - val_accuracy: 0.7553 - lr: 0.0013\n",
            "Epoch 14/100\n",
            "1172/1172 [==============================] - 8s 7ms/step - loss: 0.2892 - accuracy: 0.8988 - val_loss: 0.7012 - val_accuracy: 0.7859 - lr: 0.0011\n",
            "Epoch 15/100\n",
            "1172/1172 [==============================] - 7s 6ms/step - loss: 0.2607 - accuracy: 0.9103 - val_loss: 0.7527 - val_accuracy: 0.7750 - lr: 9.9763e-04\n",
            "Epoch 16/100\n",
            "1172/1172 [==============================] - 7s 6ms/step - loss: 0.2363 - accuracy: 0.9208 - val_loss: 0.8518 - val_accuracy: 0.7566 - lr: 8.8914e-04\n",
            "Epoch 17/100\n",
            "1172/1172 [==============================] - 8s 7ms/step - loss: 0.2137 - accuracy: 0.9258 - val_loss: 0.7013 - val_accuracy: 0.7946 - lr: 7.9245e-04\n",
            "Epoch 18/100\n",
            "1172/1172 [==============================] - 9s 8ms/step - loss: 0.1913 - accuracy: 0.9345 - val_loss: 0.7304 - val_accuracy: 0.7916 - lr: 7.0627e-04\n",
            "Epoch 19/100\n",
            "1172/1172 [==============================] - 7s 6ms/step - loss: 0.1765 - accuracy: 0.9397 - val_loss: 0.8601 - val_accuracy: 0.7694 - lr: 6.2946e-04\n",
            "Epoch 20/100\n",
            "1172/1172 [==============================] - 8s 6ms/step - loss: 0.1616 - accuracy: 0.9463 - val_loss: 0.7778 - val_accuracy: 0.7856 - lr: 5.6101e-04\n",
            "Epoch 21/100\n",
            "1172/1172 [==============================] - 7s 6ms/step - loss: 0.1462 - accuracy: 0.9529 - val_loss: 0.7824 - val_accuracy: 0.7910 - lr: 5.0000e-04\n"
          ]
        }
      ]
    },
    {
      "cell_type": "code",
      "source": [
        "k_ = history.history.keys()\n",
        "for i, k in enumerate(k_):\n",
        "  if i < 4:\n",
        "    plt.plot(history.history[str(k)], label=str(k))\n",
        "plt.legend()"
      ],
      "metadata": {
        "colab": {
          "base_uri": "https://localhost:8080/",
          "height": 282
        },
        "id": "74S4AvCdBa-B",
        "outputId": "094b2e40-c7e3-4634-b583-a6829df79fbd"
      },
      "execution_count": 95,
      "outputs": [
        {
          "output_type": "execute_result",
          "data": {
            "text/plain": [
              "<matplotlib.legend.Legend at 0x7f0f165034d0>"
            ]
          },
          "metadata": {},
          "execution_count": 95
        },
        {
          "output_type": "display_data",
          "data": {
            "text/plain": [
              "<Figure size 432x288 with 1 Axes>"
            ],
            "image/png": "[encoded data removed]"
          },
          "metadata": {
            "needs_background": "light"
          }
        }
      ]
    },
    {
      "cell_type": "code",
      "source": [
        "resnet.evaluate(X_test, y_test)"
      ],
      "metadata": {
        "colab": {
          "base_uri": "https://localhost:8080/"
        },
        "id": "i1ZupNVwC_zz",
        "outputId": "ffdfebc5-ecf1-4e1e-e0e8-4ec794ff2af1"
      },
      "execution_count": 96,
      "outputs": [
        {
          "output_type": "stream",
          "name": "stdout",
          "text": [
            "313/313 [==============================] - 1s 4ms/step - loss: 0.7882 - accuracy: 0.7839\n"
          ]
        },
        {
          "output_type": "execute_result",
          "data": {
            "text/plain": [
              "[0.7882385849952698, 0.7839000225067139]"
            ]
          },
          "metadata": {},
          "execution_count": 96
        }
      ]
    },
    {
      "cell_type": "code",
      "source": [
        "resnet.summary()"
      ],
      "metadata": {
        "colab": {
          "base_uri": "https://localhost:8080/"
        },
        "id": "v0sMP5pGGc3B",
        "outputId": "cdda4f8d-f099-4b9b-9784-a2600528ef6d"
      },
      "execution_count": 97,
      "outputs": [
        {
          "output_type": "stream",
          "name": "stdout",
          "text": [
            "Model: \"res_net_26\"\n",
            "_________________________________________________________________\n",
            " Layer (type)                Output Shape              Param #   \n",
            "=================================================================\n",
            " conv2d_130 (Conv2D)         multiple                  9472      \n",
            "                                                                 \n",
            " batch_normalization_130 (Ba  multiple                 256       \n",
            " tchNormalization)                                               \n",
            "                                                                 \n",
            " activation_78 (Activation)  multiple                  0         \n",
            "                                                                 \n",
            " max_pooling2d_26 (MaxPoolin  multiple                 0         \n",
            " g2D)                                                            \n",
            "                                                                 \n",
            "  (RepeatedBlock)            multiple                  74368     \n",
            "                                                                 \n",
            "  (RepeatedBlock)            multiple                  74368     \n",
            "                                                                 \n",
            " global_average_pooling2d_26  multiple                 0         \n",
            "  (GlobalAveragePooling2D)                                       \n",
            "                                                                 \n",
            " dense_26 (Dense)            multiple                  650       \n",
            "                                                                 \n",
            "=================================================================\n",
            "Total params: 159,114\n",
            "Trainable params: 158,474\n",
            "Non-trainable params: 640\n",
            "_________________________________________________________________\n"
          ]
        }
      ]
    }
  ]
}