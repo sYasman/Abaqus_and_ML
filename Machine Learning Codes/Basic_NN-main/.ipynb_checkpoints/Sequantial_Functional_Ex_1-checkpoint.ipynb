{
  "nbformat": 4,
  "nbformat_minor": 0,
  "metadata": {
    "colab": {
      "name": "Sequantial_Functional_Ex_1.ipynb",
      "provenance": [],
      "collapsed_sections": [],
      "authorship_tag": "ABX9TyOmoGSxIk2de5yp9NtDBuOL",
      "include_colab_link": true
    },
    "kernelspec": {
      "name": "python3",
      "display_name": "Python 3"
    },
    "language_info": {
      "name": "python"
    },
    "gpuClass": "standard"
  },
  "cells": [
    {
      "cell_type": "markdown",
      "metadata": {
        "id": "view-in-github",
        "colab_type": "text"
      },
      "source": [
        "<a href=\"https://colab.research.google.com/github/sYasman/Basic_NN/blob/main/Sequantial_Functional_Ex_1.ipynb\" target=\"_parent\"><img src=\"https://colab.research.google.com/assets/colab-badge.svg\" alt=\"Open In Colab\"/></a>"
      ]
    },
    {
      "cell_type": "code",
      "execution_count": 18,
      "metadata": {
        "id": "q2CMXBW67ZY-"
      },
      "outputs": [],
      "source": [
        "import tensorflow as tf\n",
        "from tensorflow import keras as keras"
      ]
    },
    {
      "cell_type": "markdown",
      "source": [
        "# Functional API example "
      ],
      "metadata": {
        "id": "HQD8M4vQ7ucU"
      }
    },
    {
      "cell_type": "code",
      "source": [
        "from sklearn.datasets import fetch_california_housing\n",
        "from sklearn.model_selection import train_test_split\n",
        "from sklearn.preprocessing import StandardScaler\n",
        "\n",
        "import pandas as pd\n",
        "import matplotlib.pyplot as plt"
      ],
      "metadata": {
        "id": "cCoETdyd7pSs"
      },
      "execution_count": 19,
      "outputs": []
    },
    {
      "cell_type": "code",
      "source": [
        "housing = fetch_california_housing()\n",
        "# to investigate data one can use pandas\n",
        "# you can drop na, 0 etc.\n",
        "pd.DataFrame(housing.data[:10, :])"
      ],
      "metadata": {
        "colab": {
          "base_uri": "https://localhost:8080/",
          "height": 363
        },
        "id": "27KLyOWQ7-Xl",
        "outputId": "4bc57bbe-e2d5-4338-8b37-55be0afc73d5"
      },
      "execution_count": 3,
      "outputs": [
        {
          "output_type": "execute_result",
          "data": {
            "text/plain": [
              "        0     1         2         3       4         5      6       7\n",
              "0  8.3252  41.0  6.984127  1.023810   322.0  2.555556  37.88 -122.23\n",
              "1  8.3014  21.0  6.238137  0.971880  2401.0  2.109842  37.86 -122.22\n",
              "2  7.2574  52.0  8.288136  1.073446   496.0  2.802260  37.85 -122.24\n",
              "3  5.6431  52.0  5.817352  1.073059   558.0  2.547945  37.85 -122.25\n",
              "4  3.8462  52.0  6.281853  1.081081   565.0  2.181467  37.85 -122.25\n",
              "5  4.0368  52.0  4.761658  1.103627   413.0  2.139896  37.85 -122.25\n",
              "6  3.6591  52.0  4.931907  0.951362  1094.0  2.128405  37.84 -122.25\n",
              "7  3.1200  52.0  4.797527  1.061824  1157.0  1.788253  37.84 -122.25\n",
              "8  2.0804  42.0  4.294118  1.117647  1206.0  2.026891  37.84 -122.26\n",
              "9  3.6912  52.0  4.970588  0.990196  1551.0  2.172269  37.84 -122.25"
            ],
            "text/html": [
              "\n",
              "  <div id=\"df-9001d8a5-4ac6-4826-9442-8faedaa9d486\">\n",
              "    <div class=\"colab-df-container\">\n",
              "      <div>\n",
              "<style scoped>\n",
              "    .dataframe tbody tr th:only-of-type {\n",
              "        vertical-align: middle;\n",
              "    }\n",
              "\n",
              "    .dataframe tbody tr th {\n",
              "        vertical-align: top;\n",
              "    }\n",
              "\n",
              "    .dataframe thead th {\n",
              "        text-align: right;\n",
              "    }\n",
              "</style>\n",
              "<table border=\"1\" class=\"dataframe\">\n",
              "  <thead>\n",
              "    <tr style=\"text-align: right;\">\n",
              "      <th></th>\n",
              "      <th>0</th>\n",
              "      <th>1</th>\n",
              "      <th>2</th>\n",
              "      <th>3</th>\n",
              "      <th>4</th>\n",
              "      <th>5</th>\n",
              "      <th>6</th>\n",
              "      <th>7</th>\n",
              "    </tr>\n",
              "  </thead>\n",
              "  <tbody>\n",
              "    <tr>\n",
              "      <th>0</th>\n",
              "      <td>8.3252</td>\n",
              "      <td>41.0</td>\n",
              "      <td>6.984127</td>\n",
              "      <td>1.023810</td>\n",
              "      <td>322.0</td>\n",
              "      <td>2.555556</td>\n",
              "      <td>37.88</td>\n",
              "      <td>-122.23</td>\n",
              "    </tr>\n",
              "    <tr>\n",
              "      <th>1</th>\n",
              "      <td>8.3014</td>\n",
              "      <td>21.0</td>\n",
              "      <td>6.238137</td>\n",
              "      <td>0.971880</td>\n",
              "      <td>2401.0</td>\n",
              "      <td>2.109842</td>\n",
              "      <td>37.86</td>\n",
              "      <td>-122.22</td>\n",
              "    </tr>\n",
              "    <tr>\n",
              "      <th>2</th>\n",
              "      <td>7.2574</td>\n",
              "      <td>52.0</td>\n",
              "      <td>8.288136</td>\n",
              "      <td>1.073446</td>\n",
              "      <td>496.0</td>\n",
              "      <td>2.802260</td>\n",
              "      <td>37.85</td>\n",
              "      <td>-122.24</td>\n",
              "    </tr>\n",
              "    <tr>\n",
              "      <th>3</th>\n",
              "      <td>5.6431</td>\n",
              "      <td>52.0</td>\n",
              "      <td>5.817352</td>\n",
              "      <td>1.073059</td>\n",
              "      <td>558.0</td>\n",
              "      <td>2.547945</td>\n",
              "      <td>37.85</td>\n",
              "      <td>-122.25</td>\n",
              "    </tr>\n",
              "    <tr>\n",
              "      <th>4</th>\n",
              "      <td>3.8462</td>\n",
              "      <td>52.0</td>\n",
              "      <td>6.281853</td>\n",
              "      <td>1.081081</td>\n",
              "      <td>565.0</td>\n",
              "      <td>2.181467</td>\n",
              "      <td>37.85</td>\n",
              "      <td>-122.25</td>\n",
              "    </tr>\n",
              "    <tr>\n",
              "      <th>5</th>\n",
              "      <td>4.0368</td>\n",
              "      <td>52.0</td>\n",
              "      <td>4.761658</td>\n",
              "      <td>1.103627</td>\n",
              "      <td>413.0</td>\n",
              "      <td>2.139896</td>\n",
              "      <td>37.85</td>\n",
              "      <td>-122.25</td>\n",
              "    </tr>\n",
              "    <tr>\n",
              "      <th>6</th>\n",
              "      <td>3.6591</td>\n",
              "      <td>52.0</td>\n",
              "      <td>4.931907</td>\n",
              "      <td>0.951362</td>\n",
              "      <td>1094.0</td>\n",
              "      <td>2.128405</td>\n",
              "      <td>37.84</td>\n",
              "      <td>-122.25</td>\n",
              "    </tr>\n",
              "    <tr>\n",
              "      <th>7</th>\n",
              "      <td>3.1200</td>\n",
              "      <td>52.0</td>\n",
              "      <td>4.797527</td>\n",
              "      <td>1.061824</td>\n",
              "      <td>1157.0</td>\n",
              "      <td>1.788253</td>\n",
              "      <td>37.84</td>\n",
              "      <td>-122.25</td>\n",
              "    </tr>\n",
              "    <tr>\n",
              "      <th>8</th>\n",
              "      <td>2.0804</td>\n",
              "      <td>42.0</td>\n",
              "      <td>4.294118</td>\n",
              "      <td>1.117647</td>\n",
              "      <td>1206.0</td>\n",
              "      <td>2.026891</td>\n",
              "      <td>37.84</td>\n",
              "      <td>-122.26</td>\n",
              "    </tr>\n",
              "    <tr>\n",
              "      <th>9</th>\n",
              "      <td>3.6912</td>\n",
              "      <td>52.0</td>\n",
              "      <td>4.970588</td>\n",
              "      <td>0.990196</td>\n",
              "      <td>1551.0</td>\n",
              "      <td>2.172269</td>\n",
              "      <td>37.84</td>\n",
              "      <td>-122.25</td>\n",
              "    </tr>\n",
              "  </tbody>\n",
              "</table>\n",
              "</div>\n",
              "      <button class=\"colab-df-convert\" onclick=\"convertToInteractive('df-9001d8a5-4ac6-4826-9442-8faedaa9d486')\"\n",
              "              title=\"Convert this dataframe to an interactive table.\"\n",
              "              style=\"display:none;\">\n",
              "        \n",
              "  <svg xmlns=\"http://www.w3.org/2000/svg\" height=\"24px\"viewBox=\"0 0 24 24\"\n",
              "       width=\"24px\">\n",
              "    <path d=\"M0 0h24v24H0V0z\" fill=\"none\"/>\n",
              "    <path d=\"M18.56 5.44l.94 2.06.94-2.06 2.06-.94-2.06-.94-.94-2.06-.94 2.06-2.06.94zm-11 1L8.5 8.5l.94-2.06 2.06-.94-2.06-.94L8.5 2.5l-.94 2.06-2.06.94zm10 10l.94 2.06.94-2.06 2.06-.94-2.06-.94-.94-2.06-.94 2.06-2.06.94z\"/><path d=\"M17.41 7.96l-1.37-1.37c-.4-.4-.92-.59-1.43-.59-.52 0-1.04.2-1.43.59L10.3 9.45l-7.72 7.72c-.78.78-.78 2.05 0 2.83L4 21.41c.39.39.9.59 1.41.59.51 0 1.02-.2 1.41-.59l7.78-7.78 2.81-2.81c.8-.78.8-2.07 0-2.86zM5.41 20L4 18.59l7.72-7.72 1.47 1.35L5.41 20z\"/>\n",
              "  </svg>\n",
              "      </button>\n",
              "      \n",
              "  <style>\n",
              "    .colab-df-container {\n",
              "      display:flex;\n",
              "      flex-wrap:wrap;\n",
              "      gap: 12px;\n",
              "    }\n",
              "\n",
              "    .colab-df-convert {\n",
              "      background-color: #E8F0FE;\n",
              "      border: none;\n",
              "      border-radius: 50%;\n",
              "      cursor: pointer;\n",
              "      display: none;\n",
              "      fill: #1967D2;\n",
              "      height: 32px;\n",
              "      padding: 0 0 0 0;\n",
              "      width: 32px;\n",
              "    }\n",
              "\n",
              "    .colab-df-convert:hover {\n",
              "      background-color: #E2EBFA;\n",
              "      box-shadow: 0px 1px 2px rgba(60, 64, 67, 0.3), 0px 1px 3px 1px rgba(60, 64, 67, 0.15);\n",
              "      fill: #174EA6;\n",
              "    }\n",
              "\n",
              "    [theme=dark] .colab-df-convert {\n",
              "      background-color: #3B4455;\n",
              "      fill: #D2E3FC;\n",
              "    }\n",
              "\n",
              "    [theme=dark] .colab-df-convert:hover {\n",
              "      background-color: #434B5C;\n",
              "      box-shadow: 0px 1px 3px 1px rgba(0, 0, 0, 0.15);\n",
              "      filter: drop-shadow(0px 1px 2px rgba(0, 0, 0, 0.3));\n",
              "      fill: #FFFFFF;\n",
              "    }\n",
              "  </style>\n",
              "\n",
              "      <script>\n",
              "        const buttonEl =\n",
              "          document.querySelector('#df-9001d8a5-4ac6-4826-9442-8faedaa9d486 button.colab-df-convert');\n",
              "        buttonEl.style.display =\n",
              "          google.colab.kernel.accessAllowed ? 'block' : 'none';\n",
              "\n",
              "        async function convertToInteractive(key) {\n",
              "          const element = document.querySelector('#df-9001d8a5-4ac6-4826-9442-8faedaa9d486');\n",
              "          const dataTable =\n",
              "            await google.colab.kernel.invokeFunction('convertToInteractive',\n",
              "                                                     [key], {});\n",
              "          if (!dataTable) return;\n",
              "\n",
              "          const docLinkHtml = 'Like what you see? Visit the ' +\n",
              "            '<a target=\"_blank\" href=https://colab.research.google.com/notebooks/data_table.ipynb>data table notebook</a>'\n",
              "            + ' to learn more about interactive tables.';\n",
              "          element.innerHTML = '';\n",
              "          dataTable['output_type'] = 'display_data';\n",
              "          await google.colab.output.renderOutput(dataTable, element);\n",
              "          const docLink = document.createElement('div');\n",
              "          docLink.innerHTML = docLinkHtml;\n",
              "          element.appendChild(docLink);\n",
              "        }\n",
              "      </script>\n",
              "    </div>\n",
              "  </div>\n",
              "  "
            ]
          },
          "metadata": {},
          "execution_count": 3
        }
      ]
    },
    {
      "cell_type": "code",
      "source": [
        "# training and test set\n",
        "X_train_full, X_test, y_train_full, y_test= train_test_split(housing.data, housing.target)\n",
        "\n",
        "# training and validation set\n",
        "X_train, X_valid, y_train, y_valid = train_test_split(X_train_full, y_train_full)\n"
      ],
      "metadata": {
        "id": "YbDp1LZo8aWL"
      },
      "execution_count": 4,
      "outputs": []
    },
    {
      "cell_type": "code",
      "source": [
        "# define scalar using skelearn\n",
        "sc = StandardScaler()\n",
        "X_train = sc.fit_transform(X_train)\n",
        "X_valid = sc.transform(X_valid)\n",
        "X_test = sc.transform(X_test)\n",
        "\n",
        "X_train.shape[1:]"
      ],
      "metadata": {
        "colab": {
          "base_uri": "https://localhost:8080/"
        },
        "id": "r0ig8iHvBgdS",
        "outputId": "0e8c5c2e-f553-4d67-e8ee-f7552b795a4c"
      },
      "execution_count": 5,
      "outputs": [
        {
          "output_type": "execute_result",
          "data": {
            "text/plain": [
              "(8,)"
            ]
          },
          "metadata": {},
          "execution_count": 5
        }
      ]
    },
    {
      "cell_type": "code",
      "source": [
        "#define model\n",
        "model = keras.models.Sequential([\n",
        "    keras.layers.Dense(128, activation='relu', input_shape=X_train.shape[1:]),\n",
        "    keras.layers.Dense(128, activation='relu'),\n",
        "    keras.layers.Dense(128, activation='relu'),\n",
        "    keras.layers.Dense(1)\n",
        "])\n",
        "\n",
        "# compile model\n",
        "model.compile(loss=\"mean_squared_error\",\n",
        "              optimizer=keras.optimizers.Adam(learning_rate=1e-5))\n",
        "\n",
        "history = model.fit(X_train, y_train, epochs=100, validation_data=(X_valid, y_valid), verbose=0)"
      ],
      "metadata": {
        "id": "ckawXutIBxpE"
      },
      "execution_count": 6,
      "outputs": []
    },
    {
      "cell_type": "code",
      "source": [
        "k = history.history.keys()\n",
        "\n",
        "from matplotlib.pyplot import figure\n",
        "\n",
        "figure(figsize=(8, 6), dpi=80)\n",
        "\n",
        "for k_i in k:\n",
        "  plt.plot(history.history[str(k_i)], label=str(k_i))\n",
        "  \n",
        "plt.legend()\n",
        "plt.xlabel('epoch #')\n",
        "plt.grid()"
      ],
      "metadata": {
        "colab": {
          "base_uri": "https://localhost:8080/",
          "height": 427
        },
        "id": "BlkQuYbXHWQT",
        "outputId": "f6394b18-bae6-40de-bd23-8b5eac66550f"
      },
      "execution_count": 7,
      "outputs": [
        {
          "output_type": "display_data",
          "data": {
            "text/plain": [
              "<Figure size 640x480 with 1 Axes>"
            ],
            "image/png": "[encoded data removed]"
          },
          "metadata": {
            "needs_background": "light"
          }
        }
      ]
    },
    {
      "cell_type": "code",
      "source": [
        "mse_test = model.evaluate(X_test, y_test)\n",
        "print(f'Score {mse_test}')"
      ],
      "metadata": {
        "colab": {
          "base_uri": "https://localhost:8080/"
        },
        "id": "ks3_H8-rClQp",
        "outputId": "28be49c7-4a0a-4b19-eea7-22a7913787dd"
      },
      "execution_count": 8,
      "outputs": [
        {
          "output_type": "stream",
          "name": "stdout",
          "text": [
            "162/162 [==============================] - 0s 2ms/step - loss: 0.3261\n",
            "Score 0.32606497406959534\n"
          ]
        }
      ]
    },
    {
      "cell_type": "code",
      "source": [
        "X_new = X_test[:3]\n",
        "y_pred = model.predict(X_new)\n",
        "print(f'Prediction {y_pred}\\n, Actual:{y_test[:3]}')"
      ],
      "metadata": {
        "colab": {
          "base_uri": "https://localhost:8080/"
        },
        "id": "DivR_1xSErXF",
        "outputId": "6dbd75c2-7694-4797-d3b9-397c772579ed"
      },
      "execution_count": 9,
      "outputs": [
        {
          "output_type": "stream",
          "name": "stdout",
          "text": [
            "Prediction [[1.0312274]\n",
            " [1.8198812]\n",
            " [1.7232822]]\n",
            ", Actual:[0.889 1.884 0.924]\n"
          ]
        }
      ]
    },
    {
      "cell_type": "markdown",
      "source": [
        "# Functional API example"
      ],
      "metadata": {
        "id": "nSMIzNWgK4tI"
      }
    },
    {
      "cell_type": "code",
      "source": [
        "# lets load data again\n",
        "housing = fetch_california_housing()\n",
        "# to investigate data one can use pandas\n",
        "# you can drop na, 0 etc.\n",
        "pd.DataFrame(housing.data[:10, :])"
      ],
      "metadata": {
        "colab": {
          "base_uri": "https://localhost:8080/",
          "height": 363
        },
        "id": "QXQ9aXiaE7zj",
        "outputId": "8d658e39-a365-4a4b-ee47-7c99e3a82e8d"
      },
      "execution_count": 10,
      "outputs": [
        {
          "output_type": "execute_result",
          "data": {
            "text/plain": [
              "        0     1         2         3       4         5      6       7\n",
              "0  8.3252  41.0  6.984127  1.023810   322.0  2.555556  37.88 -122.23\n",
              "1  8.3014  21.0  6.238137  0.971880  2401.0  2.109842  37.86 -122.22\n",
              "2  7.2574  52.0  8.288136  1.073446   496.0  2.802260  37.85 -122.24\n",
              "3  5.6431  52.0  5.817352  1.073059   558.0  2.547945  37.85 -122.25\n",
              "4  3.8462  52.0  6.281853  1.081081   565.0  2.181467  37.85 -122.25\n",
              "5  4.0368  52.0  4.761658  1.103627   413.0  2.139896  37.85 -122.25\n",
              "6  3.6591  52.0  4.931907  0.951362  1094.0  2.128405  37.84 -122.25\n",
              "7  3.1200  52.0  4.797527  1.061824  1157.0  1.788253  37.84 -122.25\n",
              "8  2.0804  42.0  4.294118  1.117647  1206.0  2.026891  37.84 -122.26\n",
              "9  3.6912  52.0  4.970588  0.990196  1551.0  2.172269  37.84 -122.25"
            ],
            "text/html": [
              "\n",
              "  <div id=\"df-c59c4246-5841-40fa-9429-5f9fc615048d\">\n",
              "    <div class=\"colab-df-container\">\n",
              "      <div>\n",
              "<style scoped>\n",
              "    .dataframe tbody tr th:only-of-type {\n",
              "        vertical-align: middle;\n",
              "    }\n",
              "\n",
              "    .dataframe tbody tr th {\n",
              "        vertical-align: top;\n",
              "    }\n",
              "\n",
              "    .dataframe thead th {\n",
              "        text-align: right;\n",
              "    }\n",
              "</style>\n",
              "<table border=\"1\" class=\"dataframe\">\n",
              "  <thead>\n",
              "    <tr style=\"text-align: right;\">\n",
              "      <th></th>\n",
              "      <th>0</th>\n",
              "      <th>1</th>\n",
              "      <th>2</th>\n",
              "      <th>3</th>\n",
              "      <th>4</th>\n",
              "      <th>5</th>\n",
              "      <th>6</th>\n",
              "      <th>7</th>\n",
              "    </tr>\n",
              "  </thead>\n",
              "  <tbody>\n",
              "    <tr>\n",
              "      <th>0</th>\n",
              "      <td>8.3252</td>\n",
              "      <td>41.0</td>\n",
              "      <td>6.984127</td>\n",
              "      <td>1.023810</td>\n",
              "      <td>322.0</td>\n",
              "      <td>2.555556</td>\n",
              "      <td>37.88</td>\n",
              "      <td>-122.23</td>\n",
              "    </tr>\n",
              "    <tr>\n",
              "      <th>1</th>\n",
              "      <td>8.3014</td>\n",
              "      <td>21.0</td>\n",
              "      <td>6.238137</td>\n",
              "      <td>0.971880</td>\n",
              "      <td>2401.0</td>\n",
              "      <td>2.109842</td>\n",
              "      <td>37.86</td>\n",
              "      <td>-122.22</td>\n",
              "    </tr>\n",
              "    <tr>\n",
              "      <th>2</th>\n",
              "      <td>7.2574</td>\n",
              "      <td>52.0</td>\n",
              "      <td>8.288136</td>\n",
              "      <td>1.073446</td>\n",
              "      <td>496.0</td>\n",
              "      <td>2.802260</td>\n",
              "      <td>37.85</td>\n",
              "      <td>-122.24</td>\n",
              "    </tr>\n",
              "    <tr>\n",
              "      <th>3</th>\n",
              "      <td>5.6431</td>\n",
              "      <td>52.0</td>\n",
              "      <td>5.817352</td>\n",
              "      <td>1.073059</td>\n",
              "      <td>558.0</td>\n",
              "      <td>2.547945</td>\n",
              "      <td>37.85</td>\n",
              "      <td>-122.25</td>\n",
              "    </tr>\n",
              "    <tr>\n",
              "      <th>4</th>\n",
              "      <td>3.8462</td>\n",
              "      <td>52.0</td>\n",
              "      <td>6.281853</td>\n",
              "      <td>1.081081</td>\n",
              "      <td>565.0</td>\n",
              "      <td>2.181467</td>\n",
              "      <td>37.85</td>\n",
              "      <td>-122.25</td>\n",
              "    </tr>\n",
              "    <tr>\n",
              "      <th>5</th>\n",
              "      <td>4.0368</td>\n",
              "      <td>52.0</td>\n",
              "      <td>4.761658</td>\n",
              "      <td>1.103627</td>\n",
              "      <td>413.0</td>\n",
              "      <td>2.139896</td>\n",
              "      <td>37.85</td>\n",
              "      <td>-122.25</td>\n",
              "    </tr>\n",
              "    <tr>\n",
              "      <th>6</th>\n",
              "      <td>3.6591</td>\n",
              "      <td>52.0</td>\n",
              "      <td>4.931907</td>\n",
              "      <td>0.951362</td>\n",
              "      <td>1094.0</td>\n",
              "      <td>2.128405</td>\n",
              "      <td>37.84</td>\n",
              "      <td>-122.25</td>\n",
              "    </tr>\n",
              "    <tr>\n",
              "      <th>7</th>\n",
              "      <td>3.1200</td>\n",
              "      <td>52.0</td>\n",
              "      <td>4.797527</td>\n",
              "      <td>1.061824</td>\n",
              "      <td>1157.0</td>\n",
              "      <td>1.788253</td>\n",
              "      <td>37.84</td>\n",
              "      <td>-122.25</td>\n",
              "    </tr>\n",
              "    <tr>\n",
              "      <th>8</th>\n",
              "      <td>2.0804</td>\n",
              "      <td>42.0</td>\n",
              "      <td>4.294118</td>\n",
              "      <td>1.117647</td>\n",
              "      <td>1206.0</td>\n",
              "      <td>2.026891</td>\n",
              "      <td>37.84</td>\n",
              "      <td>-122.26</td>\n",
              "    </tr>\n",
              "    <tr>\n",
              "      <th>9</th>\n",
              "      <td>3.6912</td>\n",
              "      <td>52.0</td>\n",
              "      <td>4.970588</td>\n",
              "      <td>0.990196</td>\n",
              "      <td>1551.0</td>\n",
              "      <td>2.172269</td>\n",
              "      <td>37.84</td>\n",
              "      <td>-122.25</td>\n",
              "    </tr>\n",
              "  </tbody>\n",
              "</table>\n",
              "</div>\n",
              "      <button class=\"colab-df-convert\" onclick=\"convertToInteractive('df-c59c4246-5841-40fa-9429-5f9fc615048d')\"\n",
              "              title=\"Convert this dataframe to an interactive table.\"\n",
              "              style=\"display:none;\">\n",
              "        \n",
              "  <svg xmlns=\"http://www.w3.org/2000/svg\" height=\"24px\"viewBox=\"0 0 24 24\"\n",
              "       width=\"24px\">\n",
              "    <path d=\"M0 0h24v24H0V0z\" fill=\"none\"/>\n",
              "    <path d=\"M18.56 5.44l.94 2.06.94-2.06 2.06-.94-2.06-.94-.94-2.06-.94 2.06-2.06.94zm-11 1L8.5 8.5l.94-2.06 2.06-.94-2.06-.94L8.5 2.5l-.94 2.06-2.06.94zm10 10l.94 2.06.94-2.06 2.06-.94-2.06-.94-.94-2.06-.94 2.06-2.06.94z\"/><path d=\"M17.41 7.96l-1.37-1.37c-.4-.4-.92-.59-1.43-.59-.52 0-1.04.2-1.43.59L10.3 9.45l-7.72 7.72c-.78.78-.78 2.05 0 2.83L4 21.41c.39.39.9.59 1.41.59.51 0 1.02-.2 1.41-.59l7.78-7.78 2.81-2.81c.8-.78.8-2.07 0-2.86zM5.41 20L4 18.59l7.72-7.72 1.47 1.35L5.41 20z\"/>\n",
              "  </svg>\n",
              "      </button>\n",
              "      \n",
              "  <style>\n",
              "    .colab-df-container {\n",
              "      display:flex;\n",
              "      flex-wrap:wrap;\n",
              "      gap: 12px;\n",
              "    }\n",
              "\n",
              "    .colab-df-convert {\n",
              "      background-color: #E8F0FE;\n",
              "      border: none;\n",
              "      border-radius: 50%;\n",
              "      cursor: pointer;\n",
              "      display: none;\n",
              "      fill: #1967D2;\n",
              "      height: 32px;\n",
              "      padding: 0 0 0 0;\n",
              "      width: 32px;\n",
              "    }\n",
              "\n",
              "    .colab-df-convert:hover {\n",
              "      background-color: #E2EBFA;\n",
              "      box-shadow: 0px 1px 2px rgba(60, 64, 67, 0.3), 0px 1px 3px 1px rgba(60, 64, 67, 0.15);\n",
              "      fill: #174EA6;\n",
              "    }\n",
              "\n",
              "    [theme=dark] .colab-df-convert {\n",
              "      background-color: #3B4455;\n",
              "      fill: #D2E3FC;\n",
              "    }\n",
              "\n",
              "    [theme=dark] .colab-df-convert:hover {\n",
              "      background-color: #434B5C;\n",
              "      box-shadow: 0px 1px 3px 1px rgba(0, 0, 0, 0.15);\n",
              "      filter: drop-shadow(0px 1px 2px rgba(0, 0, 0, 0.3));\n",
              "      fill: #FFFFFF;\n",
              "    }\n",
              "  </style>\n",
              "\n",
              "      <script>\n",
              "        const buttonEl =\n",
              "          document.querySelector('#df-c59c4246-5841-40fa-9429-5f9fc615048d button.colab-df-convert');\n",
              "        buttonEl.style.display =\n",
              "          google.colab.kernel.accessAllowed ? 'block' : 'none';\n",
              "\n",
              "        async function convertToInteractive(key) {\n",
              "          const element = document.querySelector('#df-c59c4246-5841-40fa-9429-5f9fc615048d');\n",
              "          const dataTable =\n",
              "            await google.colab.kernel.invokeFunction('convertToInteractive',\n",
              "                                                     [key], {});\n",
              "          if (!dataTable) return;\n",
              "\n",
              "          const docLinkHtml = 'Like what you see? Visit the ' +\n",
              "            '<a target=\"_blank\" href=https://colab.research.google.com/notebooks/data_table.ipynb>data table notebook</a>'\n",
              "            + ' to learn more about interactive tables.';\n",
              "          element.innerHTML = '';\n",
              "          dataTable['output_type'] = 'display_data';\n",
              "          await google.colab.output.renderOutput(dataTable, element);\n",
              "          const docLink = document.createElement('div');\n",
              "          docLink.innerHTML = docLinkHtml;\n",
              "          element.appendChild(docLink);\n",
              "        }\n",
              "      </script>\n",
              "    </div>\n",
              "  </div>\n",
              "  "
            ]
          },
          "metadata": {},
          "execution_count": 10
        }
      ]
    },
    {
      "cell_type": "code",
      "source": [
        "# housing.target_names\n",
        "X_train_full, X_test, y_train_full, y_test = train_test_split(housing.data, housing.target)\n",
        "\n",
        "# lets create validation set\n",
        "X_train, X_valid, y_train, y_valid = train_test_split(X_train_full, y_train_full, test_size=0.20)\n"
      ],
      "metadata": {
        "id": "cxuttC0KLB-x"
      },
      "execution_count": 11,
      "outputs": []
    },
    {
      "cell_type": "code",
      "source": [
        "# lets create a scaler.\n",
        "#you can choose different scalers using the page below\n",
        "# https://scikit-learn.org/stable/modules/classes.html#module-sklearn.preprocessing\n",
        "\n",
        "sc = StandardScaler()\n",
        "X_train = sc.fit_transform(X_train)\n",
        "X_test = sc.transform(X_test)\n",
        "X_valid = sc.transform(X_valid)\n"
      ],
      "metadata": {
        "id": "zAOvQBU8MqDB"
      },
      "execution_count": 12,
      "outputs": []
    },
    {
      "cell_type": "code",
      "source": [
        "# Now lets back to Functional API\n",
        "input_ = keras.layers.Input(shape=X_train.shape[1:], name='Input_Layer')\n",
        "d1 = keras.layers.Dense(128, activation='relu', name='Dense_1')(input_)\n",
        "d2 = keras.layers.Dense(128, activation='relu', name='Dense_2')(d1)\n",
        "d3 = keras.layers.Dense(128, activation='relu', name='Dense_3')(d2)\n",
        "output_ = keras.layers.Dense(1, name='Output')(d3)\n",
        "model = keras.Model(inputs=[input_], outputs=[output_])\n",
        "\n",
        "# compile the model\n",
        "model.compile(loss=\"mean_squared_error\",\n",
        "              optimizer=keras.optimizers.Adam(learning_rate=1e-5))\n",
        "\n",
        "# fit the model\n",
        "history = model.fit(X_train, y_train, epochs=100, validation_data=(X_valid, y_valid), verbose=0)"
      ],
      "metadata": {
        "id": "QcKKRPNMNw9x"
      },
      "execution_count": 13,
      "outputs": []
    },
    {
      "cell_type": "code",
      "source": [
        "keras.utils.plot_model(model, show_shapes=True)"
      ],
      "metadata": {
        "colab": {
          "base_uri": "https://localhost:8080/",
          "height": 533
        },
        "id": "8UYBO0tdh3Km",
        "outputId": "712e509f-865c-4f35-efbe-aa3999f6c9bf"
      },
      "execution_count": 14,
      "outputs": [
        {
          "output_type": "execute_result",
          "data": {
            "image/png": "[encoded data removed]",
            "text/plain": [
              "<IPython.core.display.Image object>"
            ]
          },
          "metadata": {},
          "execution_count": 14
        }
      ]
    },
    {
      "cell_type": "code",
      "source": [
        "k = history.history.keys()\n",
        "\n",
        "from matplotlib.pyplot import figure\n",
        "\n",
        "figure(figsize=(8, 6), dpi=80)\n",
        "\n",
        "for k_i in k:\n",
        "  plt.plot(history.history[str(k_i)], label=str(k_i))\n",
        "  \n",
        "plt.legend()\n",
        "plt.xlabel('epoch #')\n",
        "plt.grid()"
      ],
      "metadata": {
        "colab": {
          "base_uri": "https://localhost:8080/",
          "height": 429
        },
        "id": "dvtpQgdnOmSx",
        "outputId": "5d5daae1-e22c-4cbf-f974-be5b365c32b3"
      },
      "execution_count": 15,
      "outputs": [
        {
          "output_type": "display_data",
          "data": {
            "text/plain": [
              "<Figure size 640x480 with 1 Axes>"
            ],
            "image/png": "[encoded data removed]"
          },
          "metadata": {
            "needs_background": "light"
          }
        }
      ]
    },
    {
      "cell_type": "code",
      "source": [
        "mse_test = model.evaluate(X_test, y_test)\n",
        "print(f'Score {mse_test}')"
      ],
      "metadata": {
        "colab": {
          "base_uri": "https://localhost:8080/"
        },
        "id": "u7uecDCpO7wp",
        "outputId": "c7422f3d-3d45-4224-f5f0-02939bffcc99"
      },
      "execution_count": 16,
      "outputs": [
        {
          "output_type": "stream",
          "name": "stdout",
          "text": [
            "162/162 [==============================] - 0s 2ms/step - loss: 0.3287\n",
            "Score 0.3286833167076111\n"
          ]
        }
      ]
    },
    {
      "cell_type": "markdown",
      "source": [
        "# Building Complex Models with Functional API"
      ],
      "metadata": {
        "id": "F04ZHezShZk-"
      }
    },
    {
      "cell_type": "code",
      "source": [
        "# lets create a model with two inputs\n",
        "# Input_1: (_,6)\n",
        "# Inputs_2: (_,8)\n",
        "# and construct the model as shown below\n",
        "input_1 = keras.layers.Input(shape=[5], name='wide_input')\n",
        "input_2 = keras.layers.Input(shape=[6], name='deep_input')\n",
        "hidden_1 = keras.layers.Dense(30, activation='relu', name='dense_1')(input_2)\n",
        "hidden_2 = keras.layers.Dense(30, activation='relu', name='dense_2')(hidden_1)\n",
        "concat = keras.layers.concatenate([input_1, hidden_2])\n",
        "output = keras.layers.Dense(1, name='output')(concat)\n",
        "\n",
        "model = keras.Model(inputs=[input_1, input_2], outputs=[output])\n",
        "\n",
        "keras.utils.plot_model(model, show_shapes=True)"
      ],
      "metadata": {
        "colab": {
          "base_uri": "https://localhost:8080/",
          "height": 533
        },
        "id": "pb86RHIfhS1h",
        "outputId": "74b5f5c4-cdb0-483f-8244-ef434faa3a81"
      },
      "execution_count": 17,
      "outputs": [
        {
          "output_type": "execute_result",
          "data": {
            "image/png": "[encoded data removed]",
            "text/plain": [
              "<IPython.core.display.Image object>"
            ]
          },
          "metadata": {},
          "execution_count": 17
        }
      ]
    },
    {
      "cell_type": "code",
      "source": [
        "# create X_train_A and X_train_B\n",
        "# housing.target_names\n",
        "X_train_full, X_test, y_train_full, y_test = train_test_split(housing.data, housing.target)\n",
        "\n",
        "# lets create validation set\n",
        "X_train, X_valid, y_train, y_valid = train_test_split(X_train_full, y_train_full, test_size=0.20)\n",
        "\n",
        "X_train_A, X_train_B = X_train[:, :5], X_train[:, 2:] #first5 and last6 features are chosen\n",
        "X_valid_A, X_valid_B = X_valid[:, :5], X_valid[:, 2:] #first5 and last6 features are chosen\n",
        "X_test_A, X_test_B = X_test[:, :5], X_test[:, 2:] #first5 and last6 features are chosen\n",
        "\n",
        "# scale the features\n",
        "sc_A = StandardScaler()\n",
        "sc_B = StandardScaler()\n",
        "X_train_A = sc_A.fit_transform(X_train_A)\n",
        "X_train_B = sc_B.fit_transform(X_train_B)\n",
        "\n",
        "X_test_A = sc_A.transform(X_test_A)\n",
        "X_test_B = sc_B.transform(X_test_B)\n",
        "\n",
        "X_valid_A = sc_A.transform(X_valid_A)\n",
        "X_valid_B = sc_B.transform(X_valid_B)"
      ],
      "metadata": {
        "id": "ugHIKcbQhyek"
      },
      "execution_count": 18,
      "outputs": []
    },
    {
      "cell_type": "code",
      "source": [
        "# compile the model\n",
        "model.compile(loss=\"mean_squared_error\",\n",
        "              optimizer=keras.optimizers.Adam(learning_rate=1e-5))\n",
        "\n",
        "# fit the model\n",
        "history = model.fit((X_train_A, X_train_B), y_train, epochs=250, validation_data=((X_valid_A, X_valid_B), y_valid), verbose=0)"
      ],
      "metadata": {
        "id": "1NsAXyTxrYjr"
      },
      "execution_count": 19,
      "outputs": []
    },
    {
      "cell_type": "code",
      "source": [
        "k = history.history.keys()\n",
        "\n",
        "from matplotlib.pyplot import figure\n",
        "\n",
        "figure(figsize=(8, 6), dpi=80)\n",
        "\n",
        "for k_i in k:\n",
        "  plt.plot(history.history[str(k_i)], label=str(k_i))\n",
        "  \n",
        "plt.legend()\n",
        "plt.xlabel('epoch #')\n",
        "plt.grid()"
      ],
      "metadata": {
        "colab": {
          "base_uri": "https://localhost:8080/",
          "height": 428
        },
        "id": "XC6vLvxWr0JL",
        "outputId": "02b27afa-8992-4d05-8698-d6a1d1a68294"
      },
      "execution_count": 20,
      "outputs": [
        {
          "output_type": "display_data",
          "data": {
            "text/plain": [
              "<Figure size 640x480 with 1 Axes>"
            ],
            "image/png": "[encoded data removed]"
          },
          "metadata": {
            "needs_background": "light"
          }
        }
      ]
    },
    {
      "cell_type": "code",
      "source": [
        "mse_test = model.evaluate((X_test_A, X_test_B), y_test)"
      ],
      "metadata": {
        "colab": {
          "base_uri": "https://localhost:8080/"
        },
        "id": "gwW7N1FhsB0k",
        "outputId": "f63157a3-c4aa-4544-c3f9-e59f3659e68c"
      },
      "execution_count": 21,
      "outputs": [
        {
          "output_type": "stream",
          "name": "stdout",
          "text": [
            "162/162 [==============================] - 0s 2ms/step - loss: 0.3979\n"
          ]
        }
      ]
    },
    {
      "cell_type": "code",
      "source": [
        "X_new_A, X_new_B = X_test_A[:3], X_test_B[:3]\n",
        "print(f'Prediction: {model.predict((X_new_A, X_new_B))}')"
      ],
      "metadata": {
        "colab": {
          "base_uri": "https://localhost:8080/"
        },
        "id": "9WZdXsjDsVdn",
        "outputId": "571c9423-b5aa-420c-edf7-1a686b67a936"
      },
      "execution_count": 22,
      "outputs": [
        {
          "output_type": "stream",
          "name": "stdout",
          "text": [
            "Prediction: [[3.5006738]\n",
            " [1.3054581]\n",
            " [1.6061833]]\n"
          ]
        }
      ]
    },
    {
      "cell_type": "markdown",
      "source": [
        "# Using Subclass API"
      ],
      "metadata": {
        "id": "yLjfc-xN0rRv"
      }
    },
    {
      "cell_type": "markdown",
      "source": [
        "# Simple Example\n",
        "\n",
        "This first simple example, a complete model will be created. Even though some of the libraries have already been imported, for the sake of completeness they will be imported again."
      ],
      "metadata": {
        "id": "VF_ICHPU8dDO"
      }
    },
    {
      "cell_type": "code",
      "source": [
        "import tensorflow as tf\n",
        "import numpy as np\n",
        "\n",
        "from sklearn.preprocessing import StandardScaler\n",
        "from sklearn.model_selection import train_test_split"
      ],
      "metadata": {
        "id": "TtDJ8MF2sl4-"
      },
      "execution_count": 44,
      "outputs": []
    },
    {
      "cell_type": "code",
      "source": [
        "assert hasattr(tf, \"function\" )"
      ],
      "metadata": {
        "id": "EHe1B9ipcbrK"
      },
      "execution_count": 45,
      "outputs": []
    },
    {
      "cell_type": "code",
      "source": [
        "#load data\n",
        "fashion_mnist = tf.keras.datasets.fashion_mnist\n",
        "(X_train_f, y_train_f), (X_test, y_test) = fashion_mnist.load_data()"
      ],
      "metadata": {
        "id": "nQlrXyTtcfvz"
      },
      "execution_count": 46,
      "outputs": []
    },
    {
      "cell_type": "code",
      "source": [
        "# Split the data\n",
        "X_train, X_valid, y_train, y_valid = train_test_split(X_train_f, y_train_f)\n",
        "X_train = X_train.reshape(-1, 28*28)\n",
        "X_valid = X_valid.reshape(-1, 28*28)\n",
        "X_test = X_test.reshape(-1, 28*28)"
      ],
      "metadata": {
        "id": "PmxXeZsNeQI4"
      },
      "execution_count": 47,
      "outputs": []
    },
    {
      "cell_type": "code",
      "source": [
        "# Scale the data\n",
        "sc = StandardScaler()\n",
        "X_train = sc.fit_transform(X_train)\n",
        "X_valid = sc.fit_transform(X_valid)\n",
        "X_test = sc.fit_transform(X_test)"
      ],
      "metadata": {
        "id": "2VcNepMJeVlj"
      },
      "execution_count": 48,
      "outputs": []
    },
    {
      "cell_type": "code",
      "source": [
        "# First using Functional API create a simple model\n",
        "input_1 = keras.layers.Input(shape=X_train.shape[1:], name='input_layer')\n",
        "x = keras.layers.Dense(30, activation='relu', name='dense_1')(input_1)\n",
        "x = keras.layers.Dense(30, activation='relu', name='dense_2')(x)\n",
        "x = keras.layers.Dense(30, activation='relu', name='dense_3')(x)\n",
        "output = keras.layers.Dense(10, activation='softmax', name='output')(x)\n",
        "\n",
        "model = keras.Model(inputs=[input_1], outputs=[output])\n",
        "\n",
        "keras.utils.plot_model(model, show_shapes=True)"
      ],
      "metadata": {
        "colab": {
          "base_uri": "https://localhost:8080/",
          "height": 533
        },
        "id": "HygVFQzofElz",
        "outputId": "c0e7e510-837b-472c-c9b9-71622a27c363"
      },
      "execution_count": 49,
      "outputs": [
        {
          "output_type": "execute_result",
          "data": {
            "image/png": "[encoded data removed]",
            "text/plain": [
              "<IPython.core.display.Image object>"
            ]
          },
          "metadata": {},
          "execution_count": 49
        }
      ]
    },
    {
      "cell_type": "code",
      "source": [
        "# Compile the model\n",
        "model.compile(\n",
        "    loss=\"sparse_categorical_crossentropy\",\n",
        "    optimizer=\"sgd\",\n",
        "    metrics=[\"accuracy\"]\n",
        ")\n",
        "\n",
        "# fit the model\n",
        "history = model.fit(X_train, y_train, epochs=10)"
      ],
      "metadata": {
        "colab": {
          "base_uri": "https://localhost:8080/"
        },
        "id": "HyRi24DRj1BQ",
        "outputId": "aa948e91-0ca5-4bfe-c77e-7cbdc5c85baf"
      },
      "execution_count": 50,
      "outputs": [
        {
          "output_type": "stream",
          "name": "stdout",
          "text": [
            "Epoch 1/10\n",
            "1407/1407 [==============================] - 3s 2ms/step - loss: 0.7334 - accuracy: 0.7435\n",
            "Epoch 2/10\n",
            "1407/1407 [==============================] - 4s 3ms/step - loss: 0.4505 - accuracy: 0.8394\n",
            "Epoch 3/10\n",
            "1407/1407 [==============================] - 3s 2ms/step - loss: 0.3995 - accuracy: 0.8558\n",
            "Epoch 4/10\n",
            "1407/1407 [==============================] - 3s 2ms/step - loss: 0.3733 - accuracy: 0.8666\n",
            "Epoch 5/10\n",
            "1407/1407 [==============================] - 3s 2ms/step - loss: 0.3544 - accuracy: 0.8732\n",
            "Epoch 6/10\n",
            "1407/1407 [==============================] - 3s 2ms/step - loss: 0.3393 - accuracy: 0.8790\n",
            "Epoch 7/10\n",
            "1407/1407 [==============================] - 3s 2ms/step - loss: 0.3266 - accuracy: 0.8828\n",
            "Epoch 8/10\n",
            "1407/1407 [==============================] - 3s 2ms/step - loss: 0.3158 - accuracy: 0.8864\n",
            "Epoch 9/10\n",
            "1407/1407 [==============================] - 3s 2ms/step - loss: 0.3067 - accuracy: 0.8886\n",
            "Epoch 10/10\n",
            "1407/1407 [==============================] - 3s 2ms/step - loss: 0.2984 - accuracy: 0.8929\n"
          ]
        }
      ]
    },
    {
      "cell_type": "code",
      "source": [
        "model.evaluate(X_test, y_test)\n",
        "model.predict(X_train[0:1])"
      ],
      "metadata": {
        "colab": {
          "base_uri": "https://localhost:8080/"
        },
        "id": "1xYLvHtxh7XS",
        "outputId": "8d4bbaff-b391-4d97-94b8-c0fb745091fe"
      },
      "execution_count": 51,
      "outputs": [
        {
          "output_type": "stream",
          "name": "stdout",
          "text": [
            "313/313 [==============================] - 1s 2ms/step - loss: 0.3925 - accuracy: 0.8573\n"
          ]
        },
        {
          "output_type": "execute_result",
          "data": {
            "text/plain": [
              "array([[7.7829145e-06, 1.0914969e-07, 5.7775028e-06, 2.0412743e-07,\n",
              "        1.9524659e-07, 9.9981564e-01, 4.9173891e-06, 1.4654615e-04,\n",
              "        3.0980182e-06, 1.5704656e-05]], dtype=float32)"
            ]
          },
          "metadata": {},
          "execution_count": 51
        }
      ]
    },
    {
      "cell_type": "markdown",
      "source": [
        "## Create a model using SubClassing API"
      ],
      "metadata": {
        "id": "hMU-FVXko-gg"
      }
    },
    {
      "cell_type": "code",
      "source": [
        "class CustomModel(keras.Model):\n",
        "  def __init__(self, n_neurons=128, activation='relu'):\n",
        "    super().__init__()\n",
        "    # Define layers only.\n",
        "    # Dont connect them.\n",
        "    self.d1 = keras.layers.Dense(n_neurons, activation=activation, name='dense_1')\n",
        "    self.d2 = keras.layers.Dense(n_neurons, activation=activation, name='dense_2')\n",
        "    self.d3 = keras.layers.Dense(n_neurons, activation=activation, name='dense_3')\n",
        "    self.output_ = keras.layers.Dense(10, activation='softmax', name='output_')\n",
        "\n",
        "  def call(self, X):\n",
        "    #where X is input\n",
        "    x = self.d1(X)\n",
        "    x = self.d2(x)\n",
        "    x = self.d3(x)\n",
        "    out = self.output_(x)\n",
        "\n",
        "    return out\n"
      ],
      "metadata": {
        "id": "JCKcscsHj6fh"
      },
      "execution_count": 61,
      "outputs": []
    },
    {
      "cell_type": "code",
      "source": [
        "model2 = CustomModel()\n",
        "model2.compile(\n",
        "    loss=\"sparse_categorical_crossentropy\",\n",
        "    optimizer=keras.optimizers.Adam(learning_rate=1e-4),\n",
        "    metrics=[\"accuracy\"]\n",
        ")\n",
        "\n",
        "# fit the model\n",
        "history = model2.fit(X_train, y_train, validation_data=(X_valid, y_valid), epochs=30)"
      ],
      "metadata": {
        "colab": {
          "base_uri": "https://localhost:8080/"
        },
        "id": "ttfSUs11pJro",
        "outputId": "1db006db-83d9-4b4d-c502-1d6aac8f3840"
      },
      "execution_count": 64,
      "outputs": [
        {
          "output_type": "stream",
          "name": "stdout",
          "text": [
            "Epoch 1/30\n",
            "1407/1407 [==============================] - 6s 4ms/step - loss: 0.5914 - accuracy: 0.7967 - val_loss: 0.4073 - val_accuracy: 0.8525\n",
            "Epoch 2/30\n",
            "1407/1407 [==============================] - 6s 4ms/step - loss: 0.3770 - accuracy: 0.8643 - val_loss: 0.3674 - val_accuracy: 0.8652\n",
            "Epoch 3/30\n",
            "1407/1407 [==============================] - 5s 4ms/step - loss: 0.3350 - accuracy: 0.8794 - val_loss: 0.3485 - val_accuracy: 0.8709\n",
            "Epoch 4/30\n",
            "1407/1407 [==============================] - 6s 4ms/step - loss: 0.3072 - accuracy: 0.8892 - val_loss: 0.3352 - val_accuracy: 0.8780\n",
            "Epoch 5/30\n",
            "1407/1407 [==============================] - 6s 4ms/step - loss: 0.2851 - accuracy: 0.8975 - val_loss: 0.3277 - val_accuracy: 0.8815\n",
            "Epoch 6/30\n",
            "1407/1407 [==============================] - 5s 4ms/step - loss: 0.2672 - accuracy: 0.9031 - val_loss: 0.3245 - val_accuracy: 0.8813\n",
            "Epoch 7/30\n",
            "1407/1407 [==============================] - 6s 4ms/step - loss: 0.2512 - accuracy: 0.9090 - val_loss: 0.3261 - val_accuracy: 0.8822\n",
            "Epoch 8/30\n",
            "1407/1407 [==============================] - 5s 4ms/step - loss: 0.2358 - accuracy: 0.9140 - val_loss: 0.3207 - val_accuracy: 0.8835\n",
            "Epoch 9/30\n",
            "1407/1407 [==============================] - 6s 4ms/step - loss: 0.2238 - accuracy: 0.9194 - val_loss: 0.3222 - val_accuracy: 0.8838\n",
            "Epoch 10/30\n",
            "1407/1407 [==============================] - 5s 4ms/step - loss: 0.2116 - accuracy: 0.9245 - val_loss: 0.3057 - val_accuracy: 0.8902\n",
            "Epoch 11/30\n",
            "1407/1407 [==============================] - 6s 4ms/step - loss: 0.1999 - accuracy: 0.9280 - val_loss: 0.3125 - val_accuracy: 0.8881\n",
            "Epoch 12/30\n",
            "1407/1407 [==============================] - 5s 4ms/step - loss: 0.1891 - accuracy: 0.9314 - val_loss: 0.3179 - val_accuracy: 0.8895\n",
            "Epoch 13/30\n",
            "1407/1407 [==============================] - 6s 4ms/step - loss: 0.1803 - accuracy: 0.9356 - val_loss: 0.3140 - val_accuracy: 0.8890\n",
            "Epoch 14/30\n",
            "1407/1407 [==============================] - 5s 4ms/step - loss: 0.1702 - accuracy: 0.9394 - val_loss: 0.3279 - val_accuracy: 0.8887\n",
            "Epoch 15/30\n",
            "1407/1407 [==============================] - 5s 4ms/step - loss: 0.1621 - accuracy: 0.9424 - val_loss: 0.3193 - val_accuracy: 0.8903\n",
            "Epoch 16/30\n",
            "1407/1407 [==============================] - 5s 4ms/step - loss: 0.1534 - accuracy: 0.9465 - val_loss: 0.3286 - val_accuracy: 0.8907\n",
            "Epoch 17/30\n",
            "1407/1407 [==============================] - 5s 4ms/step - loss: 0.1443 - accuracy: 0.9492 - val_loss: 0.3399 - val_accuracy: 0.8876\n",
            "Epoch 18/30\n",
            "1407/1407 [==============================] - 6s 4ms/step - loss: 0.1369 - accuracy: 0.9536 - val_loss: 0.3504 - val_accuracy: 0.8878\n",
            "Epoch 19/30\n",
            "1407/1407 [==============================] - 5s 4ms/step - loss: 0.1289 - accuracy: 0.9551 - val_loss: 0.3450 - val_accuracy: 0.8899\n",
            "Epoch 20/30\n",
            "1407/1407 [==============================] - 5s 4ms/step - loss: 0.1226 - accuracy: 0.9575 - val_loss: 0.3583 - val_accuracy: 0.8893\n",
            "Epoch 21/30\n",
            "1407/1407 [==============================] - 5s 4ms/step - loss: 0.1160 - accuracy: 0.9608 - val_loss: 0.3593 - val_accuracy: 0.8903\n",
            "Epoch 22/30\n",
            "1407/1407 [==============================] - 6s 4ms/step - loss: 0.1085 - accuracy: 0.9623 - val_loss: 0.3645 - val_accuracy: 0.8887\n",
            "Epoch 23/30\n",
            "1407/1407 [==============================] - 6s 5ms/step - loss: 0.1036 - accuracy: 0.9640 - val_loss: 0.3827 - val_accuracy: 0.8866\n",
            "Epoch 24/30\n",
            "1407/1407 [==============================] - 5s 4ms/step - loss: 0.0959 - accuracy: 0.9683 - val_loss: 0.3888 - val_accuracy: 0.8888\n",
            "Epoch 25/30\n",
            "1407/1407 [==============================] - 5s 4ms/step - loss: 0.0925 - accuracy: 0.9682 - val_loss: 0.3944 - val_accuracy: 0.8883\n",
            "Epoch 26/30\n",
            "1407/1407 [==============================] - 5s 4ms/step - loss: 0.0857 - accuracy: 0.9717 - val_loss: 0.4212 - val_accuracy: 0.8833\n",
            "Epoch 27/30\n",
            "1407/1407 [==============================] - 5s 4ms/step - loss: 0.0825 - accuracy: 0.9730 - val_loss: 0.4103 - val_accuracy: 0.8879\n",
            "Epoch 28/30\n",
            "1407/1407 [==============================] - 5s 4ms/step - loss: 0.0770 - accuracy: 0.9744 - val_loss: 0.4310 - val_accuracy: 0.8865\n",
            "Epoch 29/30\n",
            "1407/1407 [==============================] - 6s 4ms/step - loss: 0.0735 - accuracy: 0.9756 - val_loss: 0.4256 - val_accuracy: 0.8900\n",
            "Epoch 30/30\n",
            "1407/1407 [==============================] - 5s 4ms/step - loss: 0.0685 - accuracy: 0.9780 - val_loss: 0.4532 - val_accuracy: 0.8871\n"
          ]
        }
      ]
    },
    {
      "cell_type": "code",
      "source": [
        "model2.evaluate(X_test, y_test)\n",
        "model2.predict(X_train[0:1])"
      ],
      "metadata": {
        "colab": {
          "base_uri": "https://localhost:8080/"
        },
        "id": "3Spp_C_Hqxxh",
        "outputId": "574d9fe2-5a8a-4622-f457-f149a979d408"
      },
      "execution_count": 67,
      "outputs": [
        {
          "output_type": "stream",
          "name": "stdout",
          "text": [
            "313/313 [==============================] - 1s 2ms/step - loss: 0.5211 - accuracy: 0.8773\n"
          ]
        },
        {
          "output_type": "execute_result",
          "data": {
            "text/plain": [
              "array([[3.7311070e-12, 5.4686100e-10, 1.7572079e-11, 1.8204048e-09,\n",
              "        4.9928516e-11, 9.9999964e-01, 5.7879219e-11, 4.1512851e-07,\n",
              "        2.9245523e-10, 2.7598676e-10]], dtype=float32)"
            ]
          },
          "metadata": {},
          "execution_count": 67
        }
      ]
    },
    {
      "cell_type": "code",
      "source": [
        "k = history.history.keys()\n",
        "\n",
        "from matplotlib.pyplot import figure\n",
        "\n",
        "figure(figsize=(8, 6), dpi=80)\n",
        "\n",
        "for k_i in k:\n",
        "  plt.plot(history.history[str(k_i)], label=str(k_i))\n",
        "  \n",
        "plt.legend()\n",
        "plt.xlabel('epoch #')\n",
        "plt.grid()"
      ],
      "metadata": {
        "colab": {
          "base_uri": "https://localhost:8080/",
          "height": 427
        },
        "id": "IfPFYwyQq8dI",
        "outputId": "5a648c0e-b651-48f1-b995-a7a2bd784260"
      },
      "execution_count": 68,
      "outputs": [
        {
          "output_type": "display_data",
          "data": {
            "text/plain": [
              "<Figure size 640x480 with 1 Axes>"
            ],
            "image/png": "[encoded data removed]"
          },
          "metadata": {
            "needs_background": "light"
          }
        }
      ]
    },
    {
      "cell_type": "markdown",
      "source": [
        "## More Complex, Two input SubClass API Example\n",
        "For this example, california housing from sklearn will be used."
      ],
      "metadata": {
        "id": "FEAvSDjlsksH"
      }
    },
    {
      "cell_type": "code",
      "source": [
        "from sklearn.datasets import fetch_california_housing\n",
        "from sklearn.model_selection import train_test_split\n",
        "from sklearn.preprocessing import StandardScaler"
      ],
      "metadata": {
        "id": "SlkNgPGxrP64"
      },
      "execution_count": 69,
      "outputs": []
    },
    {
      "cell_type": "code",
      "source": [
        "housing = fetch_california_housing()\n",
        "X_train_full, X_test, y_train_full, y_test = train_test_split(housing.data, housing.target)\n",
        "X_train, X_valid, y_train, y_valid = train_test_split(X_train_full, y_train_full)\n",
        "\n",
        "sc = StandardScaler()\n",
        "X_train = sc.fit_transform(X_train)\n",
        "X_valid = sc.fit_transform(X_valid)\n",
        "X_test = sc.fit_transform(X_test)\n",
        "\n",
        "X_train_A, X_train_B = X_train[:, :5], X_train[:, 2:]\n",
        "X_valid_A, X_valid_B = X_valid[:, :5], X_valid[:, 2:]"
      ],
      "metadata": {
        "id": "9nAQoAL04F1Q"
      },
      "execution_count": 89,
      "outputs": []
    },
    {
      "cell_type": "code",
      "source": [
        "class CustomModel(keras.Model):\n",
        "  def __init__(self, n_neurons=32, activation='relu'):\n",
        "    super().__init__()\n",
        "    # Define layers only.\n",
        "    # Dont connect them.\n",
        "    self.d1 = keras.layers.Dense(n_neurons, activation=activation, name='dense_1')\n",
        "    self.d2 = keras.layers.Dense(n_neurons, activation=activation, name='dense_2')\n",
        "    self.d3 = keras.layers.Dense(n_neurons, activation=activation, name='dense_3')\n",
        "    self.output_ = keras.layers.Dense(1, name='output_')\n",
        "\n",
        "  def call(self, X):\n",
        "    #where X is input\n",
        "    x = self.d1(X)\n",
        "    x = self.d2(x)\n",
        "    x = self.d3(x)\n",
        "    out = self.output_(x)\n",
        "    return out\n",
        "\n",
        "  "
      ],
      "metadata": {
        "id": "tcJb0omP4rkh"
      },
      "execution_count": 71,
      "outputs": []
    },
    {
      "cell_type": "code",
      "source": [
        "model2 = CustomModel()\n",
        "model2.compile(\n",
        "    loss=\"mse\",\n",
        "    optimizer=keras.optimizers.Adam(learning_rate=1e-4)\n",
        ")\n",
        "\n",
        "# fit the model\n",
        "history = model2.fit(X_train, y_train, validation_data=(X_valid, y_valid), epochs=30)"
      ],
      "metadata": {
        "colab": {
          "base_uri": "https://localhost:8080/"
        },
        "id": "V6YOqusZ5CGA",
        "outputId": "b6347dc0-41b9-4a9a-c862-f495dd4547dd"
      },
      "execution_count": 74,
      "outputs": [
        {
          "output_type": "stream",
          "name": "stdout",
          "text": [
            "Epoch 1/30\n",
            "363/363 [==============================] - 1s 2ms/step - loss: 2.8389 - val_loss: 1.4458\n",
            "Epoch 2/30\n",
            "363/363 [==============================] - 1s 2ms/step - loss: 1.0560 - val_loss: 0.8670\n",
            "Epoch 3/30\n",
            "363/363 [==============================] - 1s 2ms/step - loss: 0.7288 - val_loss: 0.6994\n",
            "Epoch 4/30\n",
            "363/363 [==============================] - 1s 2ms/step - loss: 0.6095 - val_loss: 0.6236\n",
            "Epoch 5/30\n",
            "363/363 [==============================] - 1s 2ms/step - loss: 0.5417 - val_loss: 0.5712\n",
            "Epoch 6/30\n",
            "363/363 [==============================] - 1s 2ms/step - loss: 0.4955 - val_loss: 0.5319\n",
            "Epoch 7/30\n",
            "363/363 [==============================] - 1s 2ms/step - loss: 0.4625 - val_loss: 0.5056\n",
            "Epoch 8/30\n",
            "363/363 [==============================] - 1s 2ms/step - loss: 0.4372 - val_loss: 0.4860\n",
            "Epoch 9/30\n",
            "363/363 [==============================] - 1s 2ms/step - loss: 0.4184 - val_loss: 0.4666\n",
            "Epoch 10/30\n",
            "363/363 [==============================] - 1s 2ms/step - loss: 0.4040 - val_loss: 0.4559\n",
            "Epoch 11/30\n",
            "363/363 [==============================] - 1s 2ms/step - loss: 0.3933 - val_loss: 0.4447\n",
            "Epoch 12/30\n",
            "363/363 [==============================] - 1s 2ms/step - loss: 0.3842 - val_loss: 0.4401\n",
            "Epoch 13/30\n",
            "363/363 [==============================] - 1s 2ms/step - loss: 0.3773 - val_loss: 0.4310\n",
            "Epoch 14/30\n",
            "363/363 [==============================] - 1s 2ms/step - loss: 0.3713 - val_loss: 0.4274\n",
            "Epoch 15/30\n",
            "363/363 [==============================] - 1s 2ms/step - loss: 0.3670 - val_loss: 0.4233\n",
            "Epoch 16/30\n",
            "363/363 [==============================] - 1s 2ms/step - loss: 0.3626 - val_loss: 0.4195\n",
            "Epoch 17/30\n",
            "363/363 [==============================] - 1s 2ms/step - loss: 0.3595 - val_loss: 0.4181\n",
            "Epoch 18/30\n",
            "363/363 [==============================] - 1s 3ms/step - loss: 0.3567 - val_loss: 0.4161\n",
            "Epoch 19/30\n",
            "363/363 [==============================] - 2s 4ms/step - loss: 0.3536 - val_loss: 0.4122\n",
            "Epoch 20/30\n",
            "363/363 [==============================] - 1s 4ms/step - loss: 0.3507 - val_loss: 0.4104\n",
            "Epoch 21/30\n",
            "363/363 [==============================] - 1s 2ms/step - loss: 0.3483 - val_loss: 0.4088\n",
            "Epoch 22/30\n",
            "363/363 [==============================] - 1s 2ms/step - loss: 0.3458 - val_loss: 0.4082\n",
            "Epoch 23/30\n",
            "363/363 [==============================] - 1s 2ms/step - loss: 0.3439 - val_loss: 0.4066\n",
            "Epoch 24/30\n",
            "363/363 [==============================] - 1s 2ms/step - loss: 0.3421 - val_loss: 0.4051\n",
            "Epoch 25/30\n",
            "363/363 [==============================] - 1s 2ms/step - loss: 0.3397 - val_loss: 0.4040\n",
            "Epoch 26/30\n",
            "363/363 [==============================] - 1s 2ms/step - loss: 0.3381 - val_loss: 0.3984\n",
            "Epoch 27/30\n",
            "363/363 [==============================] - 1s 2ms/step - loss: 0.3363 - val_loss: 0.3975\n",
            "Epoch 28/30\n",
            "363/363 [==============================] - 1s 2ms/step - loss: 0.3344 - val_loss: 0.4023\n",
            "Epoch 29/30\n",
            "363/363 [==============================] - 1s 2ms/step - loss: 0.3330 - val_loss: 0.4038\n",
            "Epoch 30/30\n",
            "363/363 [==============================] - 1s 3ms/step - loss: 0.3312 - val_loss: 0.4033\n"
          ]
        }
      ]
    },
    {
      "cell_type": "code",
      "source": [
        "k = history.history.keys()\n",
        "\n",
        "from matplotlib.pyplot import figure\n",
        "\n",
        "figure(figsize=(8, 6), dpi=80)\n",
        "\n",
        "for k_i in k:\n",
        "  plt.plot(history.history[str(k_i)], label=str(k_i))\n",
        "  \n",
        "plt.legend()\n",
        "plt.xlabel('epoch #')\n",
        "plt.grid()"
      ],
      "metadata": {
        "colab": {
          "base_uri": "https://localhost:8080/",
          "height": 427
        },
        "id": "A0KQ1p7w5JGQ",
        "outputId": "7dbcbe21-1e65-43d8-8139-bad3da46762e"
      },
      "execution_count": 75,
      "outputs": [
        {
          "output_type": "display_data",
          "data": {
            "text/plain": [
              "<Figure size 640x480 with 1 Axes>"
            ],
            "image/png": "[encoded data removed]"
          },
          "metadata": {
            "needs_background": "light"
          }
        }
      ]
    },
    {
      "cell_type": "markdown",
      "source": [
        "# Two Inputs SubClass API"
      ],
      "metadata": {
        "id": "wGy_2fqj57h3"
      }
    },
    {
      "cell_type": "code",
      "source": [
        "input_A = keras.layers.Input(shape=X_train_A.shape[1:], name='input_layer_A')\n",
        "input_B = keras.layers.Input(shape=X_train_B.shape[1:], name='input_layer_B')\n",
        "\n",
        "h1 = keras.layers.Dense(30, activation='relu')(input_B)\n",
        "h2 = keras.layers.Dense(30, activation='relu')(h1)\n",
        "\n",
        "concat = keras.layers.Concatenate()([input_A, h2])\n",
        "output = keras.layers.Dense(1, name='output')(concat)\n",
        "\n",
        "model = keras.Model(inputs=[input_A, input_B], outputs=[output])\n",
        "\n",
        "keras.utils.plot_model(model, show_shapes=True)"
      ],
      "metadata": {
        "colab": {
          "base_uri": "https://localhost:8080/",
          "height": 533
        },
        "id": "j_TqL-ZD5ZAX",
        "outputId": "dd9902f0-e05e-4096-bf24-31d045234096"
      },
      "execution_count": 92,
      "outputs": [
        {
          "output_type": "execute_result",
          "data": {
            "image/png": "[encoded data removed]",
            "text/plain": [
              "<IPython.core.display.Image object>"
            ]
          },
          "metadata": {},
          "execution_count": 92
        }
      ]
    },
    {
      "cell_type": "code",
      "source": [
        "class WideModel(keras.Model):\n",
        "  def __init__(self, n_neurons=32, activation='relu'):\n",
        "    super().__init__()\n",
        "    # Define layers only.\n",
        "    # Dont connect them.\n",
        "    self.h1 = keras.layers.Dense(n_neurons, activation='relu')\n",
        "    self.h2 = keras.layers.Dense(n_neurons, activation='relu')\n",
        "    self.output_ = keras.layers.Dense(1, name='output')\n",
        "\n",
        "  def call(self, inputs_):\n",
        "    #where X is input\n",
        "    input_A, input_B = inputs_\n",
        "    h1 = self.h1(input_B)\n",
        "    h2 = self.h2(h1)\n",
        "    concat = keras.layers.concatenate([input_A, h2])\n",
        "    out = self.output_(concat)\n",
        "    return out"
      ],
      "metadata": {
        "id": "vozG-ohh6cYU"
      },
      "execution_count": 103,
      "outputs": []
    },
    {
      "cell_type": "code",
      "source": [
        "X_train_A, X_train_B = X_train[:, :5], X_train[:, 2:]\n",
        "X_valid_A, X_valid_B = X_valid[:, :5], X_valid[:, 2:]"
      ],
      "metadata": {
        "id": "tIdNlupu7Cp1"
      },
      "execution_count": 104,
      "outputs": []
    },
    {
      "cell_type": "code",
      "source": [
        "model2 = WideModel()\n",
        "model2.compile(\n",
        "    loss=\"mse\",\n",
        "    optimizer=keras.optimizers.Adam(learning_rate=1e-4)\n",
        ")\n",
        "\n",
        "# fit the model\n",
        "history = model2.fit([X_train_A, X_train_B], y_train, epochs=30)"
      ],
      "metadata": {
        "colab": {
          "base_uri": "https://localhost:8080/"
        },
        "id": "e4LA3a6Q7Jg_",
        "outputId": "67a3a548-811f-4ec2-ba87-7b5fd36503b8"
      },
      "execution_count": 105,
      "outputs": [
        {
          "output_type": "stream",
          "name": "stdout",
          "text": [
            "Epoch 1/30\n",
            "363/363 [==============================] - 1s 2ms/step - loss: 4.9906\n",
            "Epoch 2/30\n",
            "363/363 [==============================] - 1s 2ms/step - loss: 2.7872\n",
            "Epoch 3/30\n",
            "363/363 [==============================] - 1s 2ms/step - loss: 1.7311\n",
            "Epoch 4/30\n",
            "363/363 [==============================] - 1s 2ms/step - loss: 1.3721\n",
            "Epoch 5/30\n",
            "363/363 [==============================] - 1s 2ms/step - loss: 1.1803\n",
            "Epoch 6/30\n",
            "363/363 [==============================] - 1s 2ms/step - loss: 1.0296\n",
            "Epoch 7/30\n",
            "363/363 [==============================] - 1s 2ms/step - loss: 0.9068\n",
            "Epoch 8/30\n",
            "363/363 [==============================] - 1s 3ms/step - loss: 0.8033\n",
            "Epoch 9/30\n",
            "363/363 [==============================] - 1s 3ms/step - loss: 0.7172\n",
            "Epoch 10/30\n",
            "363/363 [==============================] - 1s 2ms/step - loss: 0.6468\n",
            "Epoch 11/30\n",
            "363/363 [==============================] - 1s 3ms/step - loss: 0.5930\n",
            "Epoch 12/30\n",
            "363/363 [==============================] - 1s 2ms/step - loss: 0.5555\n",
            "Epoch 13/30\n",
            "363/363 [==============================] - 1s 2ms/step - loss: 0.5290\n",
            "Epoch 14/30\n",
            "363/363 [==============================] - 1s 2ms/step - loss: 0.5099\n",
            "Epoch 15/30\n",
            "363/363 [==============================] - 1s 2ms/step - loss: 0.4946\n",
            "Epoch 16/30\n",
            "363/363 [==============================] - 1s 2ms/step - loss: 0.4818\n",
            "Epoch 17/30\n",
            "363/363 [==============================] - 1s 2ms/step - loss: 0.4716\n",
            "Epoch 18/30\n",
            "363/363 [==============================] - 1s 2ms/step - loss: 0.4619\n",
            "Epoch 19/30\n",
            "363/363 [==============================] - 1s 2ms/step - loss: 0.4533\n",
            "Epoch 20/30\n",
            "363/363 [==============================] - 1s 2ms/step - loss: 0.4453\n",
            "Epoch 21/30\n",
            "363/363 [==============================] - 1s 2ms/step - loss: 0.4383\n",
            "Epoch 22/30\n",
            "363/363 [==============================] - 1s 2ms/step - loss: 0.4319\n",
            "Epoch 23/30\n",
            "363/363 [==============================] - 1s 2ms/step - loss: 0.4267\n",
            "Epoch 24/30\n",
            "363/363 [==============================] - 1s 2ms/step - loss: 0.4216\n",
            "Epoch 25/30\n",
            "363/363 [==============================] - 1s 2ms/step - loss: 0.4173\n",
            "Epoch 26/30\n",
            "363/363 [==============================] - 1s 2ms/step - loss: 0.4131\n",
            "Epoch 27/30\n",
            "363/363 [==============================] - 1s 2ms/step - loss: 0.4096\n",
            "Epoch 28/30\n",
            "363/363 [==============================] - 1s 2ms/step - loss: 0.4066\n",
            "Epoch 29/30\n",
            "363/363 [==============================] - 1s 2ms/step - loss: 0.4033\n",
            "Epoch 30/30\n",
            "363/363 [==============================] - 1s 2ms/step - loss: 0.4007\n"
          ]
        }
      ]
    },
    {
      "cell_type": "code",
      "source": [
        "keras.utils.plot_model(model2, show_shapes=True) #since it is created with SubClass API, tensorflow can plot the model"
      ],
      "metadata": {
        "colab": {
          "base_uri": "https://localhost:8080/",
          "height": 77
        },
        "id": "S1VcenCd7oQN",
        "outputId": "6c6f73f5-b428-45d0-ce76-1570ee673816"
      },
      "execution_count": 107,
      "outputs": [
        {
          "output_type": "execute_result",
          "data": {
            "image/png": "[encoded data removed]",
            "text/plain": [
              "<IPython.core.display.Image object>"
            ]
          },
          "metadata": {},
          "execution_count": 107
        }
      ]
    },
    {
      "cell_type": "code",
      "source": [
        "model2.summary()"
      ],
      "metadata": {
        "colab": {
          "base_uri": "https://localhost:8080/"
        },
        "id": "HmHXRrk5AS8w",
        "outputId": "dd8eea37-ad61-49e4-95ed-e9bf02d51fdc"
      },
      "execution_count": 108,
      "outputs": [
        {
          "output_type": "stream",
          "name": "stdout",
          "text": [
            "Model: \"wide_model_8\"\n",
            "_________________________________________________________________\n",
            " Layer (type)                Output Shape              Param #   \n",
            "=================================================================\n",
            " dense_17 (Dense)            multiple                  224       \n",
            "                                                                 \n",
            " dense_18 (Dense)            multiple                  1056      \n",
            "                                                                 \n",
            " output (Dense)              multiple                  38        \n",
            "                                                                 \n",
            "=================================================================\n",
            "Total params: 1,318\n",
            "Trainable params: 1,318\n",
            "Non-trainable params: 0\n",
            "_________________________________________________________________\n"
          ]
        }
      ]
    },
    {
      "cell_type": "code",
      "source": [],
      "metadata": {
        "id": "v1eXKulSAZbX"
      },
      "execution_count": null,
      "outputs": []
    }
  ]
}